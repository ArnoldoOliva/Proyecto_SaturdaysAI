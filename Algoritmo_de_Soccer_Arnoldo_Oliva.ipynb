{
  "nbformat": 4,
  "nbformat_minor": 0,
  "metadata": {
    "colab": {
      "name": "Algoritmo de Soccer Arnoldo Oliva",
      "provenance": [],
      "collapsed_sections": [],
      "include_colab_link": true
    },
    "kernelspec": {
      "name": "python3",
      "display_name": "Python 3"
    }
  },
  "cells": [
    {
      "cell_type": "markdown",
      "metadata": {
        "id": "view-in-github",
        "colab_type": "text"
      },
      "source": [
        "<a href=\"https://colab.research.google.com/github/ArnoldoOliva/Proyecto_SaturdaysAI/blob/master/Algoritmo_de_Soccer_Arnoldo_Oliva.ipynb\" target=\"_parent\"><img src=\"https://colab.research.google.com/assets/colab-badge.svg\" alt=\"Open In Colab\"/></a>"
      ]
    },
    {
      "cell_type": "markdown",
      "metadata": {
        "id": "Rh-Lru6Jx9_U",
        "colab_type": "text"
      },
      "source": [
        "Librerías"
      ]
    },
    {
      "cell_type": "code",
      "metadata": {
        "id": "MfTbLC2vxs-w",
        "colab_type": "code",
        "outputId": "eed3dbde-8c60-49d8-8ccb-97dc1cd91b65",
        "colab": {
          "base_uri": "https://localhost:8080/",
          "height": 343
        }
      },
      "source": [
        "#Importacion de librerias\n",
        "\n",
        "import pandas as pd\n",
        "import numpy as np\n",
        "import matplotlib.pyplot as plt\n",
        "%matplotlib inline\n",
        "from statsmodels.tools.eval_measures import rmse\n",
        "from sklearn import preprocessing\n",
        "import warnings\n",
        "warnings.filterwarnings(\"ignore\")\n",
        "from sklearn.model_selection import train_test_split\n",
        "from sklearn.ensemble import RandomForestRegressor\n",
        "!pip install eli5\n",
        "import eli5\n",
        "from eli5.sklearn import PermutationImportance\n",
        "from sklearn.base import clone \n",
        "from sklearn.preprocessing import MinMaxScaler\n",
        "import xgboost\n",
        "import csv as csv\n",
        "from xgboost import plot_importance\n",
        "from matplotlib import pyplot\n",
        "from sklearn.model_selection import cross_val_score,KFold\n",
        "from sklearn.metrics import mean_absolute_error\n",
        "from scipy.stats import skew\n",
        "from collections import OrderedDict\n",
        "import time\n",
        "from sklearn import linear_model\n",
        "import statsmodels.api as sm\n",
        "from sklearn.decomposition import PCA\n"
      ],
      "execution_count": 0,
      "outputs": [
        {
          "output_type": "stream",
          "text": [
            "/usr/local/lib/python3.6/dist-packages/statsmodels/tools/_testing.py:19: FutureWarning: pandas.util.testing is deprecated. Use the functions in the public API at pandas.testing instead.\n",
            "  import pandas.util.testing as tm\n"
          ],
          "name": "stderr"
        },
        {
          "output_type": "stream",
          "text": [
            "Collecting eli5\n",
            "\u001b[?25l  Downloading https://files.pythonhosted.org/packages/97/2f/c85c7d8f8548e460829971785347e14e45fa5c6617da374711dec8cb38cc/eli5-0.10.1-py2.py3-none-any.whl (105kB)\n",
            "\r\u001b[K     |███                             | 10kB 17.2MB/s eta 0:00:01\r\u001b[K     |██████▏                         | 20kB 6.5MB/s eta 0:00:01\r\u001b[K     |█████████▎                      | 30kB 7.2MB/s eta 0:00:01\r\u001b[K     |████████████▍                   | 40kB 8.7MB/s eta 0:00:01\r\u001b[K     |███████████████▌                | 51kB 7.3MB/s eta 0:00:01\r\u001b[K     |██████████████████▋             | 61kB 8.0MB/s eta 0:00:01\r\u001b[K     |█████████████████████▊          | 71kB 8.6MB/s eta 0:00:01\r\u001b[K     |████████████████████████▊       | 81kB 8.8MB/s eta 0:00:01\r\u001b[K     |███████████████████████████▉    | 92kB 8.9MB/s eta 0:00:01\r\u001b[K     |███████████████████████████████ | 102kB 9.6MB/s eta 0:00:01\r\u001b[K     |████████████████████████████████| 112kB 9.6MB/s \n",
            "\u001b[?25hRequirement already satisfied: tabulate>=0.7.7 in /usr/local/lib/python3.6/dist-packages (from eli5) (0.8.7)\n",
            "Requirement already satisfied: six in /usr/local/lib/python3.6/dist-packages (from eli5) (1.12.0)\n",
            "Requirement already satisfied: graphviz in /usr/local/lib/python3.6/dist-packages (from eli5) (0.10.1)\n",
            "Requirement already satisfied: jinja2 in /usr/local/lib/python3.6/dist-packages (from eli5) (2.11.2)\n",
            "Requirement already satisfied: scipy in /usr/local/lib/python3.6/dist-packages (from eli5) (1.4.1)\n",
            "Requirement already satisfied: numpy>=1.9.0 in /usr/local/lib/python3.6/dist-packages (from eli5) (1.18.4)\n",
            "Requirement already satisfied: scikit-learn>=0.18 in /usr/local/lib/python3.6/dist-packages (from eli5) (0.22.2.post1)\n",
            "Requirement already satisfied: attrs>16.0.0 in /usr/local/lib/python3.6/dist-packages (from eli5) (19.3.0)\n",
            "Requirement already satisfied: MarkupSafe>=0.23 in /usr/local/lib/python3.6/dist-packages (from jinja2->eli5) (1.1.1)\n",
            "Requirement already satisfied: joblib>=0.11 in /usr/local/lib/python3.6/dist-packages (from scikit-learn>=0.18->eli5) (0.15.1)\n",
            "Installing collected packages: eli5\n",
            "Successfully installed eli5-0.10.1\n"
          ],
          "name": "stdout"
        },
        {
          "output_type": "stream",
          "text": [
            "Using TensorFlow backend.\n"
          ],
          "name": "stderr"
        }
      ]
    },
    {
      "cell_type": "markdown",
      "metadata": {
        "id": "ik6LI-EFyBgH",
        "colab_type": "text"
      },
      "source": [
        "Importación de datos\n"
      ]
    },
    {
      "cell_type": "code",
      "metadata": {
        "id": "3hFqGsKSx80O",
        "colab_type": "code",
        "outputId": "09114776-9453-4f86-e3dd-45efc593d97e",
        "colab": {
          "base_uri": "https://localhost:8080/",
          "height": 122
        }
      },
      "source": [
        "from google.colab import drive\n",
        "drive.mount('/content/drive')"
      ],
      "execution_count": 0,
      "outputs": [
        {
          "output_type": "stream",
          "text": [
            "Go to this URL in a browser: https://accounts.google.com/o/oauth2/auth?client_id=947318989803-6bn6qk8qdgf4n4g3pfee6491hc0brc4i.apps.googleusercontent.com&redirect_uri=urn%3aietf%3awg%3aoauth%3a2.0%3aoob&response_type=code&scope=email%20https%3a%2f%2fwww.googleapis.com%2fauth%2fdocs.test%20https%3a%2f%2fwww.googleapis.com%2fauth%2fdrive%20https%3a%2f%2fwww.googleapis.com%2fauth%2fdrive.photos.readonly%20https%3a%2f%2fwww.googleapis.com%2fauth%2fpeopleapi.readonly\n",
            "\n",
            "Enter your authorization code:\n",
            "··········\n",
            "Mounted at /content/drive\n"
          ],
          "name": "stdout"
        }
      ]
    },
    {
      "cell_type": "markdown",
      "metadata": {
        "id": "aC2YPproOjM3",
        "colab_type": "text"
      },
      "source": [
        "# Datos originales"
      ]
    },
    {
      "cell_type": "code",
      "metadata": {
        "id": "7U7ur9aIx89Z",
        "colab_type": "code",
        "outputId": "0ed98b21-c575-4f73-fd71-f0d36f75ad4a",
        "colab": {
          "base_uri": "https://localhost:8080/",
          "height": 338
        }
      },
      "source": [
        "#Leer dataset de 115 columnas:\n",
        "\"\"\" identificadores de partidos, ligas y equipos\n",
        "posiciones/coordenadas (partidos en cuadrantes del campo) de jugadores de ambos equipos\n",
        "variables que miden desempeño del jugador\n",
        "momios de casas de apuestas\"\"\"\n",
        "\n",
        "\n",
        "path = \"/content/drive/My Drive/algoritmos/fut/match_copia.xlsx\"\n",
        "df = pd.read_excel(path)\n",
        "df.head()"
      ],
      "execution_count": 0,
      "outputs": [
        {
          "output_type": "execute_result",
          "data": {
            "text/html": [
              "<div>\n",
              "<style scoped>\n",
              "    .dataframe tbody tr th:only-of-type {\n",
              "        vertical-align: middle;\n",
              "    }\n",
              "\n",
              "    .dataframe tbody tr th {\n",
              "        vertical-align: top;\n",
              "    }\n",
              "\n",
              "    .dataframe thead th {\n",
              "        text-align: right;\n",
              "    }\n",
              "</style>\n",
              "<table border=\"1\" class=\"dataframe\">\n",
              "  <thead>\n",
              "    <tr style=\"text-align: right;\">\n",
              "      <th></th>\n",
              "      <th>id</th>\n",
              "      <th>country_id</th>\n",
              "      <th>date</th>\n",
              "      <th>season</th>\n",
              "      <th>league_id</th>\n",
              "      <th>stage</th>\n",
              "      <th>match_api_id</th>\n",
              "      <th>home_team_api_id</th>\n",
              "      <th>away_team_api_id</th>\n",
              "      <th>home_team_goal</th>\n",
              "      <th>away_team_goal</th>\n",
              "      <th>home_player_X1</th>\n",
              "      <th>home_player_X2</th>\n",
              "      <th>home_player_X3</th>\n",
              "      <th>home_player_X4</th>\n",
              "      <th>home_player_X5</th>\n",
              "      <th>home_player_X6</th>\n",
              "      <th>home_player_X7</th>\n",
              "      <th>home_player_X8</th>\n",
              "      <th>home_player_X9</th>\n",
              "      <th>home_player_X10</th>\n",
              "      <th>home_player_X11</th>\n",
              "      <th>away_player_X1</th>\n",
              "      <th>away_player_X2</th>\n",
              "      <th>away_player_X3</th>\n",
              "      <th>away_player_X4</th>\n",
              "      <th>away_player_X5</th>\n",
              "      <th>away_player_X6</th>\n",
              "      <th>away_player_X7</th>\n",
              "      <th>away_player_X8</th>\n",
              "      <th>away_player_X9</th>\n",
              "      <th>away_player_X10</th>\n",
              "      <th>away_player_X11</th>\n",
              "      <th>home_player_Y1</th>\n",
              "      <th>home_player_Y2</th>\n",
              "      <th>home_player_Y3</th>\n",
              "      <th>home_player_Y4</th>\n",
              "      <th>home_player_Y5</th>\n",
              "      <th>home_player_Y6</th>\n",
              "      <th>home_player_Y7</th>\n",
              "      <th>...</th>\n",
              "      <th>away_player_10</th>\n",
              "      <th>away_player_11</th>\n",
              "      <th>goal</th>\n",
              "      <th>shoton</th>\n",
              "      <th>shotoff</th>\n",
              "      <th>foulcommit</th>\n",
              "      <th>card</th>\n",
              "      <th>cross</th>\n",
              "      <th>corner</th>\n",
              "      <th>possession</th>\n",
              "      <th>B365H</th>\n",
              "      <th>B365D</th>\n",
              "      <th>B365A</th>\n",
              "      <th>BWH</th>\n",
              "      <th>BWD</th>\n",
              "      <th>BWA</th>\n",
              "      <th>IWH</th>\n",
              "      <th>IWD</th>\n",
              "      <th>IWA</th>\n",
              "      <th>LBH</th>\n",
              "      <th>LBD</th>\n",
              "      <th>LBA</th>\n",
              "      <th>PSH</th>\n",
              "      <th>PSD</th>\n",
              "      <th>PSA</th>\n",
              "      <th>WHH</th>\n",
              "      <th>WHD</th>\n",
              "      <th>WHA</th>\n",
              "      <th>SJH</th>\n",
              "      <th>SJD</th>\n",
              "      <th>SJA</th>\n",
              "      <th>VCH</th>\n",
              "      <th>VCD</th>\n",
              "      <th>VCA</th>\n",
              "      <th>GBH</th>\n",
              "      <th>GBD</th>\n",
              "      <th>GBA</th>\n",
              "      <th>BSH</th>\n",
              "      <th>BSD</th>\n",
              "      <th>BSA</th>\n",
              "    </tr>\n",
              "  </thead>\n",
              "  <tbody>\n",
              "    <tr>\n",
              "      <th>0</th>\n",
              "      <td>1</td>\n",
              "      <td>1</td>\n",
              "      <td>2008-08-17</td>\n",
              "      <td>2008/2009</td>\n",
              "      <td>1</td>\n",
              "      <td>1</td>\n",
              "      <td>492473</td>\n",
              "      <td>9987</td>\n",
              "      <td>9993</td>\n",
              "      <td>1</td>\n",
              "      <td>1</td>\n",
              "      <td>NaN</td>\n",
              "      <td>NaN</td>\n",
              "      <td>NaN</td>\n",
              "      <td>NaN</td>\n",
              "      <td>NaN</td>\n",
              "      <td>NaN</td>\n",
              "      <td>NaN</td>\n",
              "      <td>NaN</td>\n",
              "      <td>NaN</td>\n",
              "      <td>NaN</td>\n",
              "      <td>NaN</td>\n",
              "      <td>NaN</td>\n",
              "      <td>NaN</td>\n",
              "      <td>NaN</td>\n",
              "      <td>NaN</td>\n",
              "      <td>NaN</td>\n",
              "      <td>NaN</td>\n",
              "      <td>NaN</td>\n",
              "      <td>NaN</td>\n",
              "      <td>NaN</td>\n",
              "      <td>NaN</td>\n",
              "      <td>NaN</td>\n",
              "      <td>NaN</td>\n",
              "      <td>NaN</td>\n",
              "      <td>NaN</td>\n",
              "      <td>NaN</td>\n",
              "      <td>NaN</td>\n",
              "      <td>NaN</td>\n",
              "      <td>NaN</td>\n",
              "      <td>...</td>\n",
              "      <td>NaN</td>\n",
              "      <td>NaN</td>\n",
              "      <td>NaN</td>\n",
              "      <td>NaN</td>\n",
              "      <td>NaN</td>\n",
              "      <td>NaN</td>\n",
              "      <td>NaN</td>\n",
              "      <td>NaN</td>\n",
              "      <td>NaN</td>\n",
              "      <td>NaN</td>\n",
              "      <td>1.73</td>\n",
              "      <td>3.40</td>\n",
              "      <td>5.00</td>\n",
              "      <td>1.75</td>\n",
              "      <td>3.35</td>\n",
              "      <td>4.20</td>\n",
              "      <td>1.85</td>\n",
              "      <td>3.2</td>\n",
              "      <td>3.5</td>\n",
              "      <td>1.80</td>\n",
              "      <td>3.3</td>\n",
              "      <td>3.75</td>\n",
              "      <td>NaN</td>\n",
              "      <td>NaN</td>\n",
              "      <td>NaN</td>\n",
              "      <td>1.70</td>\n",
              "      <td>3.30</td>\n",
              "      <td>4.33</td>\n",
              "      <td>1.90</td>\n",
              "      <td>3.3</td>\n",
              "      <td>4.00</td>\n",
              "      <td>1.65</td>\n",
              "      <td>3.40</td>\n",
              "      <td>4.50</td>\n",
              "      <td>1.78</td>\n",
              "      <td>3.25</td>\n",
              "      <td>4.00</td>\n",
              "      <td>1.73</td>\n",
              "      <td>3.40</td>\n",
              "      <td>4.20</td>\n",
              "    </tr>\n",
              "    <tr>\n",
              "      <th>1</th>\n",
              "      <td>2</td>\n",
              "      <td>1</td>\n",
              "      <td>2008-08-16</td>\n",
              "      <td>2008/2009</td>\n",
              "      <td>1</td>\n",
              "      <td>1</td>\n",
              "      <td>492474</td>\n",
              "      <td>10000</td>\n",
              "      <td>9994</td>\n",
              "      <td>0</td>\n",
              "      <td>0</td>\n",
              "      <td>NaN</td>\n",
              "      <td>NaN</td>\n",
              "      <td>NaN</td>\n",
              "      <td>NaN</td>\n",
              "      <td>NaN</td>\n",
              "      <td>NaN</td>\n",
              "      <td>NaN</td>\n",
              "      <td>NaN</td>\n",
              "      <td>NaN</td>\n",
              "      <td>NaN</td>\n",
              "      <td>NaN</td>\n",
              "      <td>NaN</td>\n",
              "      <td>NaN</td>\n",
              "      <td>NaN</td>\n",
              "      <td>NaN</td>\n",
              "      <td>NaN</td>\n",
              "      <td>NaN</td>\n",
              "      <td>NaN</td>\n",
              "      <td>NaN</td>\n",
              "      <td>NaN</td>\n",
              "      <td>NaN</td>\n",
              "      <td>NaN</td>\n",
              "      <td>NaN</td>\n",
              "      <td>NaN</td>\n",
              "      <td>NaN</td>\n",
              "      <td>NaN</td>\n",
              "      <td>NaN</td>\n",
              "      <td>NaN</td>\n",
              "      <td>NaN</td>\n",
              "      <td>...</td>\n",
              "      <td>NaN</td>\n",
              "      <td>NaN</td>\n",
              "      <td>NaN</td>\n",
              "      <td>NaN</td>\n",
              "      <td>NaN</td>\n",
              "      <td>NaN</td>\n",
              "      <td>NaN</td>\n",
              "      <td>NaN</td>\n",
              "      <td>NaN</td>\n",
              "      <td>NaN</td>\n",
              "      <td>1.95</td>\n",
              "      <td>3.20</td>\n",
              "      <td>3.60</td>\n",
              "      <td>1.80</td>\n",
              "      <td>3.30</td>\n",
              "      <td>3.95</td>\n",
              "      <td>1.90</td>\n",
              "      <td>3.2</td>\n",
              "      <td>3.5</td>\n",
              "      <td>1.90</td>\n",
              "      <td>3.2</td>\n",
              "      <td>3.50</td>\n",
              "      <td>NaN</td>\n",
              "      <td>NaN</td>\n",
              "      <td>NaN</td>\n",
              "      <td>1.83</td>\n",
              "      <td>3.30</td>\n",
              "      <td>3.60</td>\n",
              "      <td>1.95</td>\n",
              "      <td>3.3</td>\n",
              "      <td>3.80</td>\n",
              "      <td>2.00</td>\n",
              "      <td>3.25</td>\n",
              "      <td>3.25</td>\n",
              "      <td>1.85</td>\n",
              "      <td>3.25</td>\n",
              "      <td>3.75</td>\n",
              "      <td>1.91</td>\n",
              "      <td>3.25</td>\n",
              "      <td>3.60</td>\n",
              "    </tr>\n",
              "    <tr>\n",
              "      <th>2</th>\n",
              "      <td>3</td>\n",
              "      <td>1</td>\n",
              "      <td>2008-08-16</td>\n",
              "      <td>2008/2009</td>\n",
              "      <td>1</td>\n",
              "      <td>1</td>\n",
              "      <td>492475</td>\n",
              "      <td>9984</td>\n",
              "      <td>8635</td>\n",
              "      <td>0</td>\n",
              "      <td>3</td>\n",
              "      <td>NaN</td>\n",
              "      <td>NaN</td>\n",
              "      <td>NaN</td>\n",
              "      <td>NaN</td>\n",
              "      <td>NaN</td>\n",
              "      <td>NaN</td>\n",
              "      <td>NaN</td>\n",
              "      <td>NaN</td>\n",
              "      <td>NaN</td>\n",
              "      <td>NaN</td>\n",
              "      <td>NaN</td>\n",
              "      <td>NaN</td>\n",
              "      <td>NaN</td>\n",
              "      <td>NaN</td>\n",
              "      <td>NaN</td>\n",
              "      <td>NaN</td>\n",
              "      <td>NaN</td>\n",
              "      <td>NaN</td>\n",
              "      <td>NaN</td>\n",
              "      <td>NaN</td>\n",
              "      <td>NaN</td>\n",
              "      <td>NaN</td>\n",
              "      <td>NaN</td>\n",
              "      <td>NaN</td>\n",
              "      <td>NaN</td>\n",
              "      <td>NaN</td>\n",
              "      <td>NaN</td>\n",
              "      <td>NaN</td>\n",
              "      <td>NaN</td>\n",
              "      <td>...</td>\n",
              "      <td>NaN</td>\n",
              "      <td>NaN</td>\n",
              "      <td>NaN</td>\n",
              "      <td>NaN</td>\n",
              "      <td>NaN</td>\n",
              "      <td>NaN</td>\n",
              "      <td>NaN</td>\n",
              "      <td>NaN</td>\n",
              "      <td>NaN</td>\n",
              "      <td>NaN</td>\n",
              "      <td>2.38</td>\n",
              "      <td>3.30</td>\n",
              "      <td>2.75</td>\n",
              "      <td>2.40</td>\n",
              "      <td>3.30</td>\n",
              "      <td>2.55</td>\n",
              "      <td>2.60</td>\n",
              "      <td>3.1</td>\n",
              "      <td>2.3</td>\n",
              "      <td>2.50</td>\n",
              "      <td>3.2</td>\n",
              "      <td>2.50</td>\n",
              "      <td>NaN</td>\n",
              "      <td>NaN</td>\n",
              "      <td>NaN</td>\n",
              "      <td>2.50</td>\n",
              "      <td>3.25</td>\n",
              "      <td>2.40</td>\n",
              "      <td>2.63</td>\n",
              "      <td>3.3</td>\n",
              "      <td>2.50</td>\n",
              "      <td>2.35</td>\n",
              "      <td>3.25</td>\n",
              "      <td>2.65</td>\n",
              "      <td>2.50</td>\n",
              "      <td>3.20</td>\n",
              "      <td>2.50</td>\n",
              "      <td>2.30</td>\n",
              "      <td>3.20</td>\n",
              "      <td>2.75</td>\n",
              "    </tr>\n",
              "    <tr>\n",
              "      <th>3</th>\n",
              "      <td>4</td>\n",
              "      <td>1</td>\n",
              "      <td>2008-08-17</td>\n",
              "      <td>2008/2009</td>\n",
              "      <td>1</td>\n",
              "      <td>1</td>\n",
              "      <td>492476</td>\n",
              "      <td>9991</td>\n",
              "      <td>9998</td>\n",
              "      <td>5</td>\n",
              "      <td>0</td>\n",
              "      <td>NaN</td>\n",
              "      <td>NaN</td>\n",
              "      <td>NaN</td>\n",
              "      <td>NaN</td>\n",
              "      <td>NaN</td>\n",
              "      <td>NaN</td>\n",
              "      <td>NaN</td>\n",
              "      <td>NaN</td>\n",
              "      <td>NaN</td>\n",
              "      <td>NaN</td>\n",
              "      <td>NaN</td>\n",
              "      <td>NaN</td>\n",
              "      <td>NaN</td>\n",
              "      <td>NaN</td>\n",
              "      <td>NaN</td>\n",
              "      <td>NaN</td>\n",
              "      <td>NaN</td>\n",
              "      <td>NaN</td>\n",
              "      <td>NaN</td>\n",
              "      <td>NaN</td>\n",
              "      <td>NaN</td>\n",
              "      <td>NaN</td>\n",
              "      <td>NaN</td>\n",
              "      <td>NaN</td>\n",
              "      <td>NaN</td>\n",
              "      <td>NaN</td>\n",
              "      <td>NaN</td>\n",
              "      <td>NaN</td>\n",
              "      <td>NaN</td>\n",
              "      <td>...</td>\n",
              "      <td>NaN</td>\n",
              "      <td>NaN</td>\n",
              "      <td>NaN</td>\n",
              "      <td>NaN</td>\n",
              "      <td>NaN</td>\n",
              "      <td>NaN</td>\n",
              "      <td>NaN</td>\n",
              "      <td>NaN</td>\n",
              "      <td>NaN</td>\n",
              "      <td>NaN</td>\n",
              "      <td>1.44</td>\n",
              "      <td>3.75</td>\n",
              "      <td>7.50</td>\n",
              "      <td>1.40</td>\n",
              "      <td>4.00</td>\n",
              "      <td>6.80</td>\n",
              "      <td>1.40</td>\n",
              "      <td>3.9</td>\n",
              "      <td>6.0</td>\n",
              "      <td>1.44</td>\n",
              "      <td>3.6</td>\n",
              "      <td>6.50</td>\n",
              "      <td>NaN</td>\n",
              "      <td>NaN</td>\n",
              "      <td>NaN</td>\n",
              "      <td>1.44</td>\n",
              "      <td>3.75</td>\n",
              "      <td>6.00</td>\n",
              "      <td>1.44</td>\n",
              "      <td>4.0</td>\n",
              "      <td>7.50</td>\n",
              "      <td>1.45</td>\n",
              "      <td>3.75</td>\n",
              "      <td>6.50</td>\n",
              "      <td>1.50</td>\n",
              "      <td>3.75</td>\n",
              "      <td>5.50</td>\n",
              "      <td>1.44</td>\n",
              "      <td>3.75</td>\n",
              "      <td>6.50</td>\n",
              "    </tr>\n",
              "    <tr>\n",
              "      <th>4</th>\n",
              "      <td>5</td>\n",
              "      <td>1</td>\n",
              "      <td>2008-08-16</td>\n",
              "      <td>2008/2009</td>\n",
              "      <td>1</td>\n",
              "      <td>1</td>\n",
              "      <td>492477</td>\n",
              "      <td>7947</td>\n",
              "      <td>9985</td>\n",
              "      <td>1</td>\n",
              "      <td>3</td>\n",
              "      <td>NaN</td>\n",
              "      <td>NaN</td>\n",
              "      <td>NaN</td>\n",
              "      <td>NaN</td>\n",
              "      <td>NaN</td>\n",
              "      <td>NaN</td>\n",
              "      <td>NaN</td>\n",
              "      <td>NaN</td>\n",
              "      <td>NaN</td>\n",
              "      <td>NaN</td>\n",
              "      <td>NaN</td>\n",
              "      <td>NaN</td>\n",
              "      <td>NaN</td>\n",
              "      <td>NaN</td>\n",
              "      <td>NaN</td>\n",
              "      <td>NaN</td>\n",
              "      <td>NaN</td>\n",
              "      <td>NaN</td>\n",
              "      <td>NaN</td>\n",
              "      <td>NaN</td>\n",
              "      <td>NaN</td>\n",
              "      <td>NaN</td>\n",
              "      <td>NaN</td>\n",
              "      <td>NaN</td>\n",
              "      <td>NaN</td>\n",
              "      <td>NaN</td>\n",
              "      <td>NaN</td>\n",
              "      <td>NaN</td>\n",
              "      <td>NaN</td>\n",
              "      <td>...</td>\n",
              "      <td>NaN</td>\n",
              "      <td>NaN</td>\n",
              "      <td>NaN</td>\n",
              "      <td>NaN</td>\n",
              "      <td>NaN</td>\n",
              "      <td>NaN</td>\n",
              "      <td>NaN</td>\n",
              "      <td>NaN</td>\n",
              "      <td>NaN</td>\n",
              "      <td>NaN</td>\n",
              "      <td>5.00</td>\n",
              "      <td>3.50</td>\n",
              "      <td>1.65</td>\n",
              "      <td>5.00</td>\n",
              "      <td>3.50</td>\n",
              "      <td>1.60</td>\n",
              "      <td>4.00</td>\n",
              "      <td>3.3</td>\n",
              "      <td>1.7</td>\n",
              "      <td>4.00</td>\n",
              "      <td>3.4</td>\n",
              "      <td>1.72</td>\n",
              "      <td>NaN</td>\n",
              "      <td>NaN</td>\n",
              "      <td>NaN</td>\n",
              "      <td>4.20</td>\n",
              "      <td>3.40</td>\n",
              "      <td>1.70</td>\n",
              "      <td>4.50</td>\n",
              "      <td>3.5</td>\n",
              "      <td>1.73</td>\n",
              "      <td>4.50</td>\n",
              "      <td>3.40</td>\n",
              "      <td>1.65</td>\n",
              "      <td>4.50</td>\n",
              "      <td>3.50</td>\n",
              "      <td>1.65</td>\n",
              "      <td>4.75</td>\n",
              "      <td>3.30</td>\n",
              "      <td>1.67</td>\n",
              "    </tr>\n",
              "  </tbody>\n",
              "</table>\n",
              "<p>5 rows × 115 columns</p>\n",
              "</div>"
            ],
            "text/plain": [
              "   id  country_id       date     season  ...   GBA   BSH   BSD   BSA\n",
              "0   1           1 2008-08-17  2008/2009  ...  4.00  1.73  3.40  4.20\n",
              "1   2           1 2008-08-16  2008/2009  ...  3.75  1.91  3.25  3.60\n",
              "2   3           1 2008-08-16  2008/2009  ...  2.50  2.30  3.20  2.75\n",
              "3   4           1 2008-08-17  2008/2009  ...  5.50  1.44  3.75  6.50\n",
              "4   5           1 2008-08-16  2008/2009  ...  1.65  4.75  3.30  1.67\n",
              "\n",
              "[5 rows x 115 columns]"
            ]
          },
          "metadata": {
            "tags": []
          },
          "execution_count": 3
        }
      ]
    },
    {
      "cell_type": "markdown",
      "metadata": {
        "id": "cVFCBmZlOwXm",
        "colab_type": "text"
      },
      "source": [
        "# Tratamiento de datos"
      ]
    },
    {
      "cell_type": "code",
      "metadata": {
        "id": "jYq13J38x9IL",
        "colab_type": "code",
        "outputId": "713aeec0-f5e0-4707-8677-232e3541771f",
        "colab": {
          "base_uri": "https://localhost:8080/",
          "height": 34
        }
      },
      "source": [
        "#crear 3 variables dependientes, el total de goles dependiente de la suma de ambos equipos, y dos puntos de corte, las 3 variables son de acuerdo a un criterio de apuesta:\n",
        "\n",
        "df['total goals']=df['home_team_goal']+df['away_team_goal']\n",
        "df['altas 2.5']=(df['total goals']>2.5)\n",
        "df['altas 3.5']=(df['total goals']>3.5)\n",
        "df.shape"
      ],
      "execution_count": 0,
      "outputs": [
        {
          "output_type": "execute_result",
          "data": {
            "text/plain": [
              "(25979, 118)"
            ]
          },
          "metadata": {
            "tags": []
          },
          "execution_count": 4
        }
      ]
    },
    {
      "cell_type": "code",
      "metadata": {
        "id": "ffQS81CS62AV",
        "colab_type": "code",
        "outputId": "20cccd61-1f85-496d-cb60-c92210e99c6a",
        "colab": {
          "base_uri": "https://localhost:8080/",
          "height": 1000
        }
      },
      "source": [
        " ## se identifican el tipo de variables \n",
        "\n",
        " # print(df.dtypes)\n",
        "pd.set_option('display.max_rows', 120)\n",
        "print(df.dtypes)"
      ],
      "execution_count": 0,
      "outputs": [
        {
          "output_type": "stream",
          "text": [
            "id                           int64\n",
            "country_id                   int64\n",
            "date                datetime64[ns]\n",
            "season                      object\n",
            "league_id                    int64\n",
            "stage                        int64\n",
            "match_api_id                 int64\n",
            "home_team_api_id             int64\n",
            "away_team_api_id             int64\n",
            "home_team_goal               int64\n",
            "away_team_goal               int64\n",
            "home_player_X1             float64\n",
            "home_player_X2             float64\n",
            "home_player_X3             float64\n",
            "home_player_X4             float64\n",
            "home_player_X5             float64\n",
            "home_player_X6             float64\n",
            "home_player_X7             float64\n",
            "home_player_X8             float64\n",
            "home_player_X9             float64\n",
            "home_player_X10            float64\n",
            "home_player_X11            float64\n",
            "away_player_X1             float64\n",
            "away_player_X2             float64\n",
            "away_player_X3             float64\n",
            "away_player_X4             float64\n",
            "away_player_X5             float64\n",
            "away_player_X6             float64\n",
            "away_player_X7             float64\n",
            "away_player_X8             float64\n",
            "away_player_X9             float64\n",
            "away_player_X10            float64\n",
            "away_player_X11            float64\n",
            "home_player_Y1             float64\n",
            "home_player_Y2             float64\n",
            "home_player_Y3             float64\n",
            "home_player_Y4             float64\n",
            "home_player_Y5             float64\n",
            "home_player_Y6             float64\n",
            "home_player_Y7             float64\n",
            "home_player_Y8             float64\n",
            "home_player_Y9             float64\n",
            "home_player_Y10            float64\n",
            "home_player_Y11            float64\n",
            "away_player_Y1             float64\n",
            "away_player_Y2             float64\n",
            "away_player_Y3             float64\n",
            "away_player_Y4             float64\n",
            "away_player_Y5             float64\n",
            "away_player_Y6             float64\n",
            "away_player_Y7             float64\n",
            "away_player_Y8             float64\n",
            "away_player_Y9             float64\n",
            "away_player_Y10            float64\n",
            "away_player_Y11            float64\n",
            "home_player_1              float64\n",
            "home_player_2              float64\n",
            "home_player_3              float64\n",
            "home_player_4              float64\n",
            "home_player_5              float64\n",
            "home_player_6              float64\n",
            "home_player_7              float64\n",
            "home_player_8              float64\n",
            "home_player_9              float64\n",
            "home_player_10             float64\n",
            "home_player_11             float64\n",
            "away_player_1              float64\n",
            "away_player_2              float64\n",
            "away_player_3              float64\n",
            "away_player_4              float64\n",
            "away_player_5              float64\n",
            "away_player_6              float64\n",
            "away_player_7              float64\n",
            "away_player_8              float64\n",
            "away_player_9              float64\n",
            "away_player_10             float64\n",
            "away_player_11             float64\n",
            "goal                        object\n",
            "shoton                      object\n",
            "shotoff                     object\n",
            "foulcommit                  object\n",
            "card                        object\n",
            "cross                       object\n",
            "corner                      object\n",
            "possession                  object\n",
            "B365H                      float64\n",
            "B365D                      float64\n",
            "B365A                      float64\n",
            "BWH                        float64\n",
            "BWD                        float64\n",
            "BWA                        float64\n",
            "IWH                        float64\n",
            "IWD                        float64\n",
            "IWA                        float64\n",
            "LBH                        float64\n",
            "LBD                        float64\n",
            "LBA                        float64\n",
            "PSH                        float64\n",
            "PSD                        float64\n",
            "PSA                        float64\n",
            "WHH                        float64\n",
            "WHD                        float64\n",
            "WHA                        float64\n",
            "SJH                        float64\n",
            "SJD                        float64\n",
            "SJA                        float64\n",
            "VCH                        float64\n",
            "VCD                        float64\n",
            "VCA                        float64\n",
            "GBH                        float64\n",
            "GBD                        float64\n",
            "GBA                        float64\n",
            "BSH                        float64\n",
            "BSD                        float64\n",
            "BSA                        float64\n",
            "total goals                  int64\n",
            "altas 2.5                     bool\n",
            "altas 3.5                     bool\n",
            "dtype: object\n"
          ],
          "name": "stdout"
        }
      ]
    },
    {
      "cell_type": "code",
      "metadata": {
        "id": "q9409UBy67lG",
        "colab_type": "code",
        "outputId": "145cf748-b7c0-4504-f750-269e8ff5d085",
        "colab": {
          "base_uri": "https://localhost:8080/",
          "height": 34
        }
      },
      "source": [
        "#quitar columnas que no son numericas, las cuales las mayorías son las de identificación y otras que fueron strings\n",
        "a_quitar=['id','country_id','date','season','league_id','stage','match_api_id','home_team_api_id','away_team_api_id','goal','shoton','shotoff','foulcommit','card','cross','corner','possession']\n",
        "a_quitar\n",
        "df=df.drop(a_quitar, axis=1)\n",
        "df.shape #(25979,101)\n",
        "#df.head()"
      ],
      "execution_count": 0,
      "outputs": [
        {
          "output_type": "execute_result",
          "data": {
            "text/plain": [
              "(25979, 101)"
            ]
          },
          "metadata": {
            "tags": []
          },
          "execution_count": 6
        }
      ]
    },
    {
      "cell_type": "code",
      "metadata": {
        "id": "ybby8Jks6-sO",
        "colab_type": "code",
        "outputId": "10c4dd00-b6d6-4e67-ec66-978e5a2ab520",
        "colab": {
          "base_uri": "https://localhost:8080/",
          "height": 1000
        }
      },
      "source": [
        " #se confirma de nuevo el tipo de variables\n",
        " # print(df.dtypes)\n",
        "pd.set_option('display.max_rows', 120)\n",
        "print(df.dtypes)"
      ],
      "execution_count": 0,
      "outputs": [
        {
          "output_type": "stream",
          "text": [
            "home_team_goal       int64\n",
            "away_team_goal       int64\n",
            "home_player_X1     float64\n",
            "home_player_X2     float64\n",
            "home_player_X3     float64\n",
            "home_player_X4     float64\n",
            "home_player_X5     float64\n",
            "home_player_X6     float64\n",
            "home_player_X7     float64\n",
            "home_player_X8     float64\n",
            "home_player_X9     float64\n",
            "home_player_X10    float64\n",
            "home_player_X11    float64\n",
            "away_player_X1     float64\n",
            "away_player_X2     float64\n",
            "away_player_X3     float64\n",
            "away_player_X4     float64\n",
            "away_player_X5     float64\n",
            "away_player_X6     float64\n",
            "away_player_X7     float64\n",
            "away_player_X8     float64\n",
            "away_player_X9     float64\n",
            "away_player_X10    float64\n",
            "away_player_X11    float64\n",
            "home_player_Y1     float64\n",
            "home_player_Y2     float64\n",
            "home_player_Y3     float64\n",
            "home_player_Y4     float64\n",
            "home_player_Y5     float64\n",
            "home_player_Y6     float64\n",
            "home_player_Y7     float64\n",
            "home_player_Y8     float64\n",
            "home_player_Y9     float64\n",
            "home_player_Y10    float64\n",
            "home_player_Y11    float64\n",
            "away_player_Y1     float64\n",
            "away_player_Y2     float64\n",
            "away_player_Y3     float64\n",
            "away_player_Y4     float64\n",
            "away_player_Y5     float64\n",
            "away_player_Y6     float64\n",
            "away_player_Y7     float64\n",
            "away_player_Y8     float64\n",
            "away_player_Y9     float64\n",
            "away_player_Y10    float64\n",
            "away_player_Y11    float64\n",
            "home_player_1      float64\n",
            "home_player_2      float64\n",
            "home_player_3      float64\n",
            "home_player_4      float64\n",
            "home_player_5      float64\n",
            "home_player_6      float64\n",
            "home_player_7      float64\n",
            "home_player_8      float64\n",
            "home_player_9      float64\n",
            "home_player_10     float64\n",
            "home_player_11     float64\n",
            "away_player_1      float64\n",
            "away_player_2      float64\n",
            "away_player_3      float64\n",
            "away_player_4      float64\n",
            "away_player_5      float64\n",
            "away_player_6      float64\n",
            "away_player_7      float64\n",
            "away_player_8      float64\n",
            "away_player_9      float64\n",
            "away_player_10     float64\n",
            "away_player_11     float64\n",
            "B365H              float64\n",
            "B365D              float64\n",
            "B365A              float64\n",
            "BWH                float64\n",
            "BWD                float64\n",
            "BWA                float64\n",
            "IWH                float64\n",
            "IWD                float64\n",
            "IWA                float64\n",
            "LBH                float64\n",
            "LBD                float64\n",
            "LBA                float64\n",
            "PSH                float64\n",
            "PSD                float64\n",
            "PSA                float64\n",
            "WHH                float64\n",
            "WHD                float64\n",
            "WHA                float64\n",
            "SJH                float64\n",
            "SJD                float64\n",
            "SJA                float64\n",
            "VCH                float64\n",
            "VCD                float64\n",
            "VCA                float64\n",
            "GBH                float64\n",
            "GBD                float64\n",
            "GBA                float64\n",
            "BSH                float64\n",
            "BSD                float64\n",
            "BSA                float64\n",
            "total goals          int64\n",
            "altas 2.5             bool\n",
            "altas 3.5             bool\n",
            "dtype: object\n"
          ],
          "name": "stdout"
        }
      ]
    },
    {
      "cell_type": "code",
      "metadata": {
        "id": "VWxAh2EV7BS1",
        "colab_type": "code",
        "outputId": "0fad49fc-d9fe-46e4-90bc-ced4aa26425f",
        "colab": {
          "base_uri": "https://localhost:8080/",
          "height": 265
        }
      },
      "source": [
        "#boxplot of all variables, primer ejemplo\n",
        "plt.figure()\n",
        "plt.boxplot(df['IWD'],'gD')\n",
        "plt.show()"
      ],
      "execution_count": 0,
      "outputs": [
        {
          "output_type": "display_data",
          "data": {
            "image/png": "[encoded data removed]",
            "text/plain": [
              "<Figure size 432x288 with 1 Axes>"
            ]
          },
          "metadata": {
            "tags": [],
            "needs_background": "light"
          }
        }
      ]
    },
    {
      "cell_type": "code",
      "metadata": {
        "id": "RJA1CpmR7Fch",
        "colab_type": "code",
        "outputId": "5ac53dc4-6ee8-4309-bb36-a437104a6142",
        "colab": {
          "base_uri": "https://localhost:8080/",
          "height": 1000
        }
      },
      "source": [
        "#boxplot for each column #boxplot para cada variable\n",
        "\n",
        "\n",
        "for column in df:\n",
        "    plt.figure()\n",
        "    df.boxplot([column])"
      ],
      "execution_count": 0,
      "outputs": [
        {
          "output_type": "display_data",
          "data": {
            "image/png": "[encoded data removed]",
            "text/plain": [
              "<Figure size 432x288 with 1 Axes>"
            ]
          },
          "metadata": {
            "tags": [],
            "needs_background": "light"
          }
        },
        {
          "output_type": "display_data",
          "data": {
            "image/png": "[encoded data removed]",
            "text/plain": [
              "<Figure size 432x288 with 1 Axes>"
            ]
          },
          "metadata": {
            "tags": [],
            "needs_background": "light"
          }
        },
        {
          "output_type": "display_data",
          "data": {
            "image/png": "[encoded data removed]",
            "text/plain": [
              "<Figure size 432x288 with 1 Axes>"
            ]
          },
          "metadata": {
            "tags": [],
            "needs_background": "light"
          }
        },
        {
          "output_type": "display_data",
          "data": {
            "image/png": "[encoded data removed]",
            "text/plain": [
              "<Figure size 432x288 with 1 Axes>"
            ]
          },
          "metadata": {
            "tags": [],
            "needs_background": "light"
          }
        },
        {
          "output_type": "display_data",
          "data": {
            "image/png": "[encoded data removed]",
            "text/plain": [
              "<Figure size 432x288 with 1 Axes>"
            ]
          },
          "metadata": {
            "tags": [],
            "needs_background": "light"
          }
        },
        {
          "output_type": "display_data",
          "data": {
            "image/png": "[encoded data removed]",
            "text/plain": [
              "<Figure size 432x288 with 1 Axes>"
            ]
          },
          "metadata": {
            "tags": [],
            "needs_background": "light"
          }
        },
        {
          "output_type": "display_data",
          "data": {
            "image/png": "[encoded data removed]",
            "text/plain": [
              "<Figure size 432x288 with 1 Axes>"
            ]
          },
          "metadata": {
            "tags": [],
            "needs_background": "light"
          }
        },
        {
          "output_type": "display_data",
          "data": {
            "image/png": "[encoded data removed]",
            "text/plain": [
              "<Figure size 432x288 with 1 Axes>"
            ]
          },
          "metadata": {
            "tags": [],
            "needs_background": "light"
          }
        },
        {
          "output_type": "display_data",
          "data": {
            "image/png": "[encoded data removed]",
            "text/plain": [
              "<Figure size 432x288 with 1 Axes>"
            ]
          },
          "metadata": {
            "tags": [],
            "needs_background": "light"
          }
        },
        {
          "output_type": "display_data",
          "data": {
            "image/png": "[encoded data removed]",
            "text/plain": [
              "<Figure size 432x288 with 1 Axes>"
            ]
          },
          "metadata": {
            "tags": [],
            "needs_background": "light"
          }
        },
        {
          "output_type": "display_data",
          "data": {
            "image/png": "[encoded data removed]",
            "text/plain": [
              "<Figure size 432x288 with 1 Axes>"
            ]
          },
          "metadata": {
            "tags": [],
            "needs_background": "light"
          }
        },
        {
          "output_type": "display_data",
          "data": {
            "image/png": "[encoded data removed]",
            "text/plain": [
              "<Figure size 432x288 with 1 Axes>"
            ]
          },
          "metadata": {
            "tags": [],
            "needs_background": "light"
          }
        },
        {
          "output_type": "display_data",
          "data": {
            "image/png": "[encoded data removed]",
            "text/plain": [
              "<Figure size 432x288 with 1 Axes>"
            ]
          },
          "metadata": {
            "tags": [],
            "needs_background": "light"
          }
        },
        {
          "output_type": "display_data",
          "data": {
            "image/png": "[encoded data removed]",
            "text/plain": [
              "<Figure size 432x288 with 1 Axes>"
            ]
          },
          "metadata": {
            "tags": [],
            "needs_background": "light"
          }
        },
        {
          "output_type": "display_data",
          "data": {
            "image/png": "[encoded data removed]",
            "text/plain": [
              "<Figure size 432x288 with 1 Axes>"
            ]
          },
          "metadata": {
            "tags": [],
            "needs_background": "light"
          }
        },
        {
          "output_type": "display_data",
          "data": {
            "image/png": "[encoded data removed]",
            "text/plain": [
              "<Figure size 432x288 with 1 Axes>"
            ]
          },
          "metadata": {
            "tags": [],
            "needs_background": "light"
          }
        },
        {
          "output_type": "display_data",
          "data": {
            "image/png": "[encoded data removed]",
            "text/plain": [
              "<Figure size 432x288 with 1 Axes>"
            ]
          },
          "metadata": {
            "tags": [],
            "needs_background": "light"
          }
        },
        {
          "output_type": "display_data",
          "data": {
            "image/png": "[encoded data removed]",
            "text/plain": [
              "<Figure size 432x288 with 1 Axes>"
            ]
          },
          "metadata": {
            "tags": [],
            "needs_background": "light"
          }
        },
        {
          "output_type": "display_data",
          "data": {
            "image/png": "[encoded data removed]",
            "text/plain": [
              "<Figure size 432x288 with 1 Axes>"
            ]
          },
          "metadata": {
            "tags": [],
            "needs_background": "light"
          }
        },
        {
          "output_type": "display_data",
          "data": {
            "image/png": "[encoded data removed]",
            "text/plain": [
              "<Figure size 432x288 with 1 Axes>"
            ]
          },
          "metadata": {
            "tags": [],
            "needs_background": "light"
          }
        },
        {
          "output_type": "display_data",
          "data": {
            "image/png": "[encoded data removed]",
            "text/plain": [
              "<Figure size 432x288 with 1 Axes>"
            ]
          },
          "metadata": {
            "tags": [],
            "needs_background": "light"
          }
        },
        {
          "output_type": "display_data",
          "data": {
            "image/png": "[encoded data removed]",
            "text/plain": [
              "<Figure size 432x288 with 1 Axes>"
            ]
          },
          "metadata": {
            "tags": [],
            "needs_background": "light"
          }
        },
        {
          "output_type": "display_data",
          "data": {
            "image/png": "[encoded data removed]",
            "text/plain": [
              "<Figure size 432x288 with 1 Axes>"
            ]
          },
          "metadata": {
            "tags": [],
            "needs_background": "light"
          }
        },
        {
          "output_type": "display_data",
          "data": {
            "image/png": "[encoded data removed]",
            "text/plain": [
              "<Figure size 432x288 with 1 Axes>"
            ]
          },
          "metadata": {
            "tags": [],
            "needs_background": "light"
          }
        },
        {
          "output_type": "display_data",
          "data": {
            "image/png": "[encoded data removed]",
            "text/plain": [
              "<Figure size 432x288 with 1 Axes>"
            ]
          },
          "metadata": {
            "tags": [],
            "needs_background": "light"
          }
        },
        {
          "output_type": "display_data",
          "data": {
            "image/png": "[encoded data removed]",
            "text/plain": [
              "<Figure size 432x288 with 1 Axes>"
            ]
          },
          "metadata": {
            "tags": [],
            "needs_background": "light"
          }
        },
        {
          "output_type": "display_data",
          "data": {
            "image/png": "[encoded data removed]",
            "text/plain": [
              "<Figure size 432x288 with 1 Axes>"
            ]
          },
          "metadata": {
            "tags": [],
            "needs_background": "light"
          }
        },
        {
          "output_type": "display_data",
          "data": {
            "image/png": "[encoded data removed]",
            "text/plain": [
              "<Figure size 432x288 with 1 Axes>"
            ]
          },
          "metadata": {
            "tags": [],
            "needs_background": "light"
          }
        },
        {
          "output_type": "display_data",
          "data": {
            "image/png": "[encoded data removed]",
            "text/plain": [
              "<Figure size 432x288 with 1 Axes>"
            ]
          },
          "metadata": {
            "tags": [],
            "needs_background": "light"
          }
        },
        {
          "output_type": "display_data",
          "data": {
            "image/png": "[encoded data removed]",
            "text/plain": [
              "<Figure size 432x288 with 1 Axes>"
            ]
          },
          "metadata": {
            "tags": [],
            "needs_background": "light"
          }
        },
        {
          "output_type": "display_data",
          "data": {
            "image/png": "[encoded data removed]",
            "text/plain": [
              "<Figure size 432x288 with 1 Axes>"
            ]
          },
          "metadata": {
            "tags": [],
            "needs_background": "light"
          }
        },
        {
          "output_type": "display_data",
          "data": {
            "image/png": "[encoded data removed]",
            "text/plain": [
              "<Figure size 432x288 with 1 Axes>"
            ]
          },
          "metadata": {
            "tags": [],
            "needs_background": "light"
          }
        },
        {
          "output_type": "display_data",
          "data": {
            "image/png": "[encoded data removed]",
            "text/plain": [
              "<Figure size 432x288 with 1 Axes>"
            ]
          },
          "metadata": {
            "tags": [],
            "needs_background": "light"
          }
        },
        {
          "output_type": "display_data",
          "data": {
            "image/png": "[encoded data removed]",
            "text/plain": [
              "<Figure size 432x288 with 1 Axes>"
            ]
          },
          "metadata": {
            "tags": [],
            "needs_background": "light"
          }
        },
        {
          "output_type": "display_data",
          "data": {
            "image/png": "[encoded data removed]",
            "text/plain": [
              "<Figure size 432x288 with 1 Axes>"
            ]
          },
          "metadata": {
            "tags": [],
            "needs_background": "light"
          }
        },
        {
          "output_type": "display_data",
          "data": {
            "image/png": "[encoded data removed]",
            "text/plain": [
              "<Figure size 432x288 with 1 Axes>"
            ]
          },
          "metadata": {
            "tags": [],
            "needs_background": "light"
          }
        },
        {
          "output_type": "display_data",
          "data": {
            "image/png": "[encoded data removed]",
            "text/plain": [
              "<Figure size 432x288 with 1 Axes>"
            ]
          },
          "metadata": {
            "tags": [],
            "needs_background": "light"
          }
        },
        {
          "output_type": "display_data",
          "data": {
            "image/png": "[encoded data removed]",
            "text/plain": [
              "<Figure size 432x288 with 1 Axes>"
            ]
          },
          "metadata": {
            "tags": [],
            "needs_background": "light"
          }
        },
        {
          "output_type": "display_data",
          "data": {
            "image/png": "[encoded data removed]",
            "text/plain": [
              "<Figure size 432x288 with 1 Axes>"
            ]
          },
          "metadata": {
            "tags": [],
            "needs_background": "light"
          }
        },
        {
          "output_type": "display_data",
          "data": {
            "image/png": "[encoded data removed]",
            "text/plain": [
              "<Figure size 432x288 with 1 Axes>"
            ]
          },
          "metadata": {
            "tags": [],
            "needs_background": "light"
          }
        },
        {
          "output_type": "display_data",
          "data": {
            "image/png": "[encoded data removed]",
            "text/plain": [
              "<Figure size 432x288 with 1 Axes>"
            ]
          },
          "metadata": {
            "tags": [],
            "needs_background": "light"
          }
        },
        {
          "output_type": "display_data",
          "data": {
            "image/png": "[encoded data removed]",
            "text/plain": [
              "<Figure size 432x288 with 1 Axes>"
            ]
          },
          "metadata": {
            "tags": [],
            "needs_background": "light"
          }
        },
        {
          "output_type": "display_data",
          "data": {
            "image/png": "[encoded data removed]",
            "text/plain": [
              "<Figure size 432x288 with 1 Axes>"
            ]
          },
          "metadata": {
            "tags": [],
            "needs_background": "light"
          }
        },
        {
          "output_type": "display_data",
          "data": {
            "image/png": "[encoded data removed]",
            "text/plain": [
              "<Figure size 432x288 with 1 Axes>"
            ]
          },
          "metadata": {
            "tags": [],
            "needs_background": "light"
          }
        },
        {
          "output_type": "display_data",
          "data": {
            "image/png": "[encoded data removed]",
            "text/plain": [
              "<Figure size 432x288 with 1 Axes>"
            ]
          },
          "metadata": {
            "tags": [],
            "needs_background": "light"
          }
        },
        {
          "output_type": "display_data",
          "data": {
            "image/png": "[encoded data removed]",
            "text/plain": [
              "<Figure size 432x288 with 1 Axes>"
            ]
          },
          "metadata": {
            "tags": [],
            "needs_background": "light"
          }
        },
        {
          "output_type": "display_data",
          "data": {
            "image/png": "[encoded data removed]",
            "text/plain": [
              "<Figure size 432x288 with 1 Axes>"
            ]
          },
          "metadata": {
            "tags": [],
            "needs_background": "light"
          }
        },
        {
          "output_type": "display_data",
          "data": {
            "image/png": "[encoded data removed]",
            "text/plain": [
              "<Figure size 432x288 with 1 Axes>"
            ]
          },
          "metadata": {
            "tags": [],
            "needs_background": "light"
          }
        },
        {
          "output_type": "display_data",
          "data": {
            "image/png": "[encoded data removed]",
            "text/plain": [
              "<Figure size 432x288 with 1 Axes>"
            ]
          },
          "metadata": {
            "tags": [],
            "needs_background": "light"
          }
        },
        {
          "output_type": "display_data",
          "data": {
            "image/png": "[encoded data removed]",
            "text/plain": [
              "<Figure size 432x288 with 1 Axes>"
            ]
          },
          "metadata": {
            "tags": [],
            "needs_background": "light"
          }
        },
        {
          "output_type": "display_data",
          "data": {
            "image/png": "[encoded data removed]",
            "text/plain": [
              "<Figure size 432x288 with 1 Axes>"
            ]
          },
          "metadata": {
            "tags": [],
            "needs_background": "light"
          }
        },
        {
          "output_type": "display_data",
          "data": {
            "image/png": "[encoded data removed]",
            "text/plain": [
              "<Figure size 432x288 with 1 Axes>"
            ]
          },
          "metadata": {
            "tags": [],
            "needs_background": "light"
          }
        },
        {
          "output_type": "display_data",
          "data": {
            "image/png": "[encoded data removed]",
            "text/plain": [
              "<Figure size 432x288 with 1 Axes>"
            ]
          },
          "metadata": {
            "tags": [],
            "needs_background": "light"
          }
        },
        {
          "output_type": "display_data",
          "data": {
            "image/png": "[encoded data removed]",
            "text/plain": [
              "<Figure size 432x288 with 1 Axes>"
            ]
          },
          "metadata": {
            "tags": [],
            "needs_background": "light"
          }
        },
        {
          "output_type": "display_data",
          "data": {
            "image/png": "[encoded data removed]",
            "text/plain": [
              "<Figure size 432x288 with 1 Axes>"
            ]
          },
          "metadata": {
            "tags": [],
            "needs_background": "light"
          }
        },
        {
          "output_type": "display_data",
          "data": {
            "image/png": "[encoded data removed]",
            "text/plain": [
              "<Figure size 432x288 with 1 Axes>"
            ]
          },
          "metadata": {
            "tags": [],
            "needs_background": "light"
          }
        },
        {
          "output_type": "display_data",
          "data": {
            "image/png": "[encoded data removed]",
            "text/plain": [
              "<Figure size 432x288 with 1 Axes>"
            ]
          },
          "metadata": {
            "tags": [],
            "needs_background": "light"
          }
        },
        {
          "output_type": "display_data",
          "data": {
            "image/png": "[encoded data removed]",
            "text/plain": [
              "<Figure size 432x288 with 1 Axes>"
            ]
          },
          "metadata": {
            "tags": [],
            "needs_background": "light"
          }
        },
        {
          "output_type": "display_data",
          "data": {
            "image/png": "[encoded data removed]",
            "text/plain": [
              "<Figure size 432x288 with 1 Axes>"
            ]
          },
          "metadata": {
            "tags": [],
            "needs_background": "light"
          }
        },
        {
          "output_type": "display_data",
          "data": {
            "image/png": "[encoded data removed]",
            "text/plain": [
              "<Figure size 432x288 with 1 Axes>"
            ]
          },
          "metadata": {
            "tags": [],
            "needs_background": "light"
          }
        },
        {
          "output_type": "display_data",
          "data": {
            "image/png": "[encoded data removed]",
            "text/plain": [
              "<Figure size 432x288 with 1 Axes>"
            ]
          },
          "metadata": {
            "tags": [],
            "needs_background": "light"
          }
        },
        {
          "output_type": "display_data",
          "data": {
            "image/png": "[encoded data removed]",
            "text/plain": [
              "<Figure size 432x288 with 1 Axes>"
            ]
          },
          "metadata": {
            "tags": [],
            "needs_background": "light"
          }
        },
        {
          "output_type": "display_data",
          "data": {
            "image/png": "[encoded data removed]",
            "text/plain": [
              "<Figure size 432x288 with 1 Axes>"
            ]
          },
          "metadata": {
            "tags": [],
            "needs_background": "light"
          }
        },
        {
          "output_type": "display_data",
          "data": {
            "image/png": "[encoded data removed]",
            "text/plain": [
              "<Figure size 432x288 with 1 Axes>"
            ]
          },
          "metadata": {
            "tags": [],
            "needs_background": "light"
          }
        },
        {
          "output_type": "display_data",
          "data": {
            "image/png": "[encoded data removed]",
            "text/plain": [
              "<Figure size 432x288 with 1 Axes>"
            ]
          },
          "metadata": {
            "tags": [],
            "needs_background": "light"
          }
        },
        {
          "output_type": "display_data",
          "data": {
            "image/png": "[encoded data removed]",
            "text/plain": [
              "<Figure size 432x288 with 1 Axes>"
            ]
          },
          "metadata": {
            "tags": [],
            "needs_background": "light"
          }
        },
        {
          "output_type": "display_data",
          "data": {
            "image/png": "[encoded data removed]",
            "text/plain": [
              "<Figure size 432x288 with 1 Axes>"
            ]
          },
          "metadata": {
            "tags": [],
            "needs_background": "light"
          }
        },
        {
          "output_type": "display_data",
          "data": {
            "image/png": "[encoded data removed]",
            "text/plain": [
              "<Figure size 432x288 with 1 Axes>"
            ]
          },
          "metadata": {
            "tags": [],
            "needs_background": "light"
          }
        },
        {
          "output_type": "display_data",
          "data": {
            "image/png": "[encoded data removed]",
            "text/plain": [
              "<Figure size 432x288 with 1 Axes>"
            ]
          },
          "metadata": {
            "tags": [],
            "needs_background": "light"
          }
        },
        {
          "output_type": "display_data",
          "data": {
            "image/png": "[encoded data removed]",
            "text/plain": [
              "<Figure size 432x288 with 1 Axes>"
            ]
          },
          "metadata": {
            "tags": [],
            "needs_background": "light"
          }
        },
        {
          "output_type": "display_data",
          "data": {
            "image/png": "[encoded data removed]",
            "text/plain": [
              "<Figure size 432x288 with 1 Axes>"
            ]
          },
          "metadata": {
            "tags": [],
            "needs_background": "light"
          }
        },
        {
          "output_type": "display_data",
          "data": {
            "image/png": "[encoded data removed]",
            "text/plain": [
              "<Figure size 432x288 with 1 Axes>"
            ]
          },
          "metadata": {
            "tags": [],
            "needs_background": "light"
          }
        },
        {
          "output_type": "display_data",
          "data": {
            "image/png": "[encoded data removed]",
            "text/plain": [
              "<Figure size 432x288 with 1 Axes>"
            ]
          },
          "metadata": {
            "tags": [],
            "needs_background": "light"
          }
        },
        {
          "output_type": "display_data",
          "data": {
            "image/png": "[encoded data removed]",
            "text/plain": [
              "<Figure size 432x288 with 1 Axes>"
            ]
          },
          "metadata": {
            "tags": [],
            "needs_background": "light"
          }
        },
        {
          "output_type": "display_data",
          "data": {
            "image/png": "[encoded data removed]",
            "text/plain": [
              "<Figure size 432x288 with 1 Axes>"
            ]
          },
          "metadata": {
            "tags": [],
            "needs_background": "light"
          }
        },
        {
          "output_type": "display_data",
          "data": {
            "image/png": "[encoded data removed]",
            "text/plain": [
              "<Figure size 432x288 with 1 Axes>"
            ]
          },
          "metadata": {
            "tags": [],
            "needs_background": "light"
          }
        },
        {
          "output_type": "display_data",
          "data": {
            "image/png": "[encoded data removed]",
            "text/plain": [
              "<Figure size 432x288 with 1 Axes>"
            ]
          },
          "metadata": {
            "tags": [],
            "needs_background": "light"
          }
        },
        {
          "output_type": "display_data",
          "data": {
            "image/png": "[encoded data removed]",
            "text/plain": [
              "<Figure size 432x288 with 1 Axes>"
            ]
          },
          "metadata": {
            "tags": [],
            "needs_background": "light"
          }
        },
        {
          "output_type": "display_data",
          "data": {
            "image/png": "[encoded data removed]",
            "text/plain": [
              "<Figure size 432x288 with 1 Axes>"
            ]
          },
          "metadata": {
            "tags": [],
            "needs_background": "light"
          }
        },
        {
          "output_type": "display_data",
          "data": {
            "image/png": "[encoded data removed]",
            "text/plain": [
              "<Figure size 432x288 with 1 Axes>"
            ]
          },
          "metadata": {
            "tags": [],
            "needs_background": "light"
          }
        },
        {
          "output_type": "display_data",
          "data": {
            "image/png": "[encoded data removed]",
            "text/plain": [
              "<Figure size 432x288 with 1 Axes>"
            ]
          },
          "metadata": {
            "tags": [],
            "needs_background": "light"
          }
        },
        {
          "output_type": "display_data",
          "data": {
            "image/png": "[encoded data removed]",
            "text/plain": [
              "<Figure size 432x288 with 1 Axes>"
            ]
          },
          "metadata": {
            "tags": [],
            "needs_background": "light"
          }
        },
        {
          "output_type": "display_data",
          "data": {
            "image/png": "[encoded data removed]",
            "text/plain": [
              "<Figure size 432x288 with 1 Axes>"
            ]
          },
          "metadata": {
            "tags": [],
            "needs_background": "light"
          }
        },
        {
          "output_type": "display_data",
          "data": {
            "image/png": "[encoded data removed]",
            "text/plain": [
              "<Figure size 432x288 with 1 Axes>"
            ]
          },
          "metadata": {
            "tags": [],
            "needs_background": "light"
          }
        },
        {
          "output_type": "display_data",
          "data": {
            "image/png": "[encoded data removed]",
            "text/plain": [
              "<Figure size 432x288 with 1 Axes>"
            ]
          },
          "metadata": {
            "tags": [],
            "needs_background": "light"
          }
        },
        {
          "output_type": "display_data",
          "data": {
            "image/png": "[encoded data removed]",
            "text/plain": [
              "<Figure size 432x288 with 1 Axes>"
            ]
          },
          "metadata": {
            "tags": [],
            "needs_background": "light"
          }
        },
        {
          "output_type": "display_data",
          "data": {
            "image/png": "[encoded data removed]",
            "text/plain": [
              "<Figure size 432x288 with 1 Axes>"
            ]
          },
          "metadata": {
            "tags": [],
            "needs_background": "light"
          }
        },
        {
          "output_type": "display_data",
          "data": {
            "image/png": "[encoded data removed]",
            "text/plain": [
              "<Figure size 432x288 with 1 Axes>"
            ]
          },
          "metadata": {
            "tags": [],
            "needs_background": "light"
          }
        },
        {
          "output_type": "display_data",
          "data": {
            "image/png": "[encoded data removed]",
            "text/plain": [
              "<Figure size 432x288 with 1 Axes>"
            ]
          },
          "metadata": {
            "tags": [],
            "needs_background": "light"
          }
        },
        {
          "output_type": "display_data",
          "data": {
            "image/png": "[encoded data removed]",
            "text/plain": [
              "<Figure size 432x288 with 1 Axes>"
            ]
          },
          "metadata": {
            "tags": [],
            "needs_background": "light"
          }
        },
        {
          "output_type": "display_data",
          "data": {
            "image/png": "[encoded data removed]",
            "text/plain": [
              "<Figure size 432x288 with 1 Axes>"
            ]
          },
          "metadata": {
            "tags": [],
            "needs_background": "light"
          }
        },
        {
          "output_type": "display_data",
          "data": {
            "image/png": "[encoded data removed]",
            "text/plain": [
              "<Figure size 432x288 with 1 Axes>"
            ]
          },
          "metadata": {
            "tags": [],
            "needs_background": "light"
          }
        },
        {
          "output_type": "display_data",
          "data": {
            "image/png": "[encoded data removed]",
            "text/plain": [
              "<Figure size 432x288 with 1 Axes>"
            ]
          },
          "metadata": {
            "tags": [],
            "needs_background": "light"
          }
        },
        {
          "output_type": "display_data",
          "data": {
            "image/png": "[encoded data removed]",
            "text/plain": [
              "<Figure size 432x288 with 1 Axes>"
            ]
          },
          "metadata": {
            "tags": [],
            "needs_background": "light"
          }
        },
        {
          "output_type": "display_data",
          "data": {
            "image/png": "[encoded data removed]",
            "text/plain": [
              "<Figure size 432x288 with 1 Axes>"
            ]
          },
          "metadata": {
            "tags": [],
            "needs_background": "light"
          }
        },
        {
          "output_type": "display_data",
          "data": {
            "image/png": "[encoded data removed]",
            "text/plain": [
              "<Figure size 432x288 with 1 Axes>"
            ]
          },
          "metadata": {
            "tags": [],
            "needs_background": "light"
          }
        },
        {
          "output_type": "display_data",
          "data": {
            "image/png": "[encoded data removed]",
            "text/plain": [
              "<Figure size 432x288 with 1 Axes>"
            ]
          },
          "metadata": {
            "tags": [],
            "needs_background": "light"
          }
        },
        {
          "output_type": "display_data",
          "data": {
            "image/png": "[encoded data removed]",
            "text/plain": [
              "<Figure size 432x288 with 1 Axes>"
            ]
          },
          "metadata": {
            "tags": [],
            "needs_background": "light"
          }
        },
        {
          "output_type": "display_data",
          "data": {
            "image/png": "[encoded data removed]",
            "text/plain": [
              "<Figure size 432x288 with 1 Axes>"
            ]
          },
          "metadata": {
            "tags": [],
            "needs_background": "light"
          }
        },
        {
          "output_type": "display_data",
          "data": {
            "image/png": "[encoded data removed]",
            "text/plain": [
              "<Figure size 432x288 with 1 Axes>"
            ]
          },
          "metadata": {
            "tags": [],
            "needs_background": "light"
          }
        },
        {
          "output_type": "display_data",
          "data": {
            "image/png": "[encoded data removed]",
            "text/plain": [
              "<Figure size 432x288 with 1 Axes>"
            ]
          },
          "metadata": {
            "tags": [],
            "needs_background": "light"
          }
        }
      ]
    },
    {
      "cell_type": "code",
      "metadata": {
        "id": "e6lG4JSt7Jjg",
        "colab_type": "code",
        "outputId": "7a5c0910-872a-4a76-f1d0-105e2e6803c2",
        "colab": {
          "base_uri": "https://localhost:8080/",
          "height": 34
        }
      },
      "source": [
        "#### se tratan los valores nulos \n",
        "\n",
        "#suma del total de nulos\n",
        "\n",
        "sum(df.isna().sum())    #313322 NaNs\n",
        "df.isna().sum()\n",
        "\n"
      ],
      "execution_count": 0,
      "outputs": [
        {
          "output_type": "execute_result",
          "data": {
            "text/plain": [
              "(25979, 101)"
            ]
          },
          "metadata": {
            "tags": []
          },
          "execution_count": 10
        }
      ]
    },
    {
      "cell_type": "code",
      "metadata": {
        "id": "XCEc-8hmorOB",
        "colab_type": "code",
        "colab": {}
      },
      "source": [
        "#se identifican las variables que tienen menos del 15% de valores nulos\n",
        "\n",
        "(df.isna().sum())>3897\n",
        "df.shape #(25979, 101)"
      ],
      "execution_count": 0,
      "outputs": []
    },
    {
      "cell_type": "code",
      "metadata": {
        "id": "WA_H7zJm7TA-",
        "colab_type": "code",
        "outputId": "e490d5d1-8414-4619-ebd5-95e775fa5c69",
        "colab": {
          "base_uri": "https://localhost:8080/",
          "height": 34
        }
      },
      "source": [
        "# Aqui quitamos las columnas que tienen más del 15% de valores nulos (3897 nulos)\n",
        "#25979*.15 #=not more than 3897 NaNs\n",
        "\n",
        "list_na=['PSH','PSD','PSA','SJH','SJD','SJA','GBH','GBD','GBA','BSH','BSD','BSA','home_team_goal','away_team_goal']\n",
        "df1=df.drop(list_na, axis=1)\n",
        "df1.shape #(25979, 87)"
      ],
      "execution_count": 0,
      "outputs": [
        {
          "output_type": "execute_result",
          "data": {
            "text/plain": [
              "(25979, 87)"
            ]
          },
          "metadata": {
            "tags": []
          },
          "execution_count": 11
        }
      ]
    },
    {
      "cell_type": "code",
      "metadata": {
        "id": "pLpJE1fq7jLS",
        "colab_type": "code",
        "outputId": "eca9d880-42dd-490b-88a9-0638488f3db3",
        "colab": {
          "base_uri": "https://localhost:8080/",
          "height": 1000
        }
      },
      "source": [
        "#replace the remaining variables with NaN with their Means\n",
        "\n",
        "df1=df1.fillna(df1.mean())\n",
        "df1.isna().sum()"
      ],
      "execution_count": 0,
      "outputs": [
        {
          "output_type": "execute_result",
          "data": {
            "text/plain": [
              "home_player_X1     0\n",
              "home_player_X2     0\n",
              "home_player_X3     0\n",
              "home_player_X4     0\n",
              "home_player_X5     0\n",
              "home_player_X6     0\n",
              "home_player_X7     0\n",
              "home_player_X8     0\n",
              "home_player_X9     0\n",
              "home_player_X10    0\n",
              "home_player_X11    0\n",
              "away_player_X1     0\n",
              "away_player_X2     0\n",
              "away_player_X3     0\n",
              "away_player_X4     0\n",
              "away_player_X5     0\n",
              "away_player_X6     0\n",
              "away_player_X7     0\n",
              "away_player_X8     0\n",
              "away_player_X9     0\n",
              "away_player_X10    0\n",
              "away_player_X11    0\n",
              "home_player_Y1     0\n",
              "home_player_Y2     0\n",
              "home_player_Y3     0\n",
              "home_player_Y4     0\n",
              "home_player_Y5     0\n",
              "home_player_Y6     0\n",
              "home_player_Y7     0\n",
              "home_player_Y8     0\n",
              "home_player_Y9     0\n",
              "home_player_Y10    0\n",
              "home_player_Y11    0\n",
              "away_player_Y1     0\n",
              "away_player_Y2     0\n",
              "away_player_Y3     0\n",
              "away_player_Y4     0\n",
              "away_player_Y5     0\n",
              "away_player_Y6     0\n",
              "away_player_Y7     0\n",
              "away_player_Y8     0\n",
              "away_player_Y9     0\n",
              "away_player_Y10    0\n",
              "away_player_Y11    0\n",
              "home_player_1      0\n",
              "home_player_2      0\n",
              "home_player_3      0\n",
              "home_player_4      0\n",
              "home_player_5      0\n",
              "home_player_6      0\n",
              "home_player_7      0\n",
              "home_player_8      0\n",
              "home_player_9      0\n",
              "home_player_10     0\n",
              "home_player_11     0\n",
              "away_player_1      0\n",
              "away_player_2      0\n",
              "away_player_3      0\n",
              "away_player_4      0\n",
              "away_player_5      0\n",
              "away_player_6      0\n",
              "away_player_7      0\n",
              "away_player_8      0\n",
              "away_player_9      0\n",
              "away_player_10     0\n",
              "away_player_11     0\n",
              "B365H              0\n",
              "B365D              0\n",
              "B365A              0\n",
              "BWH                0\n",
              "BWD                0\n",
              "BWA                0\n",
              "IWH                0\n",
              "IWD                0\n",
              "IWA                0\n",
              "LBH                0\n",
              "LBD                0\n",
              "LBA                0\n",
              "WHH                0\n",
              "WHD                0\n",
              "WHA                0\n",
              "VCH                0\n",
              "VCD                0\n",
              "VCA                0\n",
              "total goals        0\n",
              "altas 2.5          0\n",
              "altas 3.5          0\n",
              "dtype: int64"
            ]
          },
          "metadata": {
            "tags": []
          },
          "execution_count": 12
        }
      ]
    },
    {
      "cell_type": "code",
      "metadata": {
        "id": "_jH-tmC67o-_",
        "colab_type": "code",
        "outputId": "7e7af41d-792b-4f86-8b5b-1fa4629bb547",
        "colab": {
          "base_uri": "https://localhost:8080/",
          "height": 346
        }
      },
      "source": [
        "#Descripción de las variables\n",
        "df1.describe()\n"
      ],
      "execution_count": 0,
      "outputs": [
        {
          "output_type": "execute_result",
          "data": {
            "text/html": [
              "<div>\n",
              "<style scoped>\n",
              "    .dataframe tbody tr th:only-of-type {\n",
              "        vertical-align: middle;\n",
              "    }\n",
              "\n",
              "    .dataframe tbody tr th {\n",
              "        vertical-align: top;\n",
              "    }\n",
              "\n",
              "    .dataframe thead th {\n",
              "        text-align: right;\n",
              "    }\n",
              "</style>\n",
              "<table border=\"1\" class=\"dataframe\">\n",
              "  <thead>\n",
              "    <tr style=\"text-align: right;\">\n",
              "      <th></th>\n",
              "      <th>home_player_X1</th>\n",
              "      <th>home_player_X2</th>\n",
              "      <th>home_player_X3</th>\n",
              "      <th>home_player_X4</th>\n",
              "      <th>home_player_X5</th>\n",
              "      <th>home_player_X6</th>\n",
              "      <th>home_player_X7</th>\n",
              "      <th>home_player_X8</th>\n",
              "      <th>home_player_X9</th>\n",
              "      <th>home_player_X10</th>\n",
              "      <th>home_player_X11</th>\n",
              "      <th>away_player_X1</th>\n",
              "      <th>away_player_X2</th>\n",
              "      <th>away_player_X3</th>\n",
              "      <th>away_player_X4</th>\n",
              "      <th>away_player_X5</th>\n",
              "      <th>away_player_X6</th>\n",
              "      <th>away_player_X7</th>\n",
              "      <th>away_player_X8</th>\n",
              "      <th>away_player_X9</th>\n",
              "      <th>away_player_X10</th>\n",
              "      <th>away_player_X11</th>\n",
              "      <th>home_player_Y1</th>\n",
              "      <th>home_player_Y2</th>\n",
              "      <th>home_player_Y3</th>\n",
              "      <th>home_player_Y4</th>\n",
              "      <th>home_player_Y5</th>\n",
              "      <th>home_player_Y6</th>\n",
              "      <th>home_player_Y7</th>\n",
              "      <th>home_player_Y8</th>\n",
              "      <th>home_player_Y9</th>\n",
              "      <th>home_player_Y10</th>\n",
              "      <th>home_player_Y11</th>\n",
              "      <th>away_player_Y1</th>\n",
              "      <th>away_player_Y2</th>\n",
              "      <th>away_player_Y3</th>\n",
              "      <th>away_player_Y4</th>\n",
              "      <th>away_player_Y5</th>\n",
              "      <th>away_player_Y6</th>\n",
              "      <th>away_player_Y7</th>\n",
              "      <th>...</th>\n",
              "      <th>home_player_2</th>\n",
              "      <th>home_player_3</th>\n",
              "      <th>home_player_4</th>\n",
              "      <th>home_player_5</th>\n",
              "      <th>home_player_6</th>\n",
              "      <th>home_player_7</th>\n",
              "      <th>home_player_8</th>\n",
              "      <th>home_player_9</th>\n",
              "      <th>home_player_10</th>\n",
              "      <th>home_player_11</th>\n",
              "      <th>away_player_1</th>\n",
              "      <th>away_player_2</th>\n",
              "      <th>away_player_3</th>\n",
              "      <th>away_player_4</th>\n",
              "      <th>away_player_5</th>\n",
              "      <th>away_player_6</th>\n",
              "      <th>away_player_7</th>\n",
              "      <th>away_player_8</th>\n",
              "      <th>away_player_9</th>\n",
              "      <th>away_player_10</th>\n",
              "      <th>away_player_11</th>\n",
              "      <th>B365H</th>\n",
              "      <th>B365D</th>\n",
              "      <th>B365A</th>\n",
              "      <th>BWH</th>\n",
              "      <th>BWD</th>\n",
              "      <th>BWA</th>\n",
              "      <th>IWH</th>\n",
              "      <th>IWD</th>\n",
              "      <th>IWA</th>\n",
              "      <th>LBH</th>\n",
              "      <th>LBD</th>\n",
              "      <th>LBA</th>\n",
              "      <th>WHH</th>\n",
              "      <th>WHD</th>\n",
              "      <th>WHA</th>\n",
              "      <th>VCH</th>\n",
              "      <th>VCD</th>\n",
              "      <th>VCA</th>\n",
              "      <th>total goals</th>\n",
              "    </tr>\n",
              "  </thead>\n",
              "  <tbody>\n",
              "    <tr>\n",
              "      <th>count</th>\n",
              "      <td>25979.000000</td>\n",
              "      <td>25979.000000</td>\n",
              "      <td>25979.000000</td>\n",
              "      <td>25979.000000</td>\n",
              "      <td>25979.000000</td>\n",
              "      <td>25979.000000</td>\n",
              "      <td>25979.000000</td>\n",
              "      <td>25979.000000</td>\n",
              "      <td>25979.000000</td>\n",
              "      <td>25979.000000</td>\n",
              "      <td>25979.000000</td>\n",
              "      <td>25979.000000</td>\n",
              "      <td>25979.000000</td>\n",
              "      <td>25979.000000</td>\n",
              "      <td>25979.000000</td>\n",
              "      <td>25979.000000</td>\n",
              "      <td>25979.000000</td>\n",
              "      <td>25979.000000</td>\n",
              "      <td>25979.000000</td>\n",
              "      <td>25979.000000</td>\n",
              "      <td>25979.000000</td>\n",
              "      <td>25979.000000</td>\n",
              "      <td>25979.000000</td>\n",
              "      <td>25979.000000</td>\n",
              "      <td>25979.000000</td>\n",
              "      <td>25979.000000</td>\n",
              "      <td>25979.000000</td>\n",
              "      <td>25979.000000</td>\n",
              "      <td>25979.000000</td>\n",
              "      <td>25979.000000</td>\n",
              "      <td>25979.000000</td>\n",
              "      <td>25979.000000</td>\n",
              "      <td>25979.00000</td>\n",
              "      <td>25979.000000</td>\n",
              "      <td>25979.0</td>\n",
              "      <td>25979.000000</td>\n",
              "      <td>25979.000000</td>\n",
              "      <td>25979.000000</td>\n",
              "      <td>25979.000000</td>\n",
              "      <td>25979.000000</td>\n",
              "      <td>...</td>\n",
              "      <td>25979.000000</td>\n",
              "      <td>25979.000000</td>\n",
              "      <td>25979.000000</td>\n",
              "      <td>25979.000000</td>\n",
              "      <td>25979.000000</td>\n",
              "      <td>25979.000000</td>\n",
              "      <td>25979.000000</td>\n",
              "      <td>25979.000000</td>\n",
              "      <td>25979.000000</td>\n",
              "      <td>25979.000000</td>\n",
              "      <td>25979.000000</td>\n",
              "      <td>25979.000000</td>\n",
              "      <td>25979.000000</td>\n",
              "      <td>25979.000000</td>\n",
              "      <td>25979.000000</td>\n",
              "      <td>25979.000000</td>\n",
              "      <td>25979.000000</td>\n",
              "      <td>25979.000000</td>\n",
              "      <td>25979.000000</td>\n",
              "      <td>25979.000000</td>\n",
              "      <td>25979.000000</td>\n",
              "      <td>25979.000000</td>\n",
              "      <td>25979.000000</td>\n",
              "      <td>25979.000000</td>\n",
              "      <td>25979.000000</td>\n",
              "      <td>25979.000000</td>\n",
              "      <td>25979.000000</td>\n",
              "      <td>25979.000000</td>\n",
              "      <td>25979.000000</td>\n",
              "      <td>25979.000000</td>\n",
              "      <td>25979.000000</td>\n",
              "      <td>25979.000000</td>\n",
              "      <td>25979.000000</td>\n",
              "      <td>25979.000000</td>\n",
              "      <td>25979.000000</td>\n",
              "      <td>25979.000000</td>\n",
              "      <td>25979.000000</td>\n",
              "      <td>25979.000000</td>\n",
              "      <td>25979.000000</td>\n",
              "      <td>25979.000000</td>\n",
              "    </tr>\n",
              "    <tr>\n",
              "      <th>mean</th>\n",
              "      <td>0.999586</td>\n",
              "      <td>2.073516</td>\n",
              "      <td>4.061001</td>\n",
              "      <td>6.049199</td>\n",
              "      <td>7.544871</td>\n",
              "      <td>3.185158</td>\n",
              "      <td>4.769909</td>\n",
              "      <td>5.309604</td>\n",
              "      <td>5.822048</td>\n",
              "      <td>5.389407</td>\n",
              "      <td>5.783244</td>\n",
              "      <td>1.000290</td>\n",
              "      <td>2.074585</td>\n",
              "      <td>4.058558</td>\n",
              "      <td>6.052222</td>\n",
              "      <td>7.525490</td>\n",
              "      <td>3.195387</td>\n",
              "      <td>4.742660</td>\n",
              "      <td>5.294115</td>\n",
              "      <td>5.807546</td>\n",
              "      <td>5.476187</td>\n",
              "      <td>5.766114</td>\n",
              "      <td>0.999627</td>\n",
              "      <td>2.998634</td>\n",
              "      <td>3.000083</td>\n",
              "      <td>3.000414</td>\n",
              "      <td>3.237214</td>\n",
              "      <td>6.476954</td>\n",
              "      <td>6.672257</td>\n",
              "      <td>7.238953</td>\n",
              "      <td>8.026339</td>\n",
              "      <td>9.218868</td>\n",
              "      <td>10.43699</td>\n",
              "      <td>1.000248</td>\n",
              "      <td>3.0</td>\n",
              "      <td>3.000166</td>\n",
              "      <td>3.000248</td>\n",
              "      <td>3.245124</td>\n",
              "      <td>6.469706</td>\n",
              "      <td>6.680292</td>\n",
              "      <td>...</td>\n",
              "      <td>106854.091996</td>\n",
              "      <td>91601.289457</td>\n",
              "      <td>94540.204494</td>\n",
              "      <td>109527.842071</td>\n",
              "      <td>102308.768516</td>\n",
              "      <td>97287.636918</td>\n",
              "      <td>107290.992947</td>\n",
              "      <td>111131.536914</td>\n",
              "      <td>105612.508373</td>\n",
              "      <td>103413.870660</td>\n",
              "      <td>76628.199879</td>\n",
              "      <td>107614.617424</td>\n",
              "      <td>91126.781293</td>\n",
              "      <td>95083.910617</td>\n",
              "      <td>109800.936901</td>\n",
              "      <td>102308.262588</td>\n",
              "      <td>97898.056014</td>\n",
              "      <td>109265.114214</td>\n",
              "      <td>111087.003448</td>\n",
              "      <td>107149.115943</td>\n",
              "      <td>104932.876970</td>\n",
              "      <td>2.628818</td>\n",
              "      <td>3.839699</td>\n",
              "      <td>4.662282</td>\n",
              "      <td>2.559263</td>\n",
              "      <td>3.747612</td>\n",
              "      <td>4.397000</td>\n",
              "      <td>2.467625</td>\n",
              "      <td>3.608946</td>\n",
              "      <td>4.150622</td>\n",
              "      <td>2.536217</td>\n",
              "      <td>3.711753</td>\n",
              "      <td>4.385403</td>\n",
              "      <td>2.578749</td>\n",
              "      <td>3.665325</td>\n",
              "      <td>4.482633</td>\n",
              "      <td>2.668126</td>\n",
              "      <td>3.899066</td>\n",
              "      <td>4.840345</td>\n",
              "      <td>2.705531</td>\n",
              "    </tr>\n",
              "    <tr>\n",
              "      <th>std</th>\n",
              "      <td>0.021489</td>\n",
              "      <td>0.373368</td>\n",
              "      <td>0.372114</td>\n",
              "      <td>0.430010</td>\n",
              "      <td>1.551886</td>\n",
              "      <td>1.189316</td>\n",
              "      <td>1.053164</td>\n",
              "      <td>1.626790</td>\n",
              "      <td>1.897869</td>\n",
              "      <td>1.438495</td>\n",
              "      <td>0.732312</td>\n",
              "      <td>0.032238</td>\n",
              "      <td>0.389082</td>\n",
              "      <td>0.373150</td>\n",
              "      <td>0.432313</td>\n",
              "      <td>1.578849</td>\n",
              "      <td>1.237956</td>\n",
              "      <td>1.078076</td>\n",
              "      <td>1.626741</td>\n",
              "      <td>1.886806</td>\n",
              "      <td>1.485978</td>\n",
              "      <td>0.736086</td>\n",
              "      <td>0.024027</td>\n",
              "      <td>0.061719</td>\n",
              "      <td>0.012408</td>\n",
              "      <td>0.027744</td>\n",
              "      <td>0.906713</td>\n",
              "      <td>0.713419</td>\n",
              "      <td>0.567428</td>\n",
              "      <td>0.567801</td>\n",
              "      <td>1.086016</td>\n",
              "      <td>1.035335</td>\n",
              "      <td>0.48762</td>\n",
              "      <td>0.021491</td>\n",
              "      <td>0.0</td>\n",
              "      <td>0.024817</td>\n",
              "      <td>0.027746</td>\n",
              "      <td>0.921094</td>\n",
              "      <td>0.729233</td>\n",
              "      <td>0.565443</td>\n",
              "      <td>...</td>\n",
              "      <td>109731.872728</td>\n",
              "      <td>100138.801525</td>\n",
              "      <td>100138.336981</td>\n",
              "      <td>109893.605913</td>\n",
              "      <td>108633.620845</td>\n",
              "      <td>104491.879399</td>\n",
              "      <td>111604.288829</td>\n",
              "      <td>113338.491979</td>\n",
              "      <td>108401.940747</td>\n",
              "      <td>105455.830091</td>\n",
              "      <td>85327.176622</td>\n",
              "      <td>110924.959407</td>\n",
              "      <td>98881.918782</td>\n",
              "      <td>101171.138438</td>\n",
              "      <td>109523.207848</td>\n",
              "      <td>108023.334625</td>\n",
              "      <td>104776.021640</td>\n",
              "      <td>113315.064010</td>\n",
              "      <td>113476.328889</td>\n",
              "      <td>109235.721766</td>\n",
              "      <td>106889.488117</td>\n",
              "      <td>1.673398</td>\n",
              "      <td>1.042822</td>\n",
              "      <td>3.478440</td>\n",
              "      <td>1.526899</td>\n",
              "      <td>0.963380</td>\n",
              "      <td>3.068987</td>\n",
              "      <td>1.345960</td>\n",
              "      <td>0.748170</td>\n",
              "      <td>2.661774</td>\n",
              "      <td>1.528740</td>\n",
              "      <td>0.935372</td>\n",
              "      <td>3.166483</td>\n",
              "      <td>1.571265</td>\n",
              "      <td>0.893007</td>\n",
              "      <td>3.341653</td>\n",
              "      <td>1.797671</td>\n",
              "      <td>1.163388</td>\n",
              "      <td>4.024850</td>\n",
              "      <td>1.672456</td>\n",
              "    </tr>\n",
              "    <tr>\n",
              "      <th>min</th>\n",
              "      <td>0.000000</td>\n",
              "      <td>0.000000</td>\n",
              "      <td>1.000000</td>\n",
              "      <td>2.000000</td>\n",
              "      <td>1.000000</td>\n",
              "      <td>1.000000</td>\n",
              "      <td>1.000000</td>\n",
              "      <td>1.000000</td>\n",
              "      <td>1.000000</td>\n",
              "      <td>1.000000</td>\n",
              "      <td>1.000000</td>\n",
              "      <td>1.000000</td>\n",
              "      <td>1.000000</td>\n",
              "      <td>2.000000</td>\n",
              "      <td>1.000000</td>\n",
              "      <td>1.000000</td>\n",
              "      <td>1.000000</td>\n",
              "      <td>1.000000</td>\n",
              "      <td>1.000000</td>\n",
              "      <td>1.000000</td>\n",
              "      <td>1.000000</td>\n",
              "      <td>3.000000</td>\n",
              "      <td>0.000000</td>\n",
              "      <td>0.000000</td>\n",
              "      <td>3.000000</td>\n",
              "      <td>3.000000</td>\n",
              "      <td>3.000000</td>\n",
              "      <td>3.000000</td>\n",
              "      <td>3.000000</td>\n",
              "      <td>3.000000</td>\n",
              "      <td>1.000000</td>\n",
              "      <td>3.000000</td>\n",
              "      <td>1.00000</td>\n",
              "      <td>1.000000</td>\n",
              "      <td>3.0</td>\n",
              "      <td>3.000000</td>\n",
              "      <td>3.000000</td>\n",
              "      <td>3.000000</td>\n",
              "      <td>3.000000</td>\n",
              "      <td>3.000000</td>\n",
              "      <td>...</td>\n",
              "      <td>2802.000000</td>\n",
              "      <td>2752.000000</td>\n",
              "      <td>2752.000000</td>\n",
              "      <td>2752.000000</td>\n",
              "      <td>2625.000000</td>\n",
              "      <td>2625.000000</td>\n",
              "      <td>2625.000000</td>\n",
              "      <td>2625.000000</td>\n",
              "      <td>2625.000000</td>\n",
              "      <td>2802.000000</td>\n",
              "      <td>2796.000000</td>\n",
              "      <td>2790.000000</td>\n",
              "      <td>2752.000000</td>\n",
              "      <td>2752.000000</td>\n",
              "      <td>2790.000000</td>\n",
              "      <td>2625.000000</td>\n",
              "      <td>2625.000000</td>\n",
              "      <td>2625.000000</td>\n",
              "      <td>2625.000000</td>\n",
              "      <td>2770.000000</td>\n",
              "      <td>2802.000000</td>\n",
              "      <td>1.040000</td>\n",
              "      <td>1.400000</td>\n",
              "      <td>1.080000</td>\n",
              "      <td>1.030000</td>\n",
              "      <td>1.650000</td>\n",
              "      <td>1.100000</td>\n",
              "      <td>1.030000</td>\n",
              "      <td>1.500000</td>\n",
              "      <td>1.100000</td>\n",
              "      <td>1.040000</td>\n",
              "      <td>1.400000</td>\n",
              "      <td>1.100000</td>\n",
              "      <td>1.020000</td>\n",
              "      <td>1.020000</td>\n",
              "      <td>1.080000</td>\n",
              "      <td>1.030000</td>\n",
              "      <td>1.620000</td>\n",
              "      <td>1.080000</td>\n",
              "      <td>0.000000</td>\n",
              "    </tr>\n",
              "    <tr>\n",
              "      <th>25%</th>\n",
              "      <td>1.000000</td>\n",
              "      <td>2.000000</td>\n",
              "      <td>4.000000</td>\n",
              "      <td>6.000000</td>\n",
              "      <td>8.000000</td>\n",
              "      <td>2.000000</td>\n",
              "      <td>4.000000</td>\n",
              "      <td>3.000000</td>\n",
              "      <td>5.000000</td>\n",
              "      <td>4.000000</td>\n",
              "      <td>5.000000</td>\n",
              "      <td>1.000000</td>\n",
              "      <td>2.000000</td>\n",
              "      <td>4.000000</td>\n",
              "      <td>6.000000</td>\n",
              "      <td>8.000000</td>\n",
              "      <td>2.000000</td>\n",
              "      <td>4.000000</td>\n",
              "      <td>3.000000</td>\n",
              "      <td>5.000000</td>\n",
              "      <td>4.000000</td>\n",
              "      <td>5.000000</td>\n",
              "      <td>1.000000</td>\n",
              "      <td>3.000000</td>\n",
              "      <td>3.000000</td>\n",
              "      <td>3.000000</td>\n",
              "      <td>3.000000</td>\n",
              "      <td>6.000000</td>\n",
              "      <td>6.000000</td>\n",
              "      <td>7.000000</td>\n",
              "      <td>7.000000</td>\n",
              "      <td>8.000000</td>\n",
              "      <td>10.00000</td>\n",
              "      <td>1.000000</td>\n",
              "      <td>3.0</td>\n",
              "      <td>3.000000</td>\n",
              "      <td>3.000000</td>\n",
              "      <td>3.000000</td>\n",
              "      <td>6.000000</td>\n",
              "      <td>6.000000</td>\n",
              "      <td>...</td>\n",
              "      <td>32833.000000</td>\n",
              "      <td>30740.000000</td>\n",
              "      <td>30819.000000</td>\n",
              "      <td>33893.000000</td>\n",
              "      <td>32421.000000</td>\n",
              "      <td>31013.000000</td>\n",
              "      <td>33433.000000</td>\n",
              "      <td>33773.000000</td>\n",
              "      <td>32867.000000</td>\n",
              "      <td>32978.000000</td>\n",
              "      <td>30660.000000</td>\n",
              "      <td>32870.000000</td>\n",
              "      <td>30723.000000</td>\n",
              "      <td>30752.000000</td>\n",
              "      <td>33848.000000</td>\n",
              "      <td>32345.000000</td>\n",
              "      <td>31045.000000</td>\n",
              "      <td>33685.000000</td>\n",
              "      <td>33852.000000</td>\n",
              "      <td>33098.000000</td>\n",
              "      <td>33028.000000</td>\n",
              "      <td>1.750000</td>\n",
              "      <td>3.300000</td>\n",
              "      <td>2.700000</td>\n",
              "      <td>1.750000</td>\n",
              "      <td>3.250000</td>\n",
              "      <td>2.650000</td>\n",
              "      <td>1.750000</td>\n",
              "      <td>3.200000</td>\n",
              "      <td>2.600000</td>\n",
              "      <td>1.730000</td>\n",
              "      <td>3.250000</td>\n",
              "      <td>2.620000</td>\n",
              "      <td>1.750000</td>\n",
              "      <td>3.200000</td>\n",
              "      <td>2.700000</td>\n",
              "      <td>1.750000</td>\n",
              "      <td>3.300000</td>\n",
              "      <td>2.700000</td>\n",
              "      <td>2.000000</td>\n",
              "    </tr>\n",
              "    <tr>\n",
              "      <th>50%</th>\n",
              "      <td>1.000000</td>\n",
              "      <td>2.000000</td>\n",
              "      <td>4.000000</td>\n",
              "      <td>6.000000</td>\n",
              "      <td>8.000000</td>\n",
              "      <td>3.000000</td>\n",
              "      <td>5.000000</td>\n",
              "      <td>6.000000</td>\n",
              "      <td>5.000000</td>\n",
              "      <td>5.000000</td>\n",
              "      <td>6.000000</td>\n",
              "      <td>1.000000</td>\n",
              "      <td>2.000000</td>\n",
              "      <td>4.000000</td>\n",
              "      <td>6.000000</td>\n",
              "      <td>8.000000</td>\n",
              "      <td>3.000000</td>\n",
              "      <td>5.000000</td>\n",
              "      <td>6.000000</td>\n",
              "      <td>5.000000</td>\n",
              "      <td>5.000000</td>\n",
              "      <td>6.000000</td>\n",
              "      <td>1.000000</td>\n",
              "      <td>3.000000</td>\n",
              "      <td>3.000000</td>\n",
              "      <td>3.000000</td>\n",
              "      <td>3.000000</td>\n",
              "      <td>7.000000</td>\n",
              "      <td>7.000000</td>\n",
              "      <td>7.000000</td>\n",
              "      <td>8.000000</td>\n",
              "      <td>10.000000</td>\n",
              "      <td>10.00000</td>\n",
              "      <td>1.000000</td>\n",
              "      <td>3.0</td>\n",
              "      <td>3.000000</td>\n",
              "      <td>3.000000</td>\n",
              "      <td>3.000000</td>\n",
              "      <td>7.000000</td>\n",
              "      <td>7.000000</td>\n",
              "      <td>...</td>\n",
              "      <td>46403.000000</td>\n",
              "      <td>40695.000000</td>\n",
              "      <td>41869.000000</td>\n",
              "      <td>50074.000000</td>\n",
              "      <td>43138.000000</td>\n",
              "      <td>42479.000000</td>\n",
              "      <td>47246.000000</td>\n",
              "      <td>49940.000000</td>\n",
              "      <td>47357.000000</td>\n",
              "      <td>46469.000000</td>\n",
              "      <td>39351.000000</td>\n",
              "      <td>46403.000000</td>\n",
              "      <td>40735.000000</td>\n",
              "      <td>41874.000000</td>\n",
              "      <td>52004.000000</td>\n",
              "      <td>45286.000000</td>\n",
              "      <td>42554.000000</td>\n",
              "      <td>50189.000000</td>\n",
              "      <td>50074.000000</td>\n",
              "      <td>49825.000000</td>\n",
              "      <td>46700.000000</td>\n",
              "      <td>2.250000</td>\n",
              "      <td>3.500000</td>\n",
              "      <td>3.800000</td>\n",
              "      <td>2.250000</td>\n",
              "      <td>3.500000</td>\n",
              "      <td>3.700000</td>\n",
              "      <td>2.200000</td>\n",
              "      <td>3.400000</td>\n",
              "      <td>3.600000</td>\n",
              "      <td>2.250000</td>\n",
              "      <td>3.500000</td>\n",
              "      <td>3.600000</td>\n",
              "      <td>2.300000</td>\n",
              "      <td>3.400000</td>\n",
              "      <td>3.750000</td>\n",
              "      <td>2.300000</td>\n",
              "      <td>3.600000</td>\n",
              "      <td>3.900000</td>\n",
              "      <td>3.000000</td>\n",
              "    </tr>\n",
              "    <tr>\n",
              "      <th>75%</th>\n",
              "      <td>1.000000</td>\n",
              "      <td>2.000000</td>\n",
              "      <td>4.000000</td>\n",
              "      <td>6.000000</td>\n",
              "      <td>8.000000</td>\n",
              "      <td>4.000000</td>\n",
              "      <td>6.000000</td>\n",
              "      <td>7.000000</td>\n",
              "      <td>8.000000</td>\n",
              "      <td>7.000000</td>\n",
              "      <td>6.000000</td>\n",
              "      <td>1.000000</td>\n",
              "      <td>2.000000</td>\n",
              "      <td>4.000000</td>\n",
              "      <td>6.000000</td>\n",
              "      <td>8.000000</td>\n",
              "      <td>4.000000</td>\n",
              "      <td>6.000000</td>\n",
              "      <td>7.000000</td>\n",
              "      <td>8.000000</td>\n",
              "      <td>7.000000</td>\n",
              "      <td>6.000000</td>\n",
              "      <td>1.000000</td>\n",
              "      <td>3.000000</td>\n",
              "      <td>3.000000</td>\n",
              "      <td>3.000000</td>\n",
              "      <td>3.000000</td>\n",
              "      <td>7.000000</td>\n",
              "      <td>7.000000</td>\n",
              "      <td>8.000000</td>\n",
              "      <td>8.026339</td>\n",
              "      <td>10.000000</td>\n",
              "      <td>11.00000</td>\n",
              "      <td>1.000000</td>\n",
              "      <td>3.0</td>\n",
              "      <td>3.000000</td>\n",
              "      <td>3.000000</td>\n",
              "      <td>3.000000</td>\n",
              "      <td>7.000000</td>\n",
              "      <td>7.000000</td>\n",
              "      <td>...</td>\n",
              "      <td>154950.000000</td>\n",
              "      <td>114034.500000</td>\n",
              "      <td>128037.000000</td>\n",
              "      <td>155534.000000</td>\n",
              "      <td>149211.000000</td>\n",
              "      <td>128148.000000</td>\n",
              "      <td>154229.500000</td>\n",
              "      <td>160472.000000</td>\n",
              "      <td>150831.000000</td>\n",
              "      <td>150565.000000</td>\n",
              "      <td>95336.000000</td>\n",
              "      <td>157252.000000</td>\n",
              "      <td>113311.000000</td>\n",
              "      <td>128456.000000</td>\n",
              "      <td>155611.000000</td>\n",
              "      <td>149949.000000</td>\n",
              "      <td>132809.000000</td>\n",
              "      <td>155355.000000</td>\n",
              "      <td>158861.000000</td>\n",
              "      <td>154259.000000</td>\n",
              "      <td>154280.000000</td>\n",
              "      <td>2.630000</td>\n",
              "      <td>3.839699</td>\n",
              "      <td>4.750000</td>\n",
              "      <td>2.600000</td>\n",
              "      <td>3.747612</td>\n",
              "      <td>4.600000</td>\n",
              "      <td>2.500000</td>\n",
              "      <td>3.608946</td>\n",
              "      <td>4.300000</td>\n",
              "      <td>2.536217</td>\n",
              "      <td>3.711753</td>\n",
              "      <td>4.500000</td>\n",
              "      <td>2.620000</td>\n",
              "      <td>3.665325</td>\n",
              "      <td>4.500000</td>\n",
              "      <td>2.668126</td>\n",
              "      <td>3.899066</td>\n",
              "      <td>4.840345</td>\n",
              "      <td>4.000000</td>\n",
              "    </tr>\n",
              "    <tr>\n",
              "      <th>max</th>\n",
              "      <td>2.000000</td>\n",
              "      <td>8.000000</td>\n",
              "      <td>8.000000</td>\n",
              "      <td>8.000000</td>\n",
              "      <td>9.000000</td>\n",
              "      <td>9.000000</td>\n",
              "      <td>9.000000</td>\n",
              "      <td>9.000000</td>\n",
              "      <td>9.000000</td>\n",
              "      <td>9.000000</td>\n",
              "      <td>7.000000</td>\n",
              "      <td>6.000000</td>\n",
              "      <td>8.000000</td>\n",
              "      <td>9.000000</td>\n",
              "      <td>8.000000</td>\n",
              "      <td>9.000000</td>\n",
              "      <td>9.000000</td>\n",
              "      <td>9.000000</td>\n",
              "      <td>9.000000</td>\n",
              "      <td>9.000000</td>\n",
              "      <td>9.000000</td>\n",
              "      <td>8.000000</td>\n",
              "      <td>3.000000</td>\n",
              "      <td>3.000000</td>\n",
              "      <td>5.000000</td>\n",
              "      <td>5.000000</td>\n",
              "      <td>8.000000</td>\n",
              "      <td>9.000000</td>\n",
              "      <td>9.000000</td>\n",
              "      <td>10.000000</td>\n",
              "      <td>10.000000</td>\n",
              "      <td>11.000000</td>\n",
              "      <td>11.00000</td>\n",
              "      <td>3.000000</td>\n",
              "      <td>3.0</td>\n",
              "      <td>7.000000</td>\n",
              "      <td>7.000000</td>\n",
              "      <td>9.000000</td>\n",
              "      <td>10.000000</td>\n",
              "      <td>10.000000</td>\n",
              "      <td>...</td>\n",
              "      <td>748432.000000</td>\n",
              "      <td>705484.000000</td>\n",
              "      <td>723037.000000</td>\n",
              "      <td>733787.000000</td>\n",
              "      <td>750584.000000</td>\n",
              "      <td>692984.000000</td>\n",
              "      <td>693171.000000</td>\n",
              "      <td>730065.000000</td>\n",
              "      <td>742405.000000</td>\n",
              "      <td>726956.000000</td>\n",
              "      <td>698273.000000</td>\n",
              "      <td>748432.000000</td>\n",
              "      <td>705484.000000</td>\n",
              "      <td>728414.000000</td>\n",
              "      <td>746419.000000</td>\n",
              "      <td>722766.000000</td>\n",
              "      <td>750435.000000</td>\n",
              "      <td>717248.000000</td>\n",
              "      <td>722766.000000</td>\n",
              "      <td>722766.000000</td>\n",
              "      <td>726956.000000</td>\n",
              "      <td>26.000000</td>\n",
              "      <td>17.000000</td>\n",
              "      <td>51.000000</td>\n",
              "      <td>34.000000</td>\n",
              "      <td>19.500000</td>\n",
              "      <td>51.000000</td>\n",
              "      <td>20.000000</td>\n",
              "      <td>11.000000</td>\n",
              "      <td>25.000000</td>\n",
              "      <td>26.000000</td>\n",
              "      <td>19.000000</td>\n",
              "      <td>51.000000</td>\n",
              "      <td>26.000000</td>\n",
              "      <td>17.000000</td>\n",
              "      <td>51.000000</td>\n",
              "      <td>36.000000</td>\n",
              "      <td>26.000000</td>\n",
              "      <td>67.000000</td>\n",
              "      <td>12.000000</td>\n",
              "    </tr>\n",
              "  </tbody>\n",
              "</table>\n",
              "<p>8 rows × 85 columns</p>\n",
              "</div>"
            ],
            "text/plain": [
              "       home_player_X1  home_player_X2  ...           VCA   total goals\n",
              "count    25979.000000    25979.000000  ...  25979.000000  25979.000000\n",
              "mean         0.999586        2.073516  ...      4.840345      2.705531\n",
              "std          0.021489        0.373368  ...      4.024850      1.672456\n",
              "min          0.000000        0.000000  ...      1.080000      0.000000\n",
              "25%          1.000000        2.000000  ...      2.700000      2.000000\n",
              "50%          1.000000        2.000000  ...      3.900000      3.000000\n",
              "75%          1.000000        2.000000  ...      4.840345      4.000000\n",
              "max          2.000000        8.000000  ...     67.000000     12.000000\n",
              "\n",
              "[8 rows x 85 columns]"
            ]
          },
          "metadata": {
            "tags": []
          },
          "execution_count": 13
        }
      ]
    },
    {
      "cell_type": "markdown",
      "metadata": {
        "id": "dhPqOqv_74U6",
        "colab_type": "text"
      },
      "source": [
        "Partición de datos"
      ]
    },
    {
      "cell_type": "code",
      "metadata": {
        "id": "yEJykibU78QP",
        "colab_type": "code",
        "outputId": "cae95eab-c5c5-45f6-b643-2da4ebc7b4a4",
        "colab": {
          "base_uri": "https://localhost:8080/",
          "height": 221
        }
      },
      "source": [
        "#Delimitación de variables dependiente y se sacan las variables que en este momento no se analizaran\n",
        "\n",
        "y1=df1['total goals']\n",
        "another_ys=df1[['altas 2.5','altas 3.5',]]\n",
        "another_ys\n",
        "y1"
      ],
      "execution_count": 0,
      "outputs": [
        {
          "output_type": "execute_result",
          "data": {
            "text/plain": [
              "0        2\n",
              "1        0\n",
              "2        3\n",
              "3        5\n",
              "4        4\n",
              "        ..\n",
              "25974    1\n",
              "25975    3\n",
              "25976    2\n",
              "25977    0\n",
              "25978    7\n",
              "Name: total goals, Length: 25979, dtype: int64"
            ]
          },
          "metadata": {
            "tags": []
          },
          "execution_count": 14
        }
      ]
    },
    {
      "cell_type": "code",
      "metadata": {
        "id": "y-uPAtsL8AyP",
        "colab_type": "code",
        "outputId": "ac1591f5-41b6-4831-ecaf-b19fd92a0ac4",
        "colab": {
          "base_uri": "https://localhost:8080/",
          "height": 221
        }
      },
      "source": [
        "#a fin de que no existan 0 goles, debido a que esto representa un problema\n",
        "#para las métricas de ejecución del modelo\n",
        "y1=y1+1\n",
        "y1"
      ],
      "execution_count": 0,
      "outputs": [
        {
          "output_type": "execute_result",
          "data": {
            "text/plain": [
              "0        3\n",
              "1        1\n",
              "2        4\n",
              "3        6\n",
              "4        5\n",
              "        ..\n",
              "25974    2\n",
              "25975    4\n",
              "25976    3\n",
              "25977    1\n",
              "25978    8\n",
              "Name: total goals, Length: 25979, dtype: int64"
            ]
          },
          "metadata": {
            "tags": []
          },
          "execution_count": 15
        }
      ]
    },
    {
      "cell_type": "code",
      "metadata": {
        "id": "-4RkezRY8eAO",
        "colab_type": "code",
        "outputId": "8b528916-dc36-49b1-8442-59f633459277",
        "colab": {
          "base_uri": "https://localhost:8080/",
          "height": 253
        }
      },
      "source": [
        "#se retiran otras variables dependientes que no son las objetivo del modelo.\n",
        "\n",
        "df2=df1.drop(another_ys,axis=1)\n",
        "#df2=df1.drop(y, axis=1)\n",
        "df2=df2.drop('total goals',1)\n",
        "df2.shape  #(84 columnas)\n",
        "df2.head()"
      ],
      "execution_count": 0,
      "outputs": [
        {
          "output_type": "execute_result",
          "data": {
            "text/html": [
              "<div>\n",
              "<style scoped>\n",
              "    .dataframe tbody tr th:only-of-type {\n",
              "        vertical-align: middle;\n",
              "    }\n",
              "\n",
              "    .dataframe tbody tr th {\n",
              "        vertical-align: top;\n",
              "    }\n",
              "\n",
              "    .dataframe thead th {\n",
              "        text-align: right;\n",
              "    }\n",
              "</style>\n",
              "<table border=\"1\" class=\"dataframe\">\n",
              "  <thead>\n",
              "    <tr style=\"text-align: right;\">\n",
              "      <th></th>\n",
              "      <th>home_player_X1</th>\n",
              "      <th>home_player_X2</th>\n",
              "      <th>home_player_X3</th>\n",
              "      <th>home_player_X4</th>\n",
              "      <th>home_player_X5</th>\n",
              "      <th>home_player_X6</th>\n",
              "      <th>home_player_X7</th>\n",
              "      <th>home_player_X8</th>\n",
              "      <th>home_player_X9</th>\n",
              "      <th>home_player_X10</th>\n",
              "      <th>home_player_X11</th>\n",
              "      <th>away_player_X1</th>\n",
              "      <th>away_player_X2</th>\n",
              "      <th>away_player_X3</th>\n",
              "      <th>away_player_X4</th>\n",
              "      <th>away_player_X5</th>\n",
              "      <th>away_player_X6</th>\n",
              "      <th>away_player_X7</th>\n",
              "      <th>away_player_X8</th>\n",
              "      <th>away_player_X9</th>\n",
              "      <th>away_player_X10</th>\n",
              "      <th>away_player_X11</th>\n",
              "      <th>home_player_Y1</th>\n",
              "      <th>home_player_Y2</th>\n",
              "      <th>home_player_Y3</th>\n",
              "      <th>home_player_Y4</th>\n",
              "      <th>home_player_Y5</th>\n",
              "      <th>home_player_Y6</th>\n",
              "      <th>home_player_Y7</th>\n",
              "      <th>home_player_Y8</th>\n",
              "      <th>home_player_Y9</th>\n",
              "      <th>home_player_Y10</th>\n",
              "      <th>home_player_Y11</th>\n",
              "      <th>away_player_Y1</th>\n",
              "      <th>away_player_Y2</th>\n",
              "      <th>away_player_Y3</th>\n",
              "      <th>away_player_Y4</th>\n",
              "      <th>away_player_Y5</th>\n",
              "      <th>away_player_Y6</th>\n",
              "      <th>away_player_Y7</th>\n",
              "      <th>...</th>\n",
              "      <th>home_player_1</th>\n",
              "      <th>home_player_2</th>\n",
              "      <th>home_player_3</th>\n",
              "      <th>home_player_4</th>\n",
              "      <th>home_player_5</th>\n",
              "      <th>home_player_6</th>\n",
              "      <th>home_player_7</th>\n",
              "      <th>home_player_8</th>\n",
              "      <th>home_player_9</th>\n",
              "      <th>home_player_10</th>\n",
              "      <th>home_player_11</th>\n",
              "      <th>away_player_1</th>\n",
              "      <th>away_player_2</th>\n",
              "      <th>away_player_3</th>\n",
              "      <th>away_player_4</th>\n",
              "      <th>away_player_5</th>\n",
              "      <th>away_player_6</th>\n",
              "      <th>away_player_7</th>\n",
              "      <th>away_player_8</th>\n",
              "      <th>away_player_9</th>\n",
              "      <th>away_player_10</th>\n",
              "      <th>away_player_11</th>\n",
              "      <th>B365H</th>\n",
              "      <th>B365D</th>\n",
              "      <th>B365A</th>\n",
              "      <th>BWH</th>\n",
              "      <th>BWD</th>\n",
              "      <th>BWA</th>\n",
              "      <th>IWH</th>\n",
              "      <th>IWD</th>\n",
              "      <th>IWA</th>\n",
              "      <th>LBH</th>\n",
              "      <th>LBD</th>\n",
              "      <th>LBA</th>\n",
              "      <th>WHH</th>\n",
              "      <th>WHD</th>\n",
              "      <th>WHA</th>\n",
              "      <th>VCH</th>\n",
              "      <th>VCD</th>\n",
              "      <th>VCA</th>\n",
              "    </tr>\n",
              "  </thead>\n",
              "  <tbody>\n",
              "    <tr>\n",
              "      <th>0</th>\n",
              "      <td>0.999586</td>\n",
              "      <td>2.073516</td>\n",
              "      <td>4.061001</td>\n",
              "      <td>6.049199</td>\n",
              "      <td>7.544871</td>\n",
              "      <td>3.185158</td>\n",
              "      <td>4.769909</td>\n",
              "      <td>5.309604</td>\n",
              "      <td>5.822048</td>\n",
              "      <td>5.389407</td>\n",
              "      <td>5.783244</td>\n",
              "      <td>1.00029</td>\n",
              "      <td>2.074585</td>\n",
              "      <td>4.058558</td>\n",
              "      <td>6.052222</td>\n",
              "      <td>7.52549</td>\n",
              "      <td>3.195387</td>\n",
              "      <td>4.74266</td>\n",
              "      <td>5.294115</td>\n",
              "      <td>5.807546</td>\n",
              "      <td>5.476187</td>\n",
              "      <td>5.766114</td>\n",
              "      <td>0.999627</td>\n",
              "      <td>2.998634</td>\n",
              "      <td>3.000083</td>\n",
              "      <td>3.000414</td>\n",
              "      <td>3.237214</td>\n",
              "      <td>6.476954</td>\n",
              "      <td>6.672257</td>\n",
              "      <td>7.238953</td>\n",
              "      <td>8.026339</td>\n",
              "      <td>9.218868</td>\n",
              "      <td>10.43699</td>\n",
              "      <td>1.000248</td>\n",
              "      <td>3.0</td>\n",
              "      <td>3.000166</td>\n",
              "      <td>3.000248</td>\n",
              "      <td>3.245124</td>\n",
              "      <td>6.469706</td>\n",
              "      <td>6.680292</td>\n",
              "      <td>...</td>\n",
              "      <td>76638.362432</td>\n",
              "      <td>106854.091996</td>\n",
              "      <td>91601.289457</td>\n",
              "      <td>94540.204494</td>\n",
              "      <td>109527.842071</td>\n",
              "      <td>102308.768516</td>\n",
              "      <td>97287.636918</td>\n",
              "      <td>107290.992947</td>\n",
              "      <td>111131.536914</td>\n",
              "      <td>105612.508373</td>\n",
              "      <td>103413.87066</td>\n",
              "      <td>76628.199879</td>\n",
              "      <td>107614.617424</td>\n",
              "      <td>91126.781293</td>\n",
              "      <td>95083.910617</td>\n",
              "      <td>109800.936901</td>\n",
              "      <td>102308.262588</td>\n",
              "      <td>97898.056014</td>\n",
              "      <td>109265.114214</td>\n",
              "      <td>111087.003448</td>\n",
              "      <td>107149.115943</td>\n",
              "      <td>104932.87697</td>\n",
              "      <td>1.73</td>\n",
              "      <td>3.40</td>\n",
              "      <td>5.00</td>\n",
              "      <td>1.75</td>\n",
              "      <td>3.35</td>\n",
              "      <td>4.20</td>\n",
              "      <td>1.85</td>\n",
              "      <td>3.2</td>\n",
              "      <td>3.5</td>\n",
              "      <td>1.80</td>\n",
              "      <td>3.3</td>\n",
              "      <td>3.75</td>\n",
              "      <td>1.70</td>\n",
              "      <td>3.30</td>\n",
              "      <td>4.33</td>\n",
              "      <td>1.65</td>\n",
              "      <td>3.40</td>\n",
              "      <td>4.50</td>\n",
              "    </tr>\n",
              "    <tr>\n",
              "      <th>1</th>\n",
              "      <td>0.999586</td>\n",
              "      <td>2.073516</td>\n",
              "      <td>4.061001</td>\n",
              "      <td>6.049199</td>\n",
              "      <td>7.544871</td>\n",
              "      <td>3.185158</td>\n",
              "      <td>4.769909</td>\n",
              "      <td>5.309604</td>\n",
              "      <td>5.822048</td>\n",
              "      <td>5.389407</td>\n",
              "      <td>5.783244</td>\n",
              "      <td>1.00029</td>\n",
              "      <td>2.074585</td>\n",
              "      <td>4.058558</td>\n",
              "      <td>6.052222</td>\n",
              "      <td>7.52549</td>\n",
              "      <td>3.195387</td>\n",
              "      <td>4.74266</td>\n",
              "      <td>5.294115</td>\n",
              "      <td>5.807546</td>\n",
              "      <td>5.476187</td>\n",
              "      <td>5.766114</td>\n",
              "      <td>0.999627</td>\n",
              "      <td>2.998634</td>\n",
              "      <td>3.000083</td>\n",
              "      <td>3.000414</td>\n",
              "      <td>3.237214</td>\n",
              "      <td>6.476954</td>\n",
              "      <td>6.672257</td>\n",
              "      <td>7.238953</td>\n",
              "      <td>8.026339</td>\n",
              "      <td>9.218868</td>\n",
              "      <td>10.43699</td>\n",
              "      <td>1.000248</td>\n",
              "      <td>3.0</td>\n",
              "      <td>3.000166</td>\n",
              "      <td>3.000248</td>\n",
              "      <td>3.245124</td>\n",
              "      <td>6.469706</td>\n",
              "      <td>6.680292</td>\n",
              "      <td>...</td>\n",
              "      <td>76638.362432</td>\n",
              "      <td>106854.091996</td>\n",
              "      <td>91601.289457</td>\n",
              "      <td>94540.204494</td>\n",
              "      <td>109527.842071</td>\n",
              "      <td>102308.768516</td>\n",
              "      <td>97287.636918</td>\n",
              "      <td>107290.992947</td>\n",
              "      <td>111131.536914</td>\n",
              "      <td>105612.508373</td>\n",
              "      <td>103413.87066</td>\n",
              "      <td>76628.199879</td>\n",
              "      <td>107614.617424</td>\n",
              "      <td>91126.781293</td>\n",
              "      <td>95083.910617</td>\n",
              "      <td>109800.936901</td>\n",
              "      <td>102308.262588</td>\n",
              "      <td>97898.056014</td>\n",
              "      <td>109265.114214</td>\n",
              "      <td>111087.003448</td>\n",
              "      <td>107149.115943</td>\n",
              "      <td>104932.87697</td>\n",
              "      <td>1.95</td>\n",
              "      <td>3.20</td>\n",
              "      <td>3.60</td>\n",
              "      <td>1.80</td>\n",
              "      <td>3.30</td>\n",
              "      <td>3.95</td>\n",
              "      <td>1.90</td>\n",
              "      <td>3.2</td>\n",
              "      <td>3.5</td>\n",
              "      <td>1.90</td>\n",
              "      <td>3.2</td>\n",
              "      <td>3.50</td>\n",
              "      <td>1.83</td>\n",
              "      <td>3.30</td>\n",
              "      <td>3.60</td>\n",
              "      <td>2.00</td>\n",
              "      <td>3.25</td>\n",
              "      <td>3.25</td>\n",
              "    </tr>\n",
              "    <tr>\n",
              "      <th>2</th>\n",
              "      <td>0.999586</td>\n",
              "      <td>2.073516</td>\n",
              "      <td>4.061001</td>\n",
              "      <td>6.049199</td>\n",
              "      <td>7.544871</td>\n",
              "      <td>3.185158</td>\n",
              "      <td>4.769909</td>\n",
              "      <td>5.309604</td>\n",
              "      <td>5.822048</td>\n",
              "      <td>5.389407</td>\n",
              "      <td>5.783244</td>\n",
              "      <td>1.00029</td>\n",
              "      <td>2.074585</td>\n",
              "      <td>4.058558</td>\n",
              "      <td>6.052222</td>\n",
              "      <td>7.52549</td>\n",
              "      <td>3.195387</td>\n",
              "      <td>4.74266</td>\n",
              "      <td>5.294115</td>\n",
              "      <td>5.807546</td>\n",
              "      <td>5.476187</td>\n",
              "      <td>5.766114</td>\n",
              "      <td>0.999627</td>\n",
              "      <td>2.998634</td>\n",
              "      <td>3.000083</td>\n",
              "      <td>3.000414</td>\n",
              "      <td>3.237214</td>\n",
              "      <td>6.476954</td>\n",
              "      <td>6.672257</td>\n",
              "      <td>7.238953</td>\n",
              "      <td>8.026339</td>\n",
              "      <td>9.218868</td>\n",
              "      <td>10.43699</td>\n",
              "      <td>1.000248</td>\n",
              "      <td>3.0</td>\n",
              "      <td>3.000166</td>\n",
              "      <td>3.000248</td>\n",
              "      <td>3.245124</td>\n",
              "      <td>6.469706</td>\n",
              "      <td>6.680292</td>\n",
              "      <td>...</td>\n",
              "      <td>76638.362432</td>\n",
              "      <td>106854.091996</td>\n",
              "      <td>91601.289457</td>\n",
              "      <td>94540.204494</td>\n",
              "      <td>109527.842071</td>\n",
              "      <td>102308.768516</td>\n",
              "      <td>97287.636918</td>\n",
              "      <td>107290.992947</td>\n",
              "      <td>111131.536914</td>\n",
              "      <td>105612.508373</td>\n",
              "      <td>103413.87066</td>\n",
              "      <td>76628.199879</td>\n",
              "      <td>107614.617424</td>\n",
              "      <td>91126.781293</td>\n",
              "      <td>95083.910617</td>\n",
              "      <td>109800.936901</td>\n",
              "      <td>102308.262588</td>\n",
              "      <td>97898.056014</td>\n",
              "      <td>109265.114214</td>\n",
              "      <td>111087.003448</td>\n",
              "      <td>107149.115943</td>\n",
              "      <td>104932.87697</td>\n",
              "      <td>2.38</td>\n",
              "      <td>3.30</td>\n",
              "      <td>2.75</td>\n",
              "      <td>2.40</td>\n",
              "      <td>3.30</td>\n",
              "      <td>2.55</td>\n",
              "      <td>2.60</td>\n",
              "      <td>3.1</td>\n",
              "      <td>2.3</td>\n",
              "      <td>2.50</td>\n",
              "      <td>3.2</td>\n",
              "      <td>2.50</td>\n",
              "      <td>2.50</td>\n",
              "      <td>3.25</td>\n",
              "      <td>2.40</td>\n",
              "      <td>2.35</td>\n",
              "      <td>3.25</td>\n",
              "      <td>2.65</td>\n",
              "    </tr>\n",
              "    <tr>\n",
              "      <th>3</th>\n",
              "      <td>0.999586</td>\n",
              "      <td>2.073516</td>\n",
              "      <td>4.061001</td>\n",
              "      <td>6.049199</td>\n",
              "      <td>7.544871</td>\n",
              "      <td>3.185158</td>\n",
              "      <td>4.769909</td>\n",
              "      <td>5.309604</td>\n",
              "      <td>5.822048</td>\n",
              "      <td>5.389407</td>\n",
              "      <td>5.783244</td>\n",
              "      <td>1.00029</td>\n",
              "      <td>2.074585</td>\n",
              "      <td>4.058558</td>\n",
              "      <td>6.052222</td>\n",
              "      <td>7.52549</td>\n",
              "      <td>3.195387</td>\n",
              "      <td>4.74266</td>\n",
              "      <td>5.294115</td>\n",
              "      <td>5.807546</td>\n",
              "      <td>5.476187</td>\n",
              "      <td>5.766114</td>\n",
              "      <td>0.999627</td>\n",
              "      <td>2.998634</td>\n",
              "      <td>3.000083</td>\n",
              "      <td>3.000414</td>\n",
              "      <td>3.237214</td>\n",
              "      <td>6.476954</td>\n",
              "      <td>6.672257</td>\n",
              "      <td>7.238953</td>\n",
              "      <td>8.026339</td>\n",
              "      <td>9.218868</td>\n",
              "      <td>10.43699</td>\n",
              "      <td>1.000248</td>\n",
              "      <td>3.0</td>\n",
              "      <td>3.000166</td>\n",
              "      <td>3.000248</td>\n",
              "      <td>3.245124</td>\n",
              "      <td>6.469706</td>\n",
              "      <td>6.680292</td>\n",
              "      <td>...</td>\n",
              "      <td>76638.362432</td>\n",
              "      <td>106854.091996</td>\n",
              "      <td>91601.289457</td>\n",
              "      <td>94540.204494</td>\n",
              "      <td>109527.842071</td>\n",
              "      <td>102308.768516</td>\n",
              "      <td>97287.636918</td>\n",
              "      <td>107290.992947</td>\n",
              "      <td>111131.536914</td>\n",
              "      <td>105612.508373</td>\n",
              "      <td>103413.87066</td>\n",
              "      <td>76628.199879</td>\n",
              "      <td>107614.617424</td>\n",
              "      <td>91126.781293</td>\n",
              "      <td>95083.910617</td>\n",
              "      <td>109800.936901</td>\n",
              "      <td>102308.262588</td>\n",
              "      <td>97898.056014</td>\n",
              "      <td>109265.114214</td>\n",
              "      <td>111087.003448</td>\n",
              "      <td>107149.115943</td>\n",
              "      <td>104932.87697</td>\n",
              "      <td>1.44</td>\n",
              "      <td>3.75</td>\n",
              "      <td>7.50</td>\n",
              "      <td>1.40</td>\n",
              "      <td>4.00</td>\n",
              "      <td>6.80</td>\n",
              "      <td>1.40</td>\n",
              "      <td>3.9</td>\n",
              "      <td>6.0</td>\n",
              "      <td>1.44</td>\n",
              "      <td>3.6</td>\n",
              "      <td>6.50</td>\n",
              "      <td>1.44</td>\n",
              "      <td>3.75</td>\n",
              "      <td>6.00</td>\n",
              "      <td>1.45</td>\n",
              "      <td>3.75</td>\n",
              "      <td>6.50</td>\n",
              "    </tr>\n",
              "    <tr>\n",
              "      <th>4</th>\n",
              "      <td>0.999586</td>\n",
              "      <td>2.073516</td>\n",
              "      <td>4.061001</td>\n",
              "      <td>6.049199</td>\n",
              "      <td>7.544871</td>\n",
              "      <td>3.185158</td>\n",
              "      <td>4.769909</td>\n",
              "      <td>5.309604</td>\n",
              "      <td>5.822048</td>\n",
              "      <td>5.389407</td>\n",
              "      <td>5.783244</td>\n",
              "      <td>1.00029</td>\n",
              "      <td>2.074585</td>\n",
              "      <td>4.058558</td>\n",
              "      <td>6.052222</td>\n",
              "      <td>7.52549</td>\n",
              "      <td>3.195387</td>\n",
              "      <td>4.74266</td>\n",
              "      <td>5.294115</td>\n",
              "      <td>5.807546</td>\n",
              "      <td>5.476187</td>\n",
              "      <td>5.766114</td>\n",
              "      <td>0.999627</td>\n",
              "      <td>2.998634</td>\n",
              "      <td>3.000083</td>\n",
              "      <td>3.000414</td>\n",
              "      <td>3.237214</td>\n",
              "      <td>6.476954</td>\n",
              "      <td>6.672257</td>\n",
              "      <td>7.238953</td>\n",
              "      <td>8.026339</td>\n",
              "      <td>9.218868</td>\n",
              "      <td>10.43699</td>\n",
              "      <td>1.000248</td>\n",
              "      <td>3.0</td>\n",
              "      <td>3.000166</td>\n",
              "      <td>3.000248</td>\n",
              "      <td>3.245124</td>\n",
              "      <td>6.469706</td>\n",
              "      <td>6.680292</td>\n",
              "      <td>...</td>\n",
              "      <td>76638.362432</td>\n",
              "      <td>106854.091996</td>\n",
              "      <td>91601.289457</td>\n",
              "      <td>94540.204494</td>\n",
              "      <td>109527.842071</td>\n",
              "      <td>102308.768516</td>\n",
              "      <td>97287.636918</td>\n",
              "      <td>107290.992947</td>\n",
              "      <td>111131.536914</td>\n",
              "      <td>105612.508373</td>\n",
              "      <td>103413.87066</td>\n",
              "      <td>76628.199879</td>\n",
              "      <td>107614.617424</td>\n",
              "      <td>91126.781293</td>\n",
              "      <td>95083.910617</td>\n",
              "      <td>109800.936901</td>\n",
              "      <td>102308.262588</td>\n",
              "      <td>97898.056014</td>\n",
              "      <td>109265.114214</td>\n",
              "      <td>111087.003448</td>\n",
              "      <td>107149.115943</td>\n",
              "      <td>104932.87697</td>\n",
              "      <td>5.00</td>\n",
              "      <td>3.50</td>\n",
              "      <td>1.65</td>\n",
              "      <td>5.00</td>\n",
              "      <td>3.50</td>\n",
              "      <td>1.60</td>\n",
              "      <td>4.00</td>\n",
              "      <td>3.3</td>\n",
              "      <td>1.7</td>\n",
              "      <td>4.00</td>\n",
              "      <td>3.4</td>\n",
              "      <td>1.72</td>\n",
              "      <td>4.20</td>\n",
              "      <td>3.40</td>\n",
              "      <td>1.70</td>\n",
              "      <td>4.50</td>\n",
              "      <td>3.40</td>\n",
              "      <td>1.65</td>\n",
              "    </tr>\n",
              "  </tbody>\n",
              "</table>\n",
              "<p>5 rows × 84 columns</p>\n",
              "</div>"
            ],
            "text/plain": [
              "   home_player_X1  home_player_X2  home_player_X3  ...   VCH   VCD   VCA\n",
              "0        0.999586        2.073516        4.061001  ...  1.65  3.40  4.50\n",
              "1        0.999586        2.073516        4.061001  ...  2.00  3.25  3.25\n",
              "2        0.999586        2.073516        4.061001  ...  2.35  3.25  2.65\n",
              "3        0.999586        2.073516        4.061001  ...  1.45  3.75  6.50\n",
              "4        0.999586        2.073516        4.061001  ...  4.50  3.40  1.65\n",
              "\n",
              "[5 rows x 84 columns]"
            ]
          },
          "metadata": {
            "tags": []
          },
          "execution_count": 16
        }
      ]
    },
    {
      "cell_type": "code",
      "metadata": {
        "id": "pdhtio_Y8mfS",
        "colab_type": "code",
        "colab": {}
      },
      "source": [
        "#Partición de datos\n",
        "\n",
        "x_train, x_test, y_train, y_test=train_test_split(df2,y1, test_size=.20, random_state=40)\n"
      ],
      "execution_count": 0,
      "outputs": []
    },
    {
      "cell_type": "markdown",
      "metadata": {
        "id": "f5uX2-bKqnFt",
        "colab_type": "text"
      },
      "source": [
        "Creación del Modelo de Random Forest Regressor"
      ]
    },
    {
      "cell_type": "code",
      "metadata": {
        "id": "hWm4xh0pO_ul",
        "colab_type": "code",
        "colab": {}
      },
      "source": [
        "# Para recapitular\n",
        "\n",
        "\"\"\"se usan 84 variables, 25979 registros, donde de estas variables se excluyeron\n",
        "variables de identificación, otras variables que no pudieron ser convertidas a numeros \n",
        "-eran strings- que pretendían estadísticas de los partidos como tiros de esquina, tiros de meta,\n",
        "y otras variables de momios de las casas de apuesta que se perdieron por tener muchos\n",
        "valores nulos. En total se perdieron 31 variables, pero se dejaron el resto de\n",
        "variables de:\n",
        "\n",
        "momios de casas de apuestas\n",
        "posición en cuadrantes de los jugadores de ambos equipos\n",
        "variables de rendimiento de jugadores de ambos equipos\"\"\""
      ],
      "execution_count": 0,
      "outputs": []
    },
    {
      "cell_type": "code",
      "metadata": {
        "id": "2W-98p4B8xI4",
        "colab_type": "code",
        "outputId": "b24fb631-1135-4271-c876-4bb9ea1df63e",
        "colab": {
          "base_uri": "https://localhost:8080/",
          "height": 136
        }
      },
      "source": [
        "#RANDOM FOREST REGRESSOR, modelo 1\n",
        "\n",
        "# crear modelo con # decision trees\n",
        "rfr = RandomForestRegressor(n_estimators = 1000, random_state = 40,min_samples_leaf=10,oob_score=True,)\n",
        " #Entrenar el modelo en training data\n",
        "rfr.fit(x_train, y_train)\n",
        "\n"
      ],
      "execution_count": 0,
      "outputs": [
        {
          "output_type": "execute_result",
          "data": {
            "text/plain": [
              "RandomForestRegressor(bootstrap=True, ccp_alpha=0.0, criterion='mse',\n",
              "                      max_depth=None, max_features='auto', max_leaf_nodes=None,\n",
              "                      max_samples=None, min_impurity_decrease=0.0,\n",
              "                      min_impurity_split=None, min_samples_leaf=10,\n",
              "                      min_samples_split=2, min_weight_fraction_leaf=0.0,\n",
              "                      n_estimators=1000, n_jobs=None, oob_score=True,\n",
              "                      random_state=40, verbose=0, warm_start=False)"
            ]
          },
          "metadata": {
            "tags": []
          },
          "execution_count": 22
        }
      ]
    },
    {
      "cell_type": "markdown",
      "metadata": {
        "id": "dfqAnV7UAa5u",
        "colab_type": "text"
      },
      "source": [
        "modelo 1, RFR"
      ]
    },
    {
      "cell_type": "code",
      "metadata": {
        "id": "pWYZY0O08-V6",
        "colab_type": "code",
        "outputId": "caed61cb-423f-4ef4-f708-bb0732a60954",
        "colab": {
          "base_uri": "https://localhost:8080/",
          "height": 34
        }
      },
      "source": [
        "#Predict del RFR, modelo 1\n",
        "\n",
        "# Usar el método predict de Random Forest Regressor\n",
        "predictions = rfr.predict(x_test)\n",
        "# Calcular los errores absolutos\n",
        "errors = abs(predictions - y_test)\n",
        "mae=round(np.mean(errors),2)\n",
        "# Imprimir el error absoluto medio -mean absolute error- (mae)\n",
        "print('Mean Absolute Error:', mae)\n",
        "#Mean Absolute Error: 1.31 \n"
      ],
      "execution_count": 0,
      "outputs": [
        {
          "output_type": "stream",
          "text": [
            "Mean Absolute Error: 1.31\n"
          ],
          "name": "stdout"
        }
      ]
    },
    {
      "cell_type": "code",
      "metadata": {
        "id": "4el9tafb9gRX",
        "colab_type": "code",
        "outputId": "4915730d-245f-4d02-d1c9-cfa356248c60",
        "colab": {
          "base_uri": "https://localhost:8080/",
          "height": 34
        }
      },
      "source": [
        "#Performance del RFR, modelo 1\n",
        "\n",
        "# Calcular el mean absolute percentage error (MAPE)\n",
        "mape = 100 * (errors / y_test)\n",
        "# Calcular y imprimir un accuracy\n",
        "accuracy = 100 - np.mean(mape)\n",
        "print('Accuracy:', round(accuracy, 2), '%.')\n",
        "#Accuracy: 48.593 %."
      ],
      "execution_count": 0,
      "outputs": [
        {
          "output_type": "stream",
          "text": [
            "Accuracy: 48.59 %.\n"
          ],
          "name": "stdout"
        }
      ]
    },
    {
      "cell_type": "code",
      "metadata": {
        "id": "3gAQ2SrcAwkl",
        "colab_type": "code",
        "outputId": "9a7928a1-0b2a-4a46-c103-597f967264be",
        "colab": {
          "base_uri": "https://localhost:8080/",
          "height": 374
        }
      },
      "source": [
        "#feature importance\n",
        "rfr.feature_importances_\n"
      ],
      "execution_count": 0,
      "outputs": [
        {
          "output_type": "execute_result",
          "data": {
            "text/plain": [
              "array([1.23615396e-04, 2.64576969e-04, 3.64930429e-04, 2.99747230e-04,\n",
              "       7.83553384e-04, 2.76645984e-03, 3.24019612e-03, 3.75529253e-03,\n",
              "       3.95323044e-03, 3.58893694e-03, 1.22866679e-03, 5.12046481e-06,\n",
              "       2.35705327e-04, 4.90178966e-04, 7.60396172e-04, 8.50245581e-04,\n",
              "       3.16477266e-03, 3.24487219e-03, 3.85431505e-03, 4.70287422e-03,\n",
              "       3.58602119e-03, 1.35687615e-03, 1.46997896e-04, 1.35241436e-04,\n",
              "       3.03292972e-04, 3.40362684e-03, 2.82008022e-04, 1.57921423e-03,\n",
              "       1.39204640e-03, 1.02318689e-03, 2.34530636e-03, 1.59707206e-03,\n",
              "       1.30808268e-03, 3.97140009e-05, 0.00000000e+00, 1.20047851e-04,\n",
              "       1.36600192e-04, 2.99434316e-04, 1.77338134e-03, 1.45800804e-03,\n",
              "       1.10995806e-03, 2.60209504e-03, 2.31155212e-03, 1.27746395e-03,\n",
              "       2.96041121e-02, 3.32291571e-02, 3.30542050e-02, 3.31045757e-02,\n",
              "       3.26551481e-02, 3.25955104e-02, 3.40364007e-02, 3.35314076e-02,\n",
              "       3.36426886e-02, 3.45758228e-02, 3.40853742e-02, 3.11680302e-02,\n",
              "       3.15498103e-02, 3.33943153e-02, 3.35404280e-02, 3.32691568e-02,\n",
              "       3.47526953e-02, 3.36564763e-02, 3.23567148e-02, 3.40924280e-02,\n",
              "       3.47426970e-02, 3.17975814e-02, 5.41523485e-03, 1.50389743e-02,\n",
              "       6.40829789e-03, 8.06434131e-03, 1.88819908e-02, 9.89083218e-03,\n",
              "       6.92544271e-03, 9.15304909e-03, 8.96599961e-03, 7.32671148e-03,\n",
              "       9.94276756e-03, 8.46224116e-03, 7.22424770e-03, 2.66334685e-02,\n",
              "       7.64164301e-03, 1.03351896e-02, 2.84709041e-02, 9.51901385e-03])"
            ]
          },
          "metadata": {
            "tags": []
          },
          "execution_count": 28
        }
      ]
    },
    {
      "cell_type": "code",
      "metadata": {
        "id": "FxfADzW4A4hn",
        "colab_type": "code",
        "outputId": "e77f6fd8-b495-489e-f1e7-9b5947651823",
        "colab": {
          "base_uri": "https://localhost:8080/",
          "height": 1000
        }
      },
      "source": [
        "#Convertir el feature importance en data frame para que sea más sencillo de visualizar\n",
        "\n",
        "feature_importances = pd.DataFrame(rfr.feature_importances_,\n",
        "                                   index = x_train.columns,\n",
        "                                    columns=['importance']).sort_values('importance',ascending=False)\n",
        "feature_importances"
      ],
      "execution_count": 0,
      "outputs": [
        {
          "output_type": "execute_result",
          "data": {
            "text/html": [
              "<div>\n",
              "<style scoped>\n",
              "    .dataframe tbody tr th:only-of-type {\n",
              "        vertical-align: middle;\n",
              "    }\n",
              "\n",
              "    .dataframe tbody tr th {\n",
              "        vertical-align: top;\n",
              "    }\n",
              "\n",
              "    .dataframe thead th {\n",
              "        text-align: right;\n",
              "    }\n",
              "</style>\n",
              "<table border=\"1\" class=\"dataframe\">\n",
              "  <thead>\n",
              "    <tr style=\"text-align: right;\">\n",
              "      <th></th>\n",
              "      <th>importance</th>\n",
              "    </tr>\n",
              "  </thead>\n",
              "  <tbody>\n",
              "    <tr>\n",
              "      <th>away_player_6</th>\n",
              "      <td>0.034753</td>\n",
              "    </tr>\n",
              "    <tr>\n",
              "      <th>away_player_10</th>\n",
              "      <td>0.034743</td>\n",
              "    </tr>\n",
              "    <tr>\n",
              "      <th>home_player_10</th>\n",
              "      <td>0.034576</td>\n",
              "    </tr>\n",
              "    <tr>\n",
              "      <th>away_player_9</th>\n",
              "      <td>0.034092</td>\n",
              "    </tr>\n",
              "    <tr>\n",
              "      <th>home_player_11</th>\n",
              "      <td>0.034085</td>\n",
              "    </tr>\n",
              "    <tr>\n",
              "      <th>home_player_7</th>\n",
              "      <td>0.034036</td>\n",
              "    </tr>\n",
              "    <tr>\n",
              "      <th>away_player_7</th>\n",
              "      <td>0.033656</td>\n",
              "    </tr>\n",
              "    <tr>\n",
              "      <th>home_player_9</th>\n",
              "      <td>0.033643</td>\n",
              "    </tr>\n",
              "    <tr>\n",
              "      <th>away_player_4</th>\n",
              "      <td>0.033540</td>\n",
              "    </tr>\n",
              "    <tr>\n",
              "      <th>home_player_8</th>\n",
              "      <td>0.033531</td>\n",
              "    </tr>\n",
              "    <tr>\n",
              "      <th>away_player_3</th>\n",
              "      <td>0.033394</td>\n",
              "    </tr>\n",
              "    <tr>\n",
              "      <th>away_player_5</th>\n",
              "      <td>0.033269</td>\n",
              "    </tr>\n",
              "    <tr>\n",
              "      <th>home_player_2</th>\n",
              "      <td>0.033229</td>\n",
              "    </tr>\n",
              "    <tr>\n",
              "      <th>home_player_4</th>\n",
              "      <td>0.033105</td>\n",
              "    </tr>\n",
              "    <tr>\n",
              "      <th>home_player_3</th>\n",
              "      <td>0.033054</td>\n",
              "    </tr>\n",
              "    <tr>\n",
              "      <th>home_player_5</th>\n",
              "      <td>0.032655</td>\n",
              "    </tr>\n",
              "    <tr>\n",
              "      <th>home_player_6</th>\n",
              "      <td>0.032596</td>\n",
              "    </tr>\n",
              "    <tr>\n",
              "      <th>away_player_8</th>\n",
              "      <td>0.032357</td>\n",
              "    </tr>\n",
              "    <tr>\n",
              "      <th>away_player_11</th>\n",
              "      <td>0.031798</td>\n",
              "    </tr>\n",
              "    <tr>\n",
              "      <th>away_player_2</th>\n",
              "      <td>0.031550</td>\n",
              "    </tr>\n",
              "    <tr>\n",
              "      <th>away_player_1</th>\n",
              "      <td>0.031168</td>\n",
              "    </tr>\n",
              "    <tr>\n",
              "      <th>home_player_1</th>\n",
              "      <td>0.029604</td>\n",
              "    </tr>\n",
              "    <tr>\n",
              "      <th>VCD</th>\n",
              "      <td>0.028471</td>\n",
              "    </tr>\n",
              "    <tr>\n",
              "      <th>WHD</th>\n",
              "      <td>0.026633</td>\n",
              "    </tr>\n",
              "    <tr>\n",
              "      <th>BWD</th>\n",
              "      <td>0.018882</td>\n",
              "    </tr>\n",
              "    <tr>\n",
              "      <th>B365D</th>\n",
              "      <td>0.015039</td>\n",
              "    </tr>\n",
              "    <tr>\n",
              "      <th>VCH</th>\n",
              "      <td>0.010335</td>\n",
              "    </tr>\n",
              "    <tr>\n",
              "      <th>LBD</th>\n",
              "      <td>0.009943</td>\n",
              "    </tr>\n",
              "    <tr>\n",
              "      <th>BWA</th>\n",
              "      <td>0.009891</td>\n",
              "    </tr>\n",
              "    <tr>\n",
              "      <th>VCA</th>\n",
              "      <td>0.009519</td>\n",
              "    </tr>\n",
              "    <tr>\n",
              "      <th>IWD</th>\n",
              "      <td>0.009153</td>\n",
              "    </tr>\n",
              "    <tr>\n",
              "      <th>IWA</th>\n",
              "      <td>0.008966</td>\n",
              "    </tr>\n",
              "    <tr>\n",
              "      <th>LBA</th>\n",
              "      <td>0.008462</td>\n",
              "    </tr>\n",
              "    <tr>\n",
              "      <th>BWH</th>\n",
              "      <td>0.008064</td>\n",
              "    </tr>\n",
              "    <tr>\n",
              "      <th>WHA</th>\n",
              "      <td>0.007642</td>\n",
              "    </tr>\n",
              "    <tr>\n",
              "      <th>LBH</th>\n",
              "      <td>0.007327</td>\n",
              "    </tr>\n",
              "    <tr>\n",
              "      <th>WHH</th>\n",
              "      <td>0.007224</td>\n",
              "    </tr>\n",
              "    <tr>\n",
              "      <th>IWH</th>\n",
              "      <td>0.006925</td>\n",
              "    </tr>\n",
              "    <tr>\n",
              "      <th>B365A</th>\n",
              "      <td>0.006408</td>\n",
              "    </tr>\n",
              "    <tr>\n",
              "      <th>B365H</th>\n",
              "      <td>0.005415</td>\n",
              "    </tr>\n",
              "    <tr>\n",
              "      <th>away_player_X9</th>\n",
              "      <td>0.004703</td>\n",
              "    </tr>\n",
              "    <tr>\n",
              "      <th>home_player_X9</th>\n",
              "      <td>0.003953</td>\n",
              "    </tr>\n",
              "    <tr>\n",
              "      <th>away_player_X8</th>\n",
              "      <td>0.003854</td>\n",
              "    </tr>\n",
              "    <tr>\n",
              "      <th>home_player_X8</th>\n",
              "      <td>0.003755</td>\n",
              "    </tr>\n",
              "    <tr>\n",
              "      <th>home_player_X10</th>\n",
              "      <td>0.003589</td>\n",
              "    </tr>\n",
              "    <tr>\n",
              "      <th>away_player_X10</th>\n",
              "      <td>0.003586</td>\n",
              "    </tr>\n",
              "    <tr>\n",
              "      <th>home_player_Y4</th>\n",
              "      <td>0.003404</td>\n",
              "    </tr>\n",
              "    <tr>\n",
              "      <th>away_player_X7</th>\n",
              "      <td>0.003245</td>\n",
              "    </tr>\n",
              "    <tr>\n",
              "      <th>home_player_X7</th>\n",
              "      <td>0.003240</td>\n",
              "    </tr>\n",
              "    <tr>\n",
              "      <th>away_player_X6</th>\n",
              "      <td>0.003165</td>\n",
              "    </tr>\n",
              "    <tr>\n",
              "      <th>home_player_X6</th>\n",
              "      <td>0.002766</td>\n",
              "    </tr>\n",
              "    <tr>\n",
              "      <th>away_player_Y9</th>\n",
              "      <td>0.002602</td>\n",
              "    </tr>\n",
              "    <tr>\n",
              "      <th>home_player_Y9</th>\n",
              "      <td>0.002345</td>\n",
              "    </tr>\n",
              "    <tr>\n",
              "      <th>away_player_Y10</th>\n",
              "      <td>0.002312</td>\n",
              "    </tr>\n",
              "    <tr>\n",
              "      <th>away_player_Y6</th>\n",
              "      <td>0.001773</td>\n",
              "    </tr>\n",
              "    <tr>\n",
              "      <th>home_player_Y10</th>\n",
              "      <td>0.001597</td>\n",
              "    </tr>\n",
              "    <tr>\n",
              "      <th>home_player_Y6</th>\n",
              "      <td>0.001579</td>\n",
              "    </tr>\n",
              "    <tr>\n",
              "      <th>away_player_Y7</th>\n",
              "      <td>0.001458</td>\n",
              "    </tr>\n",
              "    <tr>\n",
              "      <th>home_player_Y7</th>\n",
              "      <td>0.001392</td>\n",
              "    </tr>\n",
              "    <tr>\n",
              "      <th>away_player_X11</th>\n",
              "      <td>0.001357</td>\n",
              "    </tr>\n",
              "    <tr>\n",
              "      <th>home_player_Y11</th>\n",
              "      <td>0.001308</td>\n",
              "    </tr>\n",
              "    <tr>\n",
              "      <th>away_player_Y11</th>\n",
              "      <td>0.001277</td>\n",
              "    </tr>\n",
              "    <tr>\n",
              "      <th>home_player_X11</th>\n",
              "      <td>0.001229</td>\n",
              "    </tr>\n",
              "    <tr>\n",
              "      <th>away_player_Y8</th>\n",
              "      <td>0.001110</td>\n",
              "    </tr>\n",
              "    <tr>\n",
              "      <th>home_player_Y8</th>\n",
              "      <td>0.001023</td>\n",
              "    </tr>\n",
              "    <tr>\n",
              "      <th>away_player_X5</th>\n",
              "      <td>0.000850</td>\n",
              "    </tr>\n",
              "    <tr>\n",
              "      <th>home_player_X5</th>\n",
              "      <td>0.000784</td>\n",
              "    </tr>\n",
              "    <tr>\n",
              "      <th>away_player_X4</th>\n",
              "      <td>0.000760</td>\n",
              "    </tr>\n",
              "    <tr>\n",
              "      <th>away_player_X3</th>\n",
              "      <td>0.000490</td>\n",
              "    </tr>\n",
              "    <tr>\n",
              "      <th>home_player_X3</th>\n",
              "      <td>0.000365</td>\n",
              "    </tr>\n",
              "    <tr>\n",
              "      <th>home_player_Y3</th>\n",
              "      <td>0.000303</td>\n",
              "    </tr>\n",
              "    <tr>\n",
              "      <th>home_player_X4</th>\n",
              "      <td>0.000300</td>\n",
              "    </tr>\n",
              "    <tr>\n",
              "      <th>away_player_Y5</th>\n",
              "      <td>0.000299</td>\n",
              "    </tr>\n",
              "    <tr>\n",
              "      <th>home_player_Y5</th>\n",
              "      <td>0.000282</td>\n",
              "    </tr>\n",
              "    <tr>\n",
              "      <th>home_player_X2</th>\n",
              "      <td>0.000265</td>\n",
              "    </tr>\n",
              "    <tr>\n",
              "      <th>away_player_X2</th>\n",
              "      <td>0.000236</td>\n",
              "    </tr>\n",
              "    <tr>\n",
              "      <th>home_player_Y1</th>\n",
              "      <td>0.000147</td>\n",
              "    </tr>\n",
              "    <tr>\n",
              "      <th>away_player_Y4</th>\n",
              "      <td>0.000137</td>\n",
              "    </tr>\n",
              "    <tr>\n",
              "      <th>home_player_Y2</th>\n",
              "      <td>0.000135</td>\n",
              "    </tr>\n",
              "    <tr>\n",
              "      <th>home_player_X1</th>\n",
              "      <td>0.000124</td>\n",
              "    </tr>\n",
              "    <tr>\n",
              "      <th>away_player_Y3</th>\n",
              "      <td>0.000120</td>\n",
              "    </tr>\n",
              "    <tr>\n",
              "      <th>away_player_Y1</th>\n",
              "      <td>0.000040</td>\n",
              "    </tr>\n",
              "    <tr>\n",
              "      <th>away_player_X1</th>\n",
              "      <td>0.000005</td>\n",
              "    </tr>\n",
              "    <tr>\n",
              "      <th>away_player_Y2</th>\n",
              "      <td>0.000000</td>\n",
              "    </tr>\n",
              "  </tbody>\n",
              "</table>\n",
              "</div>"
            ],
            "text/plain": [
              "                 importance\n",
              "away_player_6      0.034753\n",
              "away_player_10     0.034743\n",
              "home_player_10     0.034576\n",
              "away_player_9      0.034092\n",
              "home_player_11     0.034085\n",
              "home_player_7      0.034036\n",
              "away_player_7      0.033656\n",
              "home_player_9      0.033643\n",
              "away_player_4      0.033540\n",
              "home_player_8      0.033531\n",
              "away_player_3      0.033394\n",
              "away_player_5      0.033269\n",
              "home_player_2      0.033229\n",
              "home_player_4      0.033105\n",
              "home_player_3      0.033054\n",
              "home_player_5      0.032655\n",
              "home_player_6      0.032596\n",
              "away_player_8      0.032357\n",
              "away_player_11     0.031798\n",
              "away_player_2      0.031550\n",
              "away_player_1      0.031168\n",
              "home_player_1      0.029604\n",
              "VCD                0.028471\n",
              "WHD                0.026633\n",
              "BWD                0.018882\n",
              "B365D              0.015039\n",
              "VCH                0.010335\n",
              "LBD                0.009943\n",
              "BWA                0.009891\n",
              "VCA                0.009519\n",
              "IWD                0.009153\n",
              "IWA                0.008966\n",
              "LBA                0.008462\n",
              "BWH                0.008064\n",
              "WHA                0.007642\n",
              "LBH                0.007327\n",
              "WHH                0.007224\n",
              "IWH                0.006925\n",
              "B365A              0.006408\n",
              "B365H              0.005415\n",
              "away_player_X9     0.004703\n",
              "home_player_X9     0.003953\n",
              "away_player_X8     0.003854\n",
              "home_player_X8     0.003755\n",
              "home_player_X10    0.003589\n",
              "away_player_X10    0.003586\n",
              "home_player_Y4     0.003404\n",
              "away_player_X7     0.003245\n",
              "home_player_X7     0.003240\n",
              "away_player_X6     0.003165\n",
              "home_player_X6     0.002766\n",
              "away_player_Y9     0.002602\n",
              "home_player_Y9     0.002345\n",
              "away_player_Y10    0.002312\n",
              "away_player_Y6     0.001773\n",
              "home_player_Y10    0.001597\n",
              "home_player_Y6     0.001579\n",
              "away_player_Y7     0.001458\n",
              "home_player_Y7     0.001392\n",
              "away_player_X11    0.001357\n",
              "home_player_Y11    0.001308\n",
              "away_player_Y11    0.001277\n",
              "home_player_X11    0.001229\n",
              "away_player_Y8     0.001110\n",
              "home_player_Y8     0.001023\n",
              "away_player_X5     0.000850\n",
              "home_player_X5     0.000784\n",
              "away_player_X4     0.000760\n",
              "away_player_X3     0.000490\n",
              "home_player_X3     0.000365\n",
              "home_player_Y3     0.000303\n",
              "home_player_X4     0.000300\n",
              "away_player_Y5     0.000299\n",
              "home_player_Y5     0.000282\n",
              "home_player_X2     0.000265\n",
              "away_player_X2     0.000236\n",
              "home_player_Y1     0.000147\n",
              "away_player_Y4     0.000137\n",
              "home_player_Y2     0.000135\n",
              "home_player_X1     0.000124\n",
              "away_player_Y3     0.000120\n",
              "away_player_Y1     0.000040\n",
              "away_player_X1     0.000005\n",
              "away_player_Y2     0.000000"
            ]
          },
          "metadata": {
            "tags": []
          },
          "execution_count": 31
        }
      ]
    },
    {
      "cell_type": "code",
      "metadata": {
        "id": "D0xUUoYhPQJw",
        "colab_type": "code",
        "colab": {}
      },
      "source": [
        ""
      ],
      "execution_count": 0,
      "outputs": []
    },
    {
      "cell_type": "markdown",
      "metadata": {
        "id": "3dZS2YW8Ah7T",
        "colab_type": "text"
      },
      "source": [
        "Modelo 2, de  Random Forest Regressor -menos variables, las significativas de acuerdo al modelo anterior-"
      ]
    },
    {
      "cell_type": "code",
      "metadata": {
        "id": "aANyprVO_YVr",
        "colab_type": "code",
        "outputId": "352efd10-87f7-4251-815a-8cc42ba39ca6",
        "colab": {
          "base_uri": "https://localhost:8080/",
          "height": 34
        }
      },
      "source": [
        "#RFR MODELO 2 -con menos variables, las más significativas-\n",
        "\n",
        "#delimitar nuevas variables\n",
        "\n",
        "#SE RETIRAN LAS PRIMERAS 44 VARIABLES QUE COINCIDENTEMENTE NO FUERON RELEVANTES EN EL MODELO ANTERIOR\n",
        "df_less_v=df1.drop(df1.iloc[:,0:44], axis=1)\n",
        "df_less_v.shape"
      ],
      "execution_count": 0,
      "outputs": [
        {
          "output_type": "execute_result",
          "data": {
            "text/plain": [
              "(25979, 43)"
            ]
          },
          "metadata": {
            "tags": []
          },
          "execution_count": 32
        }
      ]
    },
    {
      "cell_type": "code",
      "metadata": {
        "id": "kYqJ8pkT_ipp",
        "colab_type": "code",
        "outputId": "bfec6772-9c89-439d-e06f-a01b6bc24698",
        "colab": {
          "base_uri": "https://localhost:8080/",
          "height": 241
        }
      },
      "source": [
        "df_less_v.head()"
      ],
      "execution_count": 0,
      "outputs": [
        {
          "output_type": "execute_result",
          "data": {
            "text/html": [
              "<div>\n",
              "<style scoped>\n",
              "    .dataframe tbody tr th:only-of-type {\n",
              "        vertical-align: middle;\n",
              "    }\n",
              "\n",
              "    .dataframe tbody tr th {\n",
              "        vertical-align: top;\n",
              "    }\n",
              "\n",
              "    .dataframe thead th {\n",
              "        text-align: right;\n",
              "    }\n",
              "</style>\n",
              "<table border=\"1\" class=\"dataframe\">\n",
              "  <thead>\n",
              "    <tr style=\"text-align: right;\">\n",
              "      <th></th>\n",
              "      <th>home_player_1</th>\n",
              "      <th>home_player_2</th>\n",
              "      <th>home_player_3</th>\n",
              "      <th>home_player_4</th>\n",
              "      <th>home_player_5</th>\n",
              "      <th>home_player_6</th>\n",
              "      <th>home_player_7</th>\n",
              "      <th>home_player_8</th>\n",
              "      <th>home_player_9</th>\n",
              "      <th>home_player_10</th>\n",
              "      <th>home_player_11</th>\n",
              "      <th>away_player_1</th>\n",
              "      <th>away_player_2</th>\n",
              "      <th>away_player_3</th>\n",
              "      <th>away_player_4</th>\n",
              "      <th>away_player_5</th>\n",
              "      <th>away_player_6</th>\n",
              "      <th>away_player_7</th>\n",
              "      <th>away_player_8</th>\n",
              "      <th>away_player_9</th>\n",
              "      <th>away_player_10</th>\n",
              "      <th>away_player_11</th>\n",
              "      <th>B365H</th>\n",
              "      <th>B365D</th>\n",
              "      <th>B365A</th>\n",
              "      <th>BWH</th>\n",
              "      <th>BWD</th>\n",
              "      <th>BWA</th>\n",
              "      <th>IWH</th>\n",
              "      <th>IWD</th>\n",
              "      <th>IWA</th>\n",
              "      <th>LBH</th>\n",
              "      <th>LBD</th>\n",
              "      <th>LBA</th>\n",
              "      <th>WHH</th>\n",
              "      <th>WHD</th>\n",
              "      <th>WHA</th>\n",
              "      <th>VCH</th>\n",
              "      <th>VCD</th>\n",
              "      <th>VCA</th>\n",
              "      <th>total goals</th>\n",
              "      <th>altas 2.5</th>\n",
              "      <th>altas 3.5</th>\n",
              "    </tr>\n",
              "  </thead>\n",
              "  <tbody>\n",
              "    <tr>\n",
              "      <th>0</th>\n",
              "      <td>76638.362432</td>\n",
              "      <td>106854.091996</td>\n",
              "      <td>91601.289457</td>\n",
              "      <td>94540.204494</td>\n",
              "      <td>109527.842071</td>\n",
              "      <td>102308.768516</td>\n",
              "      <td>97287.636918</td>\n",
              "      <td>107290.992947</td>\n",
              "      <td>111131.536914</td>\n",
              "      <td>105612.508373</td>\n",
              "      <td>103413.87066</td>\n",
              "      <td>76628.199879</td>\n",
              "      <td>107614.617424</td>\n",
              "      <td>91126.781293</td>\n",
              "      <td>95083.910617</td>\n",
              "      <td>109800.936901</td>\n",
              "      <td>102308.262588</td>\n",
              "      <td>97898.056014</td>\n",
              "      <td>109265.114214</td>\n",
              "      <td>111087.003448</td>\n",
              "      <td>107149.115943</td>\n",
              "      <td>104932.87697</td>\n",
              "      <td>1.73</td>\n",
              "      <td>3.40</td>\n",
              "      <td>5.00</td>\n",
              "      <td>1.75</td>\n",
              "      <td>3.35</td>\n",
              "      <td>4.20</td>\n",
              "      <td>1.85</td>\n",
              "      <td>3.2</td>\n",
              "      <td>3.5</td>\n",
              "      <td>1.80</td>\n",
              "      <td>3.3</td>\n",
              "      <td>3.75</td>\n",
              "      <td>1.70</td>\n",
              "      <td>3.30</td>\n",
              "      <td>4.33</td>\n",
              "      <td>1.65</td>\n",
              "      <td>3.40</td>\n",
              "      <td>4.50</td>\n",
              "      <td>2</td>\n",
              "      <td>False</td>\n",
              "      <td>False</td>\n",
              "    </tr>\n",
              "    <tr>\n",
              "      <th>1</th>\n",
              "      <td>76638.362432</td>\n",
              "      <td>106854.091996</td>\n",
              "      <td>91601.289457</td>\n",
              "      <td>94540.204494</td>\n",
              "      <td>109527.842071</td>\n",
              "      <td>102308.768516</td>\n",
              "      <td>97287.636918</td>\n",
              "      <td>107290.992947</td>\n",
              "      <td>111131.536914</td>\n",
              "      <td>105612.508373</td>\n",
              "      <td>103413.87066</td>\n",
              "      <td>76628.199879</td>\n",
              "      <td>107614.617424</td>\n",
              "      <td>91126.781293</td>\n",
              "      <td>95083.910617</td>\n",
              "      <td>109800.936901</td>\n",
              "      <td>102308.262588</td>\n",
              "      <td>97898.056014</td>\n",
              "      <td>109265.114214</td>\n",
              "      <td>111087.003448</td>\n",
              "      <td>107149.115943</td>\n",
              "      <td>104932.87697</td>\n",
              "      <td>1.95</td>\n",
              "      <td>3.20</td>\n",
              "      <td>3.60</td>\n",
              "      <td>1.80</td>\n",
              "      <td>3.30</td>\n",
              "      <td>3.95</td>\n",
              "      <td>1.90</td>\n",
              "      <td>3.2</td>\n",
              "      <td>3.5</td>\n",
              "      <td>1.90</td>\n",
              "      <td>3.2</td>\n",
              "      <td>3.50</td>\n",
              "      <td>1.83</td>\n",
              "      <td>3.30</td>\n",
              "      <td>3.60</td>\n",
              "      <td>2.00</td>\n",
              "      <td>3.25</td>\n",
              "      <td>3.25</td>\n",
              "      <td>0</td>\n",
              "      <td>False</td>\n",
              "      <td>False</td>\n",
              "    </tr>\n",
              "    <tr>\n",
              "      <th>2</th>\n",
              "      <td>76638.362432</td>\n",
              "      <td>106854.091996</td>\n",
              "      <td>91601.289457</td>\n",
              "      <td>94540.204494</td>\n",
              "      <td>109527.842071</td>\n",
              "      <td>102308.768516</td>\n",
              "      <td>97287.636918</td>\n",
              "      <td>107290.992947</td>\n",
              "      <td>111131.536914</td>\n",
              "      <td>105612.508373</td>\n",
              "      <td>103413.87066</td>\n",
              "      <td>76628.199879</td>\n",
              "      <td>107614.617424</td>\n",
              "      <td>91126.781293</td>\n",
              "      <td>95083.910617</td>\n",
              "      <td>109800.936901</td>\n",
              "      <td>102308.262588</td>\n",
              "      <td>97898.056014</td>\n",
              "      <td>109265.114214</td>\n",
              "      <td>111087.003448</td>\n",
              "      <td>107149.115943</td>\n",
              "      <td>104932.87697</td>\n",
              "      <td>2.38</td>\n",
              "      <td>3.30</td>\n",
              "      <td>2.75</td>\n",
              "      <td>2.40</td>\n",
              "      <td>3.30</td>\n",
              "      <td>2.55</td>\n",
              "      <td>2.60</td>\n",
              "      <td>3.1</td>\n",
              "      <td>2.3</td>\n",
              "      <td>2.50</td>\n",
              "      <td>3.2</td>\n",
              "      <td>2.50</td>\n",
              "      <td>2.50</td>\n",
              "      <td>3.25</td>\n",
              "      <td>2.40</td>\n",
              "      <td>2.35</td>\n",
              "      <td>3.25</td>\n",
              "      <td>2.65</td>\n",
              "      <td>3</td>\n",
              "      <td>True</td>\n",
              "      <td>False</td>\n",
              "    </tr>\n",
              "    <tr>\n",
              "      <th>3</th>\n",
              "      <td>76638.362432</td>\n",
              "      <td>106854.091996</td>\n",
              "      <td>91601.289457</td>\n",
              "      <td>94540.204494</td>\n",
              "      <td>109527.842071</td>\n",
              "      <td>102308.768516</td>\n",
              "      <td>97287.636918</td>\n",
              "      <td>107290.992947</td>\n",
              "      <td>111131.536914</td>\n",
              "      <td>105612.508373</td>\n",
              "      <td>103413.87066</td>\n",
              "      <td>76628.199879</td>\n",
              "      <td>107614.617424</td>\n",
              "      <td>91126.781293</td>\n",
              "      <td>95083.910617</td>\n",
              "      <td>109800.936901</td>\n",
              "      <td>102308.262588</td>\n",
              "      <td>97898.056014</td>\n",
              "      <td>109265.114214</td>\n",
              "      <td>111087.003448</td>\n",
              "      <td>107149.115943</td>\n",
              "      <td>104932.87697</td>\n",
              "      <td>1.44</td>\n",
              "      <td>3.75</td>\n",
              "      <td>7.50</td>\n",
              "      <td>1.40</td>\n",
              "      <td>4.00</td>\n",
              "      <td>6.80</td>\n",
              "      <td>1.40</td>\n",
              "      <td>3.9</td>\n",
              "      <td>6.0</td>\n",
              "      <td>1.44</td>\n",
              "      <td>3.6</td>\n",
              "      <td>6.50</td>\n",
              "      <td>1.44</td>\n",
              "      <td>3.75</td>\n",
              "      <td>6.00</td>\n",
              "      <td>1.45</td>\n",
              "      <td>3.75</td>\n",
              "      <td>6.50</td>\n",
              "      <td>5</td>\n",
              "      <td>True</td>\n",
              "      <td>True</td>\n",
              "    </tr>\n",
              "    <tr>\n",
              "      <th>4</th>\n",
              "      <td>76638.362432</td>\n",
              "      <td>106854.091996</td>\n",
              "      <td>91601.289457</td>\n",
              "      <td>94540.204494</td>\n",
              "      <td>109527.842071</td>\n",
              "      <td>102308.768516</td>\n",
              "      <td>97287.636918</td>\n",
              "      <td>107290.992947</td>\n",
              "      <td>111131.536914</td>\n",
              "      <td>105612.508373</td>\n",
              "      <td>103413.87066</td>\n",
              "      <td>76628.199879</td>\n",
              "      <td>107614.617424</td>\n",
              "      <td>91126.781293</td>\n",
              "      <td>95083.910617</td>\n",
              "      <td>109800.936901</td>\n",
              "      <td>102308.262588</td>\n",
              "      <td>97898.056014</td>\n",
              "      <td>109265.114214</td>\n",
              "      <td>111087.003448</td>\n",
              "      <td>107149.115943</td>\n",
              "      <td>104932.87697</td>\n",
              "      <td>5.00</td>\n",
              "      <td>3.50</td>\n",
              "      <td>1.65</td>\n",
              "      <td>5.00</td>\n",
              "      <td>3.50</td>\n",
              "      <td>1.60</td>\n",
              "      <td>4.00</td>\n",
              "      <td>3.3</td>\n",
              "      <td>1.7</td>\n",
              "      <td>4.00</td>\n",
              "      <td>3.4</td>\n",
              "      <td>1.72</td>\n",
              "      <td>4.20</td>\n",
              "      <td>3.40</td>\n",
              "      <td>1.70</td>\n",
              "      <td>4.50</td>\n",
              "      <td>3.40</td>\n",
              "      <td>1.65</td>\n",
              "      <td>4</td>\n",
              "      <td>True</td>\n",
              "      <td>True</td>\n",
              "    </tr>\n",
              "  </tbody>\n",
              "</table>\n",
              "</div>"
            ],
            "text/plain": [
              "   home_player_1  home_player_2  ...  altas 2.5  altas 3.5\n",
              "0   76638.362432  106854.091996  ...      False      False\n",
              "1   76638.362432  106854.091996  ...      False      False\n",
              "2   76638.362432  106854.091996  ...       True      False\n",
              "3   76638.362432  106854.091996  ...       True       True\n",
              "4   76638.362432  106854.091996  ...       True       True\n",
              "\n",
              "[5 rows x 43 columns]"
            ]
          },
          "metadata": {
            "tags": []
          },
          "execution_count": 33
        }
      ]
    },
    {
      "cell_type": "code",
      "metadata": {
        "id": "mhuLw8HI_jzm",
        "colab_type": "code",
        "outputId": "32461c08-9b12-4fbb-ebc4-e6397454d5ba",
        "colab": {
          "base_uri": "https://localhost:8080/",
          "height": 34
        }
      },
      "source": [
        "#SE RETIRAN DEMÁS VARIABLES QUE NO SON OBJETIVO EN EL MODELO\n",
        "\n",
        "df_less_v.drop(['total goals','altas 2.5','altas 3.5','LBD','BWA','VCA','IWD','IWA','LBA','BWH','WHA','LBH','WHH','IWH','B365A', 'B365H'], axis=1, inplace=True)\n",
        "df_less_v.head()\n",
        "#df_less_v.shape #27 columnas"
      ],
      "execution_count": 0,
      "outputs": [
        {
          "output_type": "execute_result",
          "data": {
            "text/plain": [
              "(25979, 27)"
            ]
          },
          "metadata": {
            "tags": []
          },
          "execution_count": 35
        }
      ]
    },
    {
      "cell_type": "code",
      "metadata": {
        "id": "sta5DYRc_mJY",
        "colab_type": "code",
        "colab": {}
      },
      "source": [
        "#split de datos\n",
        "x_train2, x_test2, y_train2, y_test2=train_test_split(df_less_v,y1, test_size=.20, random_state=40)\n"
      ],
      "execution_count": 0,
      "outputs": []
    },
    {
      "cell_type": "code",
      "metadata": {
        "id": "70bMgMaU_qu4",
        "colab_type": "code",
        "outputId": "b7b11867-1fb7-4b48-e369-41026309c472",
        "colab": {
          "base_uri": "https://localhost:8080/",
          "height": 136
        }
      },
      "source": [
        "#RFR CON MENOS VARIABLES, MODELO 2\n",
        "\n",
        "rfr2 = RandomForestRegressor(n_estimators = 1000, random_state = 40,min_samples_leaf=10,oob_score=True)\n",
        "rfr2.fit(x_train2, y_train2)"
      ],
      "execution_count": 0,
      "outputs": [
        {
          "output_type": "execute_result",
          "data": {
            "text/plain": [
              "RandomForestRegressor(bootstrap=True, ccp_alpha=0.0, criterion='mse',\n",
              "                      max_depth=None, max_features='auto', max_leaf_nodes=None,\n",
              "                      max_samples=None, min_impurity_decrease=0.0,\n",
              "                      min_impurity_split=None, min_samples_leaf=10,\n",
              "                      min_samples_split=2, min_weight_fraction_leaf=0.0,\n",
              "                      n_estimators=1000, n_jobs=None, oob_score=True,\n",
              "                      random_state=40, verbose=0, warm_start=False)"
            ]
          },
          "metadata": {
            "tags": []
          },
          "execution_count": 37
        }
      ]
    },
    {
      "cell_type": "code",
      "metadata": {
        "id": "TwvMWOLYAGkF",
        "colab_type": "code",
        "outputId": "d0dc8dda-3701-4fe8-ec26-acdd17de7b41",
        "colab": {
          "base_uri": "https://localhost:8080/",
          "height": 34
        }
      },
      "source": [
        "#Predict del RFR, modelo 2\n",
        "\n",
        "# Usar el método predict de Random Forest Regressor\n",
        "predictions2 = rfr2.predict(x_test2)\n",
        "# Calcular los errores absolutos\n",
        "errors2 = abs(predictions2 - y_test2)\n",
        "mae2=round(np.mean(errors2),2)\n",
        "# Imprimir el error absoluto medio -mean absolute error- (mae)\n",
        "print('Mean Absolute Error:', mae2)\n",
        "#Mean Absolute Error: 1.31 .\n"
      ],
      "execution_count": 0,
      "outputs": [
        {
          "output_type": "stream",
          "text": [
            "Mean Absolute Error: 1.31\n"
          ],
          "name": "stdout"
        }
      ]
    },
    {
      "cell_type": "code",
      "metadata": {
        "id": "7rckzdCsAJHp",
        "colab_type": "code",
        "outputId": "2b9532cd-8113-408f-c21d-42976c65433b",
        "colab": {
          "base_uri": "https://localhost:8080/",
          "height": 34
        }
      },
      "source": [
        "#Performance del RFR, modelo 2\n",
        "\n",
        "# Calcular el mean absolute percentage error (MAPE)\n",
        "mape2 = 100 * (errors2 / y_test2)\n",
        "# Calcular y imprimir un accuracy\n",
        "accuracy2 = 100 - np.mean(mape2)\n",
        "print('Accuracy:', round(accuracy2, 4), '%.')\n",
        "#Accuracy: 48.59 %."
      ],
      "execution_count": 0,
      "outputs": [
        {
          "output_type": "stream",
          "text": [
            "Accuracy: 48.5954 %.\n"
          ],
          "name": "stdout"
        }
      ]
    },
    {
      "cell_type": "markdown",
      "metadata": {
        "id": "WBsxVpe1An4h",
        "colab_type": "text"
      },
      "source": [
        "xGBoosting tree decision regressor\n"
      ]
    },
    {
      "cell_type": "code",
      "metadata": {
        "id": "nFV1V3-JAvoY",
        "colab_type": "code",
        "outputId": "8e539061-3d25-4ead-c724-f662de1aea6e",
        "colab": {
          "base_uri": "https://localhost:8080/",
          "height": 170
        }
      },
      "source": [
        "#Establecer modelo y entrenar\n",
        "model = xgboost.XGBRegressor(colsample_bytree=0.4,\n",
        "                 gamma=0,                 \n",
        "                 learning_rate=0.07,\n",
        "                 max_depth=3,\n",
        "                 min_child_weight=1.5,\n",
        "                 n_estimators=10000,                                                                    \n",
        "                 reg_alpha=0.75,\n",
        "                 reg_lambda=0.45,\n",
        "                 subsample=0.6,\n",
        "                 seed=40) \n",
        "\n",
        "model.fit(x_train,y_train)"
      ],
      "execution_count": 0,
      "outputs": [
        {
          "output_type": "stream",
          "text": [
            "[18:29:18] WARNING: /workspace/src/objective/regression_obj.cu:152: reg:linear is now deprecated in favor of reg:squarederror.\n"
          ],
          "name": "stdout"
        },
        {
          "output_type": "execute_result",
          "data": {
            "text/plain": [
              "XGBRegressor(base_score=0.5, booster='gbtree', colsample_bylevel=1,\n",
              "             colsample_bynode=1, colsample_bytree=0.4, gamma=0,\n",
              "             importance_type='gain', learning_rate=0.07, max_delta_step=0,\n",
              "             max_depth=3, min_child_weight=1.5, missing=None,\n",
              "             n_estimators=10000, n_jobs=1, nthread=None, objective='reg:linear',\n",
              "             random_state=0, reg_alpha=0.75, reg_lambda=0.45,\n",
              "             scale_pos_weight=1, seed=40, silent=None, subsample=0.6,\n",
              "             verbosity=1)"
            ]
          },
          "metadata": {
            "tags": []
          },
          "execution_count": 53
        }
      ]
    },
    {
      "cell_type": "code",
      "metadata": {
        "id": "rNXkMQ5-CDkr",
        "colab_type": "code",
        "outputId": "4ff05969-cbf6-4a24-ba26-968f8d053e98",
        "colab": {
          "base_uri": "https://localhost:8080/",
          "height": 34
        }
      },
      "source": [
        "#predict de XgBoosting\n",
        "predictionsXGB = model.predict(x_test)\n",
        "\n",
        "# Calcular los errores absolutos\n",
        "errorsXGB = abs(predictionsXGB - y_test)\n",
        "maeXGB = round(np.mean(errorsXGB), 2)\n",
        "# Imprimir el error absoluto medio -mean absolute error- (mae)\n",
        "print('Mean Absolute Error:', maeXGB)\n",
        "#Mean Absolute Error: 1.4 ."
      ],
      "execution_count": 0,
      "outputs": [
        {
          "output_type": "stream",
          "text": [
            "Mean Absolute Error: 1.4\n"
          ],
          "name": "stdout"
        }
      ]
    },
    {
      "cell_type": "code",
      "metadata": {
        "id": "rWcS2fUVCDsI",
        "colab_type": "code",
        "outputId": "73c9d833-c055-49c6-f160-b4938abffddb",
        "colab": {
          "base_uri": "https://localhost:8080/",
          "height": 34
        }
      },
      "source": [
        "#Ejecución del modelo xgboosting\n",
        "# Calcular el mean absolute percentage error (MAPE)\n",
        "mapeXGB = 100 * (errorsXGB / y_test)\n",
        "# Calcular y imprimir un accuracy\n",
        "accuracyXGB = 100 - np.mean(mapeXGB)\n",
        "print('Accuracy:', round(accuracyXGB, 4), '%.')\n",
        "#Accuracy: 46.2013 %."
      ],
      "execution_count": 0,
      "outputs": [
        {
          "output_type": "stream",
          "text": [
            "Accuracy: 46.2013 %.\n"
          ],
          "name": "stdout"
        }
      ]
    },
    {
      "cell_type": "code",
      "metadata": {
        "id": "B-hndJQIA8SV",
        "colab_type": "code",
        "outputId": "d7bbd159-04c1-4e5d-e4a9-937b44e3be4c",
        "colab": {
          "base_uri": "https://localhost:8080/",
          "height": 1000
        }
      },
      "source": [
        "#ejecutar un feat importance para ver si tiene resultados similares al anterior, y usarlo en nuevo modelo\n",
        "OrderedDict(sorted(model.get_booster().get_fscore().items(), key=lambda t: t[1], reverse=True))\n"
      ],
      "execution_count": 0,
      "outputs": [
        {
          "output_type": "execute_result",
          "data": {
            "text/plain": [
              "OrderedDict([('home_player_9', 2552),\n",
              "             ('away_player_6', 2539),\n",
              "             ('away_player_9', 2511),\n",
              "             ('away_player_7', 2493),\n",
              "             ('away_player_8', 2469),\n",
              "             ('home_player_8', 2414),\n",
              "             ('home_player_10', 2409),\n",
              "             ('away_player_10', 2394),\n",
              "             ('home_player_4', 2385),\n",
              "             ('home_player_7', 2384),\n",
              "             ('home_player_6', 2372),\n",
              "             ('away_player_3', 2349),\n",
              "             ('home_player_11', 2323),\n",
              "             ('away_player_5', 2298),\n",
              "             ('home_player_3', 2281),\n",
              "             ('away_player_11', 2261),\n",
              "             ('away_player_4', 2259),\n",
              "             ('home_player_5', 2239),\n",
              "             ('home_player_2', 2186),\n",
              "             ('away_player_2', 2166),\n",
              "             ('away_player_1', 1940),\n",
              "             ('home_player_1', 1916),\n",
              "             ('BWA', 904),\n",
              "             ('VCH', 800),\n",
              "             ('BWH', 793),\n",
              "             ('BWD', 790),\n",
              "             ('IWA', 738),\n",
              "             ('WHH', 710),\n",
              "             ('VCA', 710),\n",
              "             ('B365A', 696),\n",
              "             ('B365H', 676),\n",
              "             ('VCD', 672),\n",
              "             ('LBA', 641),\n",
              "             ('LBH', 637),\n",
              "             ('WHA', 627),\n",
              "             ('B365D', 623),\n",
              "             ('WHD', 610),\n",
              "             ('IWH', 607),\n",
              "             ('IWD', 602),\n",
              "             ('LBD', 564),\n",
              "             ('home_player_X8', 332),\n",
              "             ('away_player_X8', 329),\n",
              "             ('away_player_X9', 308),\n",
              "             ('away_player_X10', 305),\n",
              "             ('home_player_X9', 282),\n",
              "             ('away_player_X7', 262),\n",
              "             ('home_player_X7', 257),\n",
              "             ('home_player_X6', 256),\n",
              "             ('away_player_X6', 255),\n",
              "             ('home_player_X10', 249),\n",
              "             ('away_player_Y8', 207),\n",
              "             ('home_player_Y10', 190),\n",
              "             ('away_player_Y7', 189),\n",
              "             ('away_player_Y10', 186),\n",
              "             ('away_player_Y9', 161),\n",
              "             ('home_player_Y9', 159),\n",
              "             ('home_player_Y7', 157),\n",
              "             ('away_player_Y6', 154),\n",
              "             ('home_player_X5', 142),\n",
              "             ('home_player_Y8', 140),\n",
              "             ('home_player_Y6', 139),\n",
              "             ('home_player_X11', 133),\n",
              "             ('away_player_X11', 131),\n",
              "             ('away_player_X5', 115),\n",
              "             ('away_player_X3', 107),\n",
              "             ('away_player_X4', 107),\n",
              "             ('home_player_X3', 88),\n",
              "             ('home_player_X4', 84),\n",
              "             ('away_player_X2', 82),\n",
              "             ('home_player_X1', 79),\n",
              "             ('home_player_Y11', 68),\n",
              "             ('home_player_Y5', 62),\n",
              "             ('home_player_X2', 60),\n",
              "             ('away_player_Y5', 57),\n",
              "             ('away_player_Y11', 54),\n",
              "             ('home_player_Y4', 28),\n",
              "             ('away_player_X1', 28),\n",
              "             ('home_player_Y1', 27),\n",
              "             ('home_player_Y2', 17),\n",
              "             ('home_player_Y3', 15),\n",
              "             ('away_player_Y1', 15),\n",
              "             ('away_player_Y3', 11),\n",
              "             ('away_player_Y4', 10)])"
            ]
          },
          "metadata": {
            "tags": []
          },
          "execution_count": 37
        }
      ]
    },
    {
      "cell_type": "code",
      "metadata": {
        "id": "UvGT7hkWBPOj",
        "colab_type": "code",
        "outputId": "a736f110-634a-45a5-da31-861bd6b7b2b5",
        "colab": {
          "base_uri": "https://localhost:8080/",
          "height": 54
        }
      },
      "source": [
        "#quitar variables no relevantes de acuerdo al criterio anterior\n",
        "most_relevant_features= list( dict((k, v) for k, v in model.get_booster().get_fscore().items() if v >= 650).keys())\n",
        "print(most_relevant_features)"
      ],
      "execution_count": 0,
      "outputs": [
        {
          "output_type": "stream",
          "text": [
            "['B365A', 'IWA', 'home_player_11', 'home_player_5', 'WHH', 'away_player_10', 'VCD', 'VCH', 'away_player_1', 'home_player_4', 'VCA', 'BWD', 'home_player_3', 'home_player_1', 'BWA', 'away_player_8', 'away_player_3', 'home_player_10', 'away_player_2', 'away_player_6', 'home_player_9', 'away_player_5', 'away_player_7', 'home_player_2', 'home_player_8', 'away_player_11', 'B365H', 'away_player_4', 'home_player_7', 'home_player_6', 'away_player_9', 'BWH']\n"
          ],
          "name": "stdout"
        }
      ]
    },
    {
      "cell_type": "markdown",
      "metadata": {
        "id": "jBdtHciZRZPA",
        "colab_type": "text"
      },
      "source": [
        "Segundo modelo XGBoost"
      ]
    },
    {
      "cell_type": "code",
      "metadata": {
        "id": "MCnYoeiTBVxz",
        "colab_type": "code",
        "outputId": "dbb87c9c-0063-4fc0-83e3-ca26cad79368",
        "colab": {
          "base_uri": "https://localhost:8080/",
          "height": 439
        }
      },
      "source": [
        "#Segundo modelo xGBoosting con mejores features -variables-, de acuerdo al primer XgBoosting Model\n",
        "x_trainXG=x_train[most_relevant_features] \n",
        "x_trainXG.shape #32 columnas\n",
        "x_trainXG\n"
      ],
      "execution_count": 0,
      "outputs": [
        {
          "output_type": "execute_result",
          "data": {
            "text/html": [
              "<div>\n",
              "<style scoped>\n",
              "    .dataframe tbody tr th:only-of-type {\n",
              "        vertical-align: middle;\n",
              "    }\n",
              "\n",
              "    .dataframe tbody tr th {\n",
              "        vertical-align: top;\n",
              "    }\n",
              "\n",
              "    .dataframe thead th {\n",
              "        text-align: right;\n",
              "    }\n",
              "</style>\n",
              "<table border=\"1\" class=\"dataframe\">\n",
              "  <thead>\n",
              "    <tr style=\"text-align: right;\">\n",
              "      <th></th>\n",
              "      <th>B365A</th>\n",
              "      <th>IWA</th>\n",
              "      <th>home_player_11</th>\n",
              "      <th>home_player_5</th>\n",
              "      <th>WHH</th>\n",
              "      <th>away_player_10</th>\n",
              "      <th>VCD</th>\n",
              "      <th>VCH</th>\n",
              "      <th>away_player_1</th>\n",
              "      <th>home_player_4</th>\n",
              "      <th>VCA</th>\n",
              "      <th>BWD</th>\n",
              "      <th>home_player_3</th>\n",
              "      <th>home_player_1</th>\n",
              "      <th>BWA</th>\n",
              "      <th>away_player_8</th>\n",
              "      <th>away_player_3</th>\n",
              "      <th>home_player_10</th>\n",
              "      <th>away_player_2</th>\n",
              "      <th>away_player_6</th>\n",
              "      <th>home_player_9</th>\n",
              "      <th>away_player_5</th>\n",
              "      <th>away_player_7</th>\n",
              "      <th>home_player_2</th>\n",
              "      <th>home_player_8</th>\n",
              "      <th>away_player_11</th>\n",
              "      <th>B365H</th>\n",
              "      <th>away_player_4</th>\n",
              "      <th>home_player_7</th>\n",
              "      <th>home_player_6</th>\n",
              "      <th>away_player_9</th>\n",
              "      <th>BWH</th>\n",
              "    </tr>\n",
              "  </thead>\n",
              "  <tbody>\n",
              "    <tr>\n",
              "      <th>8276</th>\n",
              "      <td>17.000000</td>\n",
              "      <td>15.000000</td>\n",
              "      <td>30638.0</td>\n",
              "      <td>121633.000000</td>\n",
              "      <td>1.140000</td>\n",
              "      <td>25730.000000</td>\n",
              "      <td>7.000000</td>\n",
              "      <td>1.120000</td>\n",
              "      <td>26335.000000</td>\n",
              "      <td>94886.000000</td>\n",
              "      <td>21.000000</td>\n",
              "      <td>7.000000</td>\n",
              "      <td>33085.0</td>\n",
              "      <td>32653.000000</td>\n",
              "      <td>14.500</td>\n",
              "      <td>26388.000000</td>\n",
              "      <td>109615.000000</td>\n",
              "      <td>30764.000000</td>\n",
              "      <td>9079.000000</td>\n",
              "      <td>37087.0</td>\n",
              "      <td>116772.0</td>\n",
              "      <td>23587.0</td>\n",
              "      <td>36771.000000</td>\n",
              "      <td>30894.0</td>\n",
              "      <td>30477.000000</td>\n",
              "      <td>37313.00000</td>\n",
              "      <td>1.170000</td>\n",
              "      <td>26894.0</td>\n",
              "      <td>38244.0</td>\n",
              "      <td>30834.0</td>\n",
              "      <td>27512.0</td>\n",
              "      <td>1.150000</td>\n",
              "    </tr>\n",
              "    <tr>\n",
              "      <th>13218</th>\n",
              "      <td>5.000000</td>\n",
              "      <td>4.500000</td>\n",
              "      <td>166648.0</td>\n",
              "      <td>288613.000000</td>\n",
              "      <td>1.750000</td>\n",
              "      <td>107149.115943</td>\n",
              "      <td>3.700000</td>\n",
              "      <td>1.700000</td>\n",
              "      <td>39477.000000</td>\n",
              "      <td>362195.000000</td>\n",
              "      <td>6.000000</td>\n",
              "      <td>3.600000</td>\n",
              "      <td>24970.0</td>\n",
              "      <td>41466.000000</td>\n",
              "      <td>5.500</td>\n",
              "      <td>434778.000000</td>\n",
              "      <td>118616.000000</td>\n",
              "      <td>47041.000000</td>\n",
              "      <td>169752.000000</td>\n",
              "      <td>211091.0</td>\n",
              "      <td>72656.0</td>\n",
              "      <td>293235.0</td>\n",
              "      <td>108401.000000</td>\n",
              "      <td>39555.0</td>\n",
              "      <td>127460.000000</td>\n",
              "      <td>279392.00000</td>\n",
              "      <td>1.730000</td>\n",
              "      <td>128456.0</td>\n",
              "      <td>24507.0</td>\n",
              "      <td>72518.0</td>\n",
              "      <td>270774.0</td>\n",
              "      <td>1.730000</td>\n",
              "    </tr>\n",
              "    <tr>\n",
              "      <th>12389</th>\n",
              "      <td>1.620000</td>\n",
              "      <td>1.600000</td>\n",
              "      <td>35575.0</td>\n",
              "      <td>210704.000000</td>\n",
              "      <td>6.000000</td>\n",
              "      <td>154249.000000</td>\n",
              "      <td>3.700000</td>\n",
              "      <td>6.500000</td>\n",
              "      <td>32746.000000</td>\n",
              "      <td>103266.000000</td>\n",
              "      <td>1.670000</td>\n",
              "      <td>3.600000</td>\n",
              "      <td>282420.0</td>\n",
              "      <td>42478.000000</td>\n",
              "      <td>1.620</td>\n",
              "      <td>41433.000000</td>\n",
              "      <td>46875.000000</td>\n",
              "      <td>34633.000000</td>\n",
              "      <td>34305.000000</td>\n",
              "      <td>96398.0</td>\n",
              "      <td>41326.0</td>\n",
              "      <td>362195.0</td>\n",
              "      <td>30682.000000</td>\n",
              "      <td>24414.0</td>\n",
              "      <td>71768.000000</td>\n",
              "      <td>37950.00000</td>\n",
              "      <td>6.000000</td>\n",
              "      <td>22337.0</td>\n",
              "      <td>24405.0</td>\n",
              "      <td>27672.0</td>\n",
              "      <td>264842.0</td>\n",
              "      <td>5.750000</td>\n",
              "    </tr>\n",
              "    <tr>\n",
              "      <th>16226</th>\n",
              "      <td>4.662282</td>\n",
              "      <td>4.150622</td>\n",
              "      <td>206792.0</td>\n",
              "      <td>109527.842071</td>\n",
              "      <td>2.578749</td>\n",
              "      <td>107149.115943</td>\n",
              "      <td>3.899066</td>\n",
              "      <td>2.668126</td>\n",
              "      <td>114822.000000</td>\n",
              "      <td>94540.204494</td>\n",
              "      <td>4.840345</td>\n",
              "      <td>3.747612</td>\n",
              "      <td>72543.0</td>\n",
              "      <td>76638.362432</td>\n",
              "      <td>4.397</td>\n",
              "      <td>79241.000000</td>\n",
              "      <td>91126.781293</td>\n",
              "      <td>105612.508373</td>\n",
              "      <td>107614.617424</td>\n",
              "      <td>69541.0</td>\n",
              "      <td>34264.0</td>\n",
              "      <td>50657.0</td>\n",
              "      <td>97898.056014</td>\n",
              "      <td>13376.0</td>\n",
              "      <td>40973.000000</td>\n",
              "      <td>104932.87697</td>\n",
              "      <td>2.628818</td>\n",
              "      <td>151050.0</td>\n",
              "      <td>9086.0</td>\n",
              "      <td>112656.0</td>\n",
              "      <td>69242.0</td>\n",
              "      <td>2.559263</td>\n",
              "    </tr>\n",
              "    <tr>\n",
              "      <th>17143</th>\n",
              "      <td>4.662282</td>\n",
              "      <td>4.150622</td>\n",
              "      <td>69229.0</td>\n",
              "      <td>275726.000000</td>\n",
              "      <td>2.578749</td>\n",
              "      <td>69061.000000</td>\n",
              "      <td>3.899066</td>\n",
              "      <td>2.668126</td>\n",
              "      <td>76628.199879</td>\n",
              "      <td>118822.000000</td>\n",
              "      <td>4.840345</td>\n",
              "      <td>3.747612</td>\n",
              "      <td>238529.0</td>\n",
              "      <td>69382.000000</td>\n",
              "      <td>4.397</td>\n",
              "      <td>109265.114214</td>\n",
              "      <td>13474.000000</td>\n",
              "      <td>105612.508373</td>\n",
              "      <td>210978.000000</td>\n",
              "      <td>277905.0</td>\n",
              "      <td>20118.0</td>\n",
              "      <td>190010.0</td>\n",
              "      <td>406505.000000</td>\n",
              "      <td>173993.0</td>\n",
              "      <td>429880.000000</td>\n",
              "      <td>69637.00000</td>\n",
              "      <td>2.628818</td>\n",
              "      <td>69553.0</td>\n",
              "      <td>116885.0</td>\n",
              "      <td>33804.0</td>\n",
              "      <td>30526.0</td>\n",
              "      <td>2.559263</td>\n",
              "    </tr>\n",
              "    <tr>\n",
              "      <th>...</th>\n",
              "      <td>...</td>\n",
              "      <td>...</td>\n",
              "      <td>...</td>\n",
              "      <td>...</td>\n",
              "      <td>...</td>\n",
              "      <td>...</td>\n",
              "      <td>...</td>\n",
              "      <td>...</td>\n",
              "      <td>...</td>\n",
              "      <td>...</td>\n",
              "      <td>...</td>\n",
              "      <td>...</td>\n",
              "      <td>...</td>\n",
              "      <td>...</td>\n",
              "      <td>...</td>\n",
              "      <td>...</td>\n",
              "      <td>...</td>\n",
              "      <td>...</td>\n",
              "      <td>...</td>\n",
              "      <td>...</td>\n",
              "      <td>...</td>\n",
              "      <td>...</td>\n",
              "      <td>...</td>\n",
              "      <td>...</td>\n",
              "      <td>...</td>\n",
              "      <td>...</td>\n",
              "      <td>...</td>\n",
              "      <td>...</td>\n",
              "      <td>...</td>\n",
              "      <td>...</td>\n",
              "      <td>...</td>\n",
              "      <td>...</td>\n",
              "    </tr>\n",
              "    <tr>\n",
              "      <th>21810</th>\n",
              "      <td>5.250000</td>\n",
              "      <td>5.600000</td>\n",
              "      <td>38578.0</td>\n",
              "      <td>37426.000000</td>\n",
              "      <td>1.530000</td>\n",
              "      <td>45605.000000</td>\n",
              "      <td>3.500000</td>\n",
              "      <td>1.600000</td>\n",
              "      <td>96613.000000</td>\n",
              "      <td>30750.000000</td>\n",
              "      <td>5.500000</td>\n",
              "      <td>3.650000</td>\n",
              "      <td>2977.0</td>\n",
              "      <td>30855.000000</td>\n",
              "      <td>5.500</td>\n",
              "      <td>41469.000000</td>\n",
              "      <td>74663.000000</td>\n",
              "      <td>34233.000000</td>\n",
              "      <td>75239.000000</td>\n",
              "      <td>37419.0</td>\n",
              "      <td>30273.0</td>\n",
              "      <td>115229.0</td>\n",
              "      <td>11555.000000</td>\n",
              "      <td>37667.0</td>\n",
              "      <td>107290.992947</td>\n",
              "      <td>21785.00000</td>\n",
              "      <td>1.600000</td>\n",
              "      <td>6864.0</td>\n",
              "      <td>33655.0</td>\n",
              "      <td>33665.0</td>\n",
              "      <td>43329.0</td>\n",
              "      <td>1.550000</td>\n",
              "    </tr>\n",
              "    <tr>\n",
              "      <th>23992</th>\n",
              "      <td>2.000000</td>\n",
              "      <td>2.000000</td>\n",
              "      <td>45204.0</td>\n",
              "      <td>150296.000000</td>\n",
              "      <td>4.000000</td>\n",
              "      <td>246438.000000</td>\n",
              "      <td>3.500000</td>\n",
              "      <td>4.100000</td>\n",
              "      <td>96623.000000</td>\n",
              "      <td>280485.000000</td>\n",
              "      <td>2.000000</td>\n",
              "      <td>3.200000</td>\n",
              "      <td>113311.0</td>\n",
              "      <td>282680.000000</td>\n",
              "      <td>2.000</td>\n",
              "      <td>213483.000000</td>\n",
              "      <td>2768.000000</td>\n",
              "      <td>38581.000000</td>\n",
              "      <td>79737.000000</td>\n",
              "      <td>242094.0</td>\n",
              "      <td>38469.0</td>\n",
              "      <td>574200.0</td>\n",
              "      <td>193978.000000</td>\n",
              "      <td>150316.0</td>\n",
              "      <td>434325.000000</td>\n",
              "      <td>41157.00000</td>\n",
              "      <td>4.000000</td>\n",
              "      <td>160844.0</td>\n",
              "      <td>254702.0</td>\n",
              "      <td>202220.0</td>\n",
              "      <td>262592.0</td>\n",
              "      <td>3.900000</td>\n",
              "    </tr>\n",
              "    <tr>\n",
              "      <th>14501</th>\n",
              "      <td>2.000000</td>\n",
              "      <td>1.900000</td>\n",
              "      <td>17855.0</td>\n",
              "      <td>196221.000000</td>\n",
              "      <td>3.200000</td>\n",
              "      <td>102290.000000</td>\n",
              "      <td>3.600000</td>\n",
              "      <td>3.600000</td>\n",
              "      <td>112107.000000</td>\n",
              "      <td>110113.000000</td>\n",
              "      <td>2.050000</td>\n",
              "      <td>3.600000</td>\n",
              "      <td>26671.0</td>\n",
              "      <td>118848.000000</td>\n",
              "      <td>1.910</td>\n",
              "      <td>209384.000000</td>\n",
              "      <td>104482.000000</td>\n",
              "      <td>71764.000000</td>\n",
              "      <td>188555.000000</td>\n",
              "      <td>97470.0</td>\n",
              "      <td>142186.0</td>\n",
              "      <td>185554.0</td>\n",
              "      <td>26590.000000</td>\n",
              "      <td>264860.0</td>\n",
              "      <td>17761.000000</td>\n",
              "      <td>45860.00000</td>\n",
              "      <td>3.500000</td>\n",
              "      <td>212511.0</td>\n",
              "      <td>158861.0</td>\n",
              "      <td>67958.0</td>\n",
              "      <td>109061.0</td>\n",
              "      <td>3.600000</td>\n",
              "    </tr>\n",
              "    <tr>\n",
              "      <th>14555</th>\n",
              "      <td>2.880000</td>\n",
              "      <td>2.700000</td>\n",
              "      <td>266526.0</td>\n",
              "      <td>161012.000000</td>\n",
              "      <td>2.500000</td>\n",
              "      <td>42598.000000</td>\n",
              "      <td>3.600000</td>\n",
              "      <td>2.450000</td>\n",
              "      <td>26484.000000</td>\n",
              "      <td>46078.000000</td>\n",
              "      <td>2.800000</td>\n",
              "      <td>3.300000</td>\n",
              "      <td>160599.0</td>\n",
              "      <td>26002.000000</td>\n",
              "      <td>2.700</td>\n",
              "      <td>114558.000000</td>\n",
              "      <td>42704.000000</td>\n",
              "      <td>143512.000000</td>\n",
              "      <td>26785.000000</td>\n",
              "      <td>38244.0</td>\n",
              "      <td>78409.0</td>\n",
              "      <td>240205.0</td>\n",
              "      <td>108038.000000</td>\n",
              "      <td>299514.0</td>\n",
              "      <td>157723.000000</td>\n",
              "      <td>46104.00000</td>\n",
              "      <td>2.380000</td>\n",
              "      <td>78908.0</td>\n",
              "      <td>32937.0</td>\n",
              "      <td>103899.0</td>\n",
              "      <td>158581.0</td>\n",
              "      <td>2.350000</td>\n",
              "    </tr>\n",
              "    <tr>\n",
              "      <th>11590</th>\n",
              "      <td>5.000000</td>\n",
              "      <td>4.300000</td>\n",
              "      <td>25598.0</td>\n",
              "      <td>43341.000000</td>\n",
              "      <td>1.850000</td>\n",
              "      <td>35575.000000</td>\n",
              "      <td>3.500000</td>\n",
              "      <td>1.830000</td>\n",
              "      <td>42502.000000</td>\n",
              "      <td>27660.000000</td>\n",
              "      <td>5.200000</td>\n",
              "      <td>3.400000</td>\n",
              "      <td>39331.0</td>\n",
              "      <td>39599.000000</td>\n",
              "      <td>4.750</td>\n",
              "      <td>41433.000000</td>\n",
              "      <td>112476.000000</td>\n",
              "      <td>25594.000000</td>\n",
              "      <td>24414.000000</td>\n",
              "      <td>71768.0</td>\n",
              "      <td>21446.0</td>\n",
              "      <td>39763.0</td>\n",
              "      <td>24405.000000</td>\n",
              "      <td>39562.0</td>\n",
              "      <td>39444.000000</td>\n",
              "      <td>172644.00000</td>\n",
              "      <td>1.800000</td>\n",
              "      <td>103266.0</td>\n",
              "      <td>39334.0</td>\n",
              "      <td>57067.0</td>\n",
              "      <td>41326.0</td>\n",
              "      <td>1.770000</td>\n",
              "    </tr>\n",
              "  </tbody>\n",
              "</table>\n",
              "<p>20783 rows × 32 columns</p>\n",
              "</div>"
            ],
            "text/plain": [
              "           B365A        IWA  ...  away_player_9       BWH\n",
              "8276   17.000000  15.000000  ...        27512.0  1.150000\n",
              "13218   5.000000   4.500000  ...       270774.0  1.730000\n",
              "12389   1.620000   1.600000  ...       264842.0  5.750000\n",
              "16226   4.662282   4.150622  ...        69242.0  2.559263\n",
              "17143   4.662282   4.150622  ...        30526.0  2.559263\n",
              "...          ...        ...  ...            ...       ...\n",
              "21810   5.250000   5.600000  ...        43329.0  1.550000\n",
              "23992   2.000000   2.000000  ...       262592.0  3.900000\n",
              "14501   2.000000   1.900000  ...       109061.0  3.600000\n",
              "14555   2.880000   2.700000  ...       158581.0  2.350000\n",
              "11590   5.000000   4.300000  ...        41326.0  1.770000\n",
              "\n",
              "[20783 rows x 32 columns]"
            ]
          },
          "metadata": {
            "tags": []
          },
          "execution_count": 49
        }
      ]
    },
    {
      "cell_type": "code",
      "metadata": {
        "id": "5Hw14Fgz_DTI",
        "colab_type": "code",
        "outputId": "30da0fc5-c81b-417e-adb5-eb22d08ac1cd",
        "colab": {
          "base_uri": "https://localhost:8080/",
          "height": 170
        }
      },
      "source": [
        "#Se crea el modelo con variables más relevantes\n",
        "\n",
        "best_xgb_model = xgboost.XGBRegressor(colsample_bytree=0.4,\n",
        "                 gamma=0,                 \n",
        "                 learning_rate=0.07,\n",
        "                 max_depth=3,\n",
        "                 min_child_weight=1.5,\n",
        "                 n_estimators=10000,                                                                    \n",
        "                 reg_alpha=0.75,\n",
        "                 reg_lambda=0.45,\n",
        "                 subsample=0.6,\n",
        "                 seed=40)\n",
        "best_xgb_model.fit(x_trainXG,y_train)\n"
      ],
      "execution_count": 0,
      "outputs": [
        {
          "output_type": "stream",
          "text": [
            "[17:11:24] WARNING: /workspace/src/objective/regression_obj.cu:152: reg:linear is now deprecated in favor of reg:squarederror.\n"
          ],
          "name": "stdout"
        },
        {
          "output_type": "execute_result",
          "data": {
            "text/plain": [
              "XGBRegressor(base_score=0.5, booster='gbtree', colsample_bylevel=1,\n",
              "             colsample_bynode=1, colsample_bytree=0.4, gamma=0,\n",
              "             importance_type='gain', learning_rate=0.07, max_delta_step=0,\n",
              "             max_depth=3, min_child_weight=1.5, missing=None,\n",
              "             n_estimators=10000, n_jobs=1, nthread=None, objective='reg:linear',\n",
              "             random_state=0, reg_alpha=0.75, reg_lambda=0.45,\n",
              "             scale_pos_weight=1, seed=40, silent=None, subsample=0.6,\n",
              "             verbosity=1)"
            ]
          },
          "metadata": {
            "tags": []
          },
          "execution_count": 50
        }
      ]
    },
    {
      "cell_type": "code",
      "metadata": {
        "id": "zwTGBr8CvgEb",
        "colab_type": "code",
        "colab": {}
      },
      "source": [
        ""
      ],
      "execution_count": 0,
      "outputs": []
    },
    {
      "cell_type": "code",
      "metadata": {
        "id": "sv5PCNzwLMlt",
        "colab_type": "code",
        "colab": {}
      },
      "source": [
        "x_testXG=x_test[most_relevant_features]"
      ],
      "execution_count": 0,
      "outputs": []
    },
    {
      "cell_type": "code",
      "metadata": {
        "id": "w47ZwE-8CBnz",
        "colab_type": "code",
        "outputId": "49334c23-7c56-4891-8bab-4fd5e474e11f",
        "colab": {
          "base_uri": "https://localhost:8080/",
          "height": 34
        }
      },
      "source": [
        "#predict de XgBoosting\n",
        "predictionsXGBet = best_xgb_model.predict(x_testXG)\n",
        "\n",
        "# Calcular los errores absolutos\n",
        "errorsXGBet = abs(predictionsXGBet - y_test)\n",
        "maeXGBet =round(np.mean(errorsXGBet), 2)\n",
        "# Imprimir el error absoluto medio -mean absolute error- (mae)\n",
        "print('Mean Absolute Error:', maeXGBet )\n",
        "#Mean Absolute Error: 1.4 ."
      ],
      "execution_count": 0,
      "outputs": [
        {
          "output_type": "stream",
          "text": [
            "Mean Absolute Error: 1.4\n"
          ],
          "name": "stdout"
        }
      ]
    },
    {
      "cell_type": "code",
      "metadata": {
        "id": "YblBnFx4CEmb",
        "colab_type": "code",
        "outputId": "7ec33ca0-bfa9-4f95-be5e-3844ea1dcf75",
        "colab": {
          "base_uri": "https://localhost:8080/",
          "height": 34
        }
      },
      "source": [
        "#Ejecución del modelo xgboosting\n",
        "# Calcular el mean absolute percentage error (MAPE)\n",
        "mapeXGBet = 100 * (errorsXGBet / y_test)\n",
        "# Calcular y imprimir un accuracy\n",
        "accuracyXGBet = 100 - np.mean(mapeXGBet)\n",
        "print('Accuracy:', round(accuracyXGBet, 4), '%.')\n",
        "#Accuracy: 46.2329 %."
      ],
      "execution_count": 0,
      "outputs": [
        {
          "output_type": "stream",
          "text": [
            "Accuracy: 46.2329 %.\n"
          ],
          "name": "stdout"
        }
      ]
    },
    {
      "cell_type": "markdown",
      "metadata": {
        "id": "-yYtMMJ9iFiA",
        "colab_type": "text"
      },
      "source": [
        "# Comparativa y Conclusiones"
      ]
    },
    {
      "cell_type": "markdown",
      "metadata": {
        "id": "NAhWO0aJC6C3",
        "colab_type": "text"
      },
      "source": [
        "Comparativa de los 4 modelos"
      ]
    },
    {
      "cell_type": "code",
      "metadata": {
        "id": "Hbj1tgJ1C8Ct",
        "colab_type": "code",
        "outputId": "d06683de-5122-4bfe-bd6a-6834c4ad16d8",
        "colab": {
          "base_uri": "https://localhost:8080/",
          "height": 80
        }
      },
      "source": [
        "comparativa={\n",
        "    \"RFR, modelo 1\":[mae, accuracy],\n",
        "    \"RFR, modelo 2 (menos variables)\":[mae2, accuracy2],\n",
        "    \"xGBoosting\": [maeXGB , accuracyXGB],\n",
        "    \"xgBoosting Better\": [maeXGBet, accuracyXGBet]\n",
        "}\n",
        "\n",
        "comparacion = pd.DataFrame([comparativa], columns=comparativa.keys())\n",
        "comparacion"
      ],
      "execution_count": 0,
      "outputs": [
        {
          "output_type": "execute_result",
          "data": {
            "text/html": [
              "<div>\n",
              "<style scoped>\n",
              "    .dataframe tbody tr th:only-of-type {\n",
              "        vertical-align: middle;\n",
              "    }\n",
              "\n",
              "    .dataframe tbody tr th {\n",
              "        vertical-align: top;\n",
              "    }\n",
              "\n",
              "    .dataframe thead th {\n",
              "        text-align: right;\n",
              "    }\n",
              "</style>\n",
              "<table border=\"1\" class=\"dataframe\">\n",
              "  <thead>\n",
              "    <tr style=\"text-align: right;\">\n",
              "      <th></th>\n",
              "      <th>RFR, modelo 1</th>\n",
              "      <th>RFR, modelo 2 (menos variables)</th>\n",
              "      <th>xGBoosting</th>\n",
              "      <th>xgBoosting Better</th>\n",
              "    </tr>\n",
              "  </thead>\n",
              "  <tbody>\n",
              "    <tr>\n",
              "      <th>0</th>\n",
              "      <td>[1.31, 48.59304361470397]</td>\n",
              "      <td>[1.31, 48.59539682388975]</td>\n",
              "      <td>[1.4, 46.20128794998564]</td>\n",
              "      <td>[1.4, 46.23293244192448]</td>\n",
              "    </tr>\n",
              "  </tbody>\n",
              "</table>\n",
              "</div>"
            ],
            "text/plain": [
              "               RFR, modelo 1  ...         xgBoosting Better\n",
              "0  [1.31, 48.59304361470397]  ...  [1.4, 46.23293244192448]\n",
              "\n",
              "[1 rows x 4 columns]"
            ]
          },
          "metadata": {
            "tags": []
          },
          "execution_count": 54
        }
      ]
    },
    {
      "cell_type": "markdown",
      "metadata": {
        "id": "lVUPzmEcL0G9",
        "colab_type": "text"
      },
      "source": [
        "De acuerdo a las conclusiones de la comparativa entre modelos, se puede decir que, gracias a un mejor -menor- Mean Absolute Error, y a un mayor accuracy, ambos modelos de Random Forest Regressor (el primero de 84 variables, y el segundo de 27 variables, eliminando las que no eran tan relevantes para el modelo), son los mejores (El RFR de 27 variables es un poco mejor que el primero, pero por cifras decimales inperceptibles). \n",
        "\n",
        " El que hayan tenido casi exactamente los mismos resultados puede decir que las variables eliminadas no eran determinantes en lo absoluto para el modelo. \n",
        "\n"
      ]
    },
    {
      "cell_type": "code",
      "metadata": {
        "id": "fHNF7fgmPzkV",
        "colab_type": "code",
        "colab": {}
      },
      "source": [
        "#Referencias\n",
        "\n",
        "#feature importance https://towardsdatascience.com/explaining-feature-importance-by-example-of-a-random-forest-d9166011959e\n",
        "#XGBoostingRegressor https://www.kaggle.com/pablocastilla/predict-house-prices-with-xgboost-regression#Preparing-the-dataset\n",
        "#NA Treatment https://discuss.analyticsvidhya.com/t/what-should-be-the-allowed-percentage-of-missing-values/2456\n",
        "#RF https://towardsdatascience.com/random-forest-in-python-24d0893d51c0\n",
        "#regresión lineal https://datatofish.com/multiple-linear-regression-python/\n",
        "#pca https://towardsdatascience.com/pca-using-python-scikit-learn-e653f8989e60\n",
        "\n"
      ],
      "execution_count": 0,
      "outputs": []
    }
  ]
}